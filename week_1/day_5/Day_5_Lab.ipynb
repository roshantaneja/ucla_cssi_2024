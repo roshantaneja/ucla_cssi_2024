{
  "nbformat": 4,
  "nbformat_minor": 0,
  "metadata": {
    "colab": {
      "provenance": []
    },
    "kernelspec": {
      "name": "python3",
      "display_name": "Python 3"
    },
    "language_info": {
      "name": "python"
    }
  },
  "cells": [
    {
      "cell_type": "markdown",
      "source": [
        "# Day 5 Worksheet: Homework 2 Overview\n",
        "\n",
        "### What is Homework 2 Part 2 about?\n",
        "First, there is a lot of code in Homework 2 Part 2, but most of it is a demonstration of how certain functions/libraries can be used to implement and use linear regression models."
      ],
      "metadata": {
        "id": "X-6H_mwA9XmO"
      }
    },
    {
      "cell_type": "code",
      "source": [
        "# all the necessary imports for this notebook\n",
        "import numpy as np\n",
        "import pandas as pd"
      ],
      "metadata": {
        "id": "v4CoeJDr_G-0"
      },
      "execution_count": null,
      "outputs": []
    },
    {
      "cell_type": "markdown",
      "source": [
        "## 1. Understanding Array Shapes\n",
        "\n",
        "Consider the following dataset, where the $x$ values represent the feature, and the $y$ values represent the response.\n",
        "\n",
        "\\begin{equation*}\n",
        "(x , y) = \\{(1, 0), (2, 2), (3, 4), (5, 5)\\}\n",
        "\\end{equation*}\n",
        "\n",
        "How do we represent this dataset in Python? --> NumPy arrays!"
      ],
      "metadata": {
        "id": "uvmBd_d69xoK"
      }
    },
    {
      "cell_type": "code",
      "source": [
        "# First, we separate the dataset into x and y, representing them as numpy arrays\n",
        "x = np.array([1,2,3,5])\n",
        "y = np.array([0,2,4,5])\n",
        "x"
      ],
      "metadata": {
        "id": "EZTyTx_C97Dv",
        "colab": {
          "base_uri": "https://localhost:8080/"
        },
        "outputId": "8302b731-b612-4b6e-9f44-e451e0df0c3e"
      },
      "execution_count": null,
      "outputs": [
        {
          "output_type": "execute_result",
          "data": {
            "text/plain": [
              "array([1, 2, 3, 5])"
            ]
          },
          "metadata": {},
          "execution_count": 2
        }
      ]
    },
    {
      "cell_type": "code",
      "source": [
        "x.shape"
      ],
      "metadata": {
        "id": "wl92ckRdBnAT",
        "colab": {
          "base_uri": "https://localhost:8080/"
        },
        "outputId": "4baba473-ff45-4321-9c51-a3d3a9c380cc"
      },
      "execution_count": null,
      "outputs": [
        {
          "output_type": "execute_result",
          "data": {
            "text/plain": [
              "(4,)"
            ]
          },
          "metadata": {},
          "execution_count": 3
        }
      ]
    },
    {
      "cell_type": "markdown",
      "source": [
        "### What does this shape mean?\n",
        "The shape $(n,m)$ normally means that there are $n$ rows and $m$ columns in the 2d-array.\n",
        "\n",
        "However, when the shape is in the form $(n,)$, this means that it is a 1d-array with $n$ elements.\n",
        "\n",
        "When we have a numpy array, we can use the `.reshape(n,m)` method to change them into a different shape"
      ],
      "metadata": {
        "id": "BX6ZOaJkA5uy"
      }
    },
    {
      "cell_type": "code",
      "source": [
        "# Let's change our x 1d-array into a 2d-array, each one value per row\n",
        "x_reshaped = x.reshape(4,1)\n",
        "x_reshaped"
      ],
      "metadata": {
        "id": "RvrYhWE6A80Z",
        "colab": {
          "base_uri": "https://localhost:8080/"
        },
        "outputId": "8165908c-ed48-44dd-a23a-2402f4461fa9"
      },
      "execution_count": null,
      "outputs": [
        {
          "output_type": "execute_result",
          "data": {
            "text/plain": [
              "array([[1],\n",
              "       [2],\n",
              "       [3],\n",
              "       [5]])"
            ]
          },
          "metadata": {},
          "execution_count": 4
        }
      ]
    },
    {
      "cell_type": "markdown",
      "source": [
        "### Why reshaping arrays is important:\n",
        "The `sklearn` library has built-in models we can use such as\n",
        "\n",
        "```python\n",
        "lin_reg = LinearRegression().fit(X, y)\n",
        "```\n",
        "However, there is a constraint that the `X` must be a **2d-array**, and not a 1d-array. (There is no such constraint for `y`).\n",
        "\n",
        "This means that for our example\n",
        "```\n",
        "lin_reg = LinearRegression().fit(x, y)\n",
        "```\n",
        "would not work, because `x` has shape `(4,)`, which is a 1d-array\n",
        "\n",
        "Instead, we would need to use our reshaped array `x_reshaped` with shape `(4,1)`, which is a 2d-array.\n",
        "```\n",
        "lin_reg = LinearRegression.fit(x_reshaped, y)\n",
        "```"
      ],
      "metadata": {
        "id": "vfHB0yefDFKg"
      }
    },
    {
      "cell_type": "markdown",
      "source": [
        "### Your Turn:\n",
        "Consider the following dataset\n",
        "\\begin{equation*}\n",
        "(x , y) = \\{(2, 3), (4, 5), (5, 8)\\}\n",
        "\\end{equation*}\n",
        "Create two objects `x1` and `y1` that represent this dataset using numpy arrays, where  `x1` is in a shape that is compatible with `sklearn`\n",
        "\n",
        "`x1` should have shape `(3,1)` and `y1` should have shape `(3,)`"
      ],
      "metadata": {
        "id": "pe_J-rZiEZzR"
      }
    },
    {
      "cell_type": "code",
      "source": [
        "### Your code here ###(\n",
        "x1 = np.array([2,4,5]).reshape(3,1)\n",
        "y1 = np.array([3,5,8])\n",
        "x1.shape, y1.shape"
      ],
      "metadata": {
        "id": "cuNes83NEavK"
      },
      "execution_count": null,
      "outputs": []
    },
    {
      "cell_type": "markdown",
      "source": [
        "## 2. Working with Real Datasets\n",
        "We will be working with the student_scores dataset which we have already seen before."
      ],
      "metadata": {
        "id": "F-_WFGYGGBYq"
      }
    },
    {
      "cell_type": "code",
      "source": [
        "student_scores = pd.read_csv('https://drive.google.com/uc?id=1oakZCv7g3mlmCSdv9J8kdSaqO5_6dIOw')\n",
        "student_scores.head(10)"
      ],
      "metadata": {
        "id": "LMUY2iFzGDIH"
      },
      "execution_count": null,
      "outputs": []
    },
    {
      "cell_type": "markdown",
      "source": [
        "### Your turn: Create your feature 2d-array `X` with the \"Hours\" values, and the response 1d-array `y` with the \"Scores\" values\n",
        "\n",
        "#### `X` should have shape `(25,1)`, and `y` should have shape `(25,)`\n",
        "Remember that you can access a column of a Pandas dataframe by `df.column_name`\n",
        "or `df['column_name']`, but this column is a Pandas object. It must be converted into a numpy array before you can reshape them. You can do this by\n",
        "```\n",
        "np.array(df.column_name)\n",
        "```\n"
      ],
      "metadata": {
        "id": "RtW4ShlxHVRB"
      }
    },
    {
      "cell_type": "code",
      "source": [
        "### Your code here ###\n",
        "X = np.array(student_scores.Hours).reshape(25,1)\n",
        "y = student_scores.Scores\n",
        "X.shape, y.shape"
      ],
      "metadata": {
        "id": "ysfnw9yjGYdf"
      },
      "execution_count": null,
      "outputs": []
    },
    {
      "cell_type": "markdown",
      "source": [
        "### Your Turn: Fit a Linear Regression model to your data, and print out the test MSE"
      ],
      "metadata": {
        "id": "Q1qCC6XQJl1B"
      }
    },
    {
      "cell_type": "code",
      "source": [
        "from sklearn.linear_model import LinearRegression\n",
        "from sklearn.model_selection import train_test_split\n",
        "from sklearn.metrics import mean_squared_error\n",
        "\n",
        "X_train, X_test, y_train, y_test = train_test_split(X, y, test_size=0.2, random_state=42)"
      ],
      "metadata": {
        "id": "ngh213KMG4qC"
      },
      "execution_count": null,
      "outputs": []
    },
    {
      "cell_type": "code",
      "source": [
        "lin_reg = LinearRegression().fit(X_train,y_train)\n",
        "y_pred_test = lin_reg.predict(X_test)\n",
        "mse_test = mean_squared_error(y_pred_test, y_test)\n",
        "print('Test MSE is:', mse_test)"
      ],
      "metadata": {
        "id": "wfuQeH6_JN5c"
      },
      "execution_count": null,
      "outputs": []
    }
  ]
}