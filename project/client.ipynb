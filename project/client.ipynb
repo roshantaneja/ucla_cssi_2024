{
  "cells": [
    {
      "cell_type": "markdown",
      "metadata": {},
      "source": [
        "# Data Loading and Preprocessing"
      ]
    },
    {
      "cell_type": "code",
      "execution_count": null,
      "metadata": {
        "id": "8vDB26VuOyq2"
      },
      "outputs": [],
      "source": [
        "# Import necessary libraries\n",
        "import pandas as pd\n",
        "import numpy as np\n",
        "import seaborn as sns\n",
        "import matplotlib.pyplot as plt\n",
        "from sklearn.preprocessing import LabelEncoder, MinMaxScaler\n",
        "from sklearn.model_selection import train_test_split, cross_val_score\n",
        "from sklearn.linear_model import LinearRegression, LogisticRegression\n",
        "from sklearn.ensemble import RandomForestClassifier\n",
        "from sklearn.preprocessing import PolynomialFeatures, StandardScaler\n",
        "from sklearn.pipeline import make_pipeline\n",
        "from sklearn.neighbors import KNeighborsClassifier\n",
        "from sklearn.tree import DecisionTreeClassifier\n",
        "from sklearn.ensemble import RandomForestClassifier\n",
        "from sklearn.svm import SVC\n",
        "from sklearn.neural_network import MLPClassifier\n",
        "\n",
        "from sklearn.metrics import accuracy_score, precision_score, recall_score, f1_score, confusion_matrix, roc_curve, roc_auc_score\n",
        "\n",
        "import warnings\n",
        "warnings.filterwarnings(\"ignore\")"
      ]
    },
    {
      "cell_type": "code",
      "execution_count": null,
      "metadata": {
        "colab": {
          "base_uri": "https://localhost:8080/",
          "height": 260
        },
        "id": "JZY5Ia6KQQe5",
        "outputId": "1b48cc85-b996-4099-a1e0-63e9b6dd06cf"
      },
      "outputs": [],
      "source": [
        "# # Load the datasets\n",
        "train_data = pd.read_csv('train.csv')\n",
        "val_data = pd.read_csv('val.csv')\n",
        "test_data = pd.read_csv('test.csv')\n",
        "\n",
        "# # Combine train and val for preprocessing\n",
        "data = pd.concat([train_data, val_data], ignore_index=True)\n",
        "\n",
        "# Display the dataset\n",
        "data.head()\n"
      ]
    },
    {
      "cell_type": "code",
      "execution_count": null,
      "metadata": {
        "colab": {
          "base_uri": "https://localhost:8080/"
        },
        "id": "fpEtQU21D0U4",
        "outputId": "fa8bfa55-6b10-4392-f611-a05c5749742a"
      },
      "outputs": [],
      "source": [
        "#unique classes in dataset\n",
        "data['Dominant_Emotion'].value_counts()"
      ]
    },
    {
      "cell_type": "code",
      "execution_count": null,
      "metadata": {
        "colab": {
          "base_uri": "https://localhost:8080/",
          "height": 354
        },
        "id": "cNOAYJV8RgSs",
        "outputId": "100ff87c-25ac-4366-c997-20f6354fc6fd"
      },
      "outputs": [],
      "source": [
        "print(\"Summary statistics of the dataset:\")\n",
        "display(data.describe())"
      ]
    },
    {
      "cell_type": "code",
      "execution_count": null,
      "metadata": {
        "colab": {
          "base_uri": "https://localhost:8080/"
        },
        "id": "N0nhaYOYRy54",
        "outputId": "93a9e5e2-ffac-41f3-a42d-559fed78e764"
      },
      "outputs": [],
      "source": [
        "# Check for NaN values in the dataset\n",
        "nan_counts = data.isnull().sum()\n",
        "print(\"Count of NaN values in each column:\")\n",
        "print(nan_counts)"
      ]
    },
    {
      "cell_type": "code",
      "execution_count": null,
      "metadata": {},
      "outputs": [],
      "source": [
        "data['Platform'].value_counts()"
      ]
    },
    {
      "cell_type": "code",
      "execution_count": null,
      "metadata": {
        "id": "wwmBvfFRQs9i"
      },
      "outputs": [],
      "source": [
        "#Encode categorical variables\n",
        "label_encoders = {}\n",
        "for column in ['Gender', 'Platform']:\n",
        "    label_encoders[column] = LabelEncoder()\n",
        "    data[column] = label_encoders[column].fit_transform(data[column])\n",
        "\n",
        "\n"
      ]
    },
    {
      "cell_type": "code",
      "execution_count": null,
      "metadata": {},
      "outputs": [],
      "source": [
        "data['Platform'].value_counts()"
      ]
    },
    {
      "cell_type": "code",
      "execution_count": null,
      "metadata": {
        "colab": {
          "base_uri": "https://localhost:8080/",
          "height": 400
        },
        "id": "wWnC3_OdcA6-",
        "outputId": "2a9d27e7-d0a5-41ee-c297-b3d37e630d5a"
      },
      "outputs": [],
      "source": [
        "data.head(10)"
      ]
    },
    {
      "cell_type": "code",
      "execution_count": null,
      "metadata": {
        "colab": {
          "base_uri": "https://localhost:8080/"
        },
        "id": "oIPXgdccSOAm",
        "outputId": "8dc3ccca-dfce-406e-d958-117c989b60be"
      },
      "outputs": [],
      "source": [
        "data.columns"
      ]
    },
    {
      "cell_type": "code",
      "execution_count": null,
      "metadata": {
        "id": "XH-zM8C-Qvdt"
      },
      "outputs": [],
      "source": [
        "#Normalize numeric features\n",
        "scaler = MinMaxScaler()\n",
        "data[['Age', 'Daily_Usage_Time (minutes)', 'Posts_Per_Day', 'Likes_Received_Per_Day', 'Comments_Received_Per_Day', 'Messages_Sent_Per_Day']] = scaler.fit_transform(\n",
        "    data[['Age', 'Daily_Usage_Time (minutes)', 'Posts_Per_Day', 'Likes_Received_Per_Day', 'Comments_Received_Per_Day', 'Messages_Sent_Per_Day']])\n"
      ]
    },
    {
      "cell_type": "code",
      "execution_count": null,
      "metadata": {
        "id": "ONtV0mUUQxjz"
      },
      "outputs": [],
      "source": [
        "# Split the data back to train and validation 80:20\n",
        "train_data = data[:len(train_data)]\n",
        "val_data = data[len(train_data):]\n",
        "\n",
        "# Define features and target\n",
        "X_train = train_data.drop(columns=['User_ID', 'Dominant_Emotion'])\n",
        "y_train = train_data['Dominant_Emotion']\n",
        "X_val = val_data.drop(columns=['User_ID', 'Dominant_Emotion'])\n",
        "y_val = val_data['Dominant_Emotion']\n"
      ]
    },
    {
      "cell_type": "markdown",
      "metadata": {},
      "source": [
        "# Visualizations"
      ]
    },
    {
      "cell_type": "code",
      "execution_count": null,
      "metadata": {
        "colab": {
          "base_uri": "https://localhost:8080/",
          "height": 891
        },
        "id": "_WEd-N8PQ1cy",
        "outputId": "8e03d031-bae6-4d54-f479-db8da9c61b40"
      },
      "outputs": [],
      "source": [
        "# Visualization Correlation heatmap\n",
        "plt.figure(figsize=(10, 6))\n",
        "sns.heatmap(X_train.corr(), annot=True, cmap='Blues')\n",
        "plt.title('Correlation Heatmap')\n",
        "plt.show()"
      ]
    },
    {
      "cell_type": "code",
      "execution_count": null,
      "metadata": {
        "colab": {
          "base_uri": "https://localhost:8080/",
          "height": 564
        },
        "id": "AsCAwiYpQ4bE",
        "outputId": "739f20fc-f992-4ee6-dc7c-ed9415a6b758"
      },
      "outputs": [],
      "source": [
        "#Scatter plot: Daily_Usage_Time vs. Dominant_Emotion\n",
        "plt.figure(figsize=(10, 6))\n",
        "sns.scatterplot(x='Daily_Usage_Time (minutes)', y='Dominant_Emotion', data=data, hue='Dominant_Emotion')\n",
        "plt.title('Daily Usage Time vs. Dominant Emotion')\n",
        "plt.show()\n"
      ]
    },
    {
      "cell_type": "code",
      "execution_count": null,
      "metadata": {
        "colab": {
          "base_uri": "https://localhost:8080/",
          "height": 743
        },
        "id": "S0YBjT31Q69e",
        "outputId": "c75f0ab6-feee-4f38-f10e-d3030a08013d"
      },
      "outputs": [],
      "source": [
        "#Histograms\n",
        "data[['Daily_Usage_Time (minutes)', 'Posts_Per_Day', 'Likes_Received_Per_Day', 'Comments_Received_Per_Day', 'Messages_Sent_Per_Day']].hist(bins=30, figsize=(15, 10))\n",
        "plt.suptitle('Distribution of Social Media Usage and Mental Health Indicators')\n",
        "plt.show()\n"
      ]
    },
    {
      "cell_type": "code",
      "execution_count": null,
      "metadata": {},
      "outputs": [],
      "source": [
        "data['Dominant_Emotion'].value_counts()"
      ]
    },
    {
      "cell_type": "code",
      "execution_count": null,
      "metadata": {
        "id": "VBWyRZWFYmxu"
      },
      "outputs": [],
      "source": [
        "# Convert Dominant_Emotion column to numeric\n",
        "label_encoder_emotion = LabelEncoder()\n",
        "data['Dominant_Emotion'] = label_encoder_emotion.fit_transform(data['Dominant_Emotion'])"
      ]
    },
    {
      "cell_type": "code",
      "execution_count": null,
      "metadata": {},
      "outputs": [],
      "source": [
        "data['Dominant_Emotion'].value_counts()"
      ]
    },
    {
      "cell_type": "code",
      "execution_count": null,
      "metadata": {
        "id": "qrrb-se-Z0H1"
      },
      "outputs": [],
      "source": [
        "# Convert y_train and y_val to numeric using the same LabelEncoder for Dominant_Emotion\n",
        "y_train = label_encoder_emotion.transform(y_train)\n",
        "y_val = label_encoder_emotion.transform(y_val)\n"
      ]
    },
    {
      "cell_type": "code",
      "execution_count": null,
      "metadata": {
        "colab": {
          "base_uri": "https://localhost:8080/"
        },
        "id": "HTLTmZQaQ_L3",
        "outputId": "2e5667cc-782b-463b-9919-3a25ab44c0f9"
      },
      "outputs": [],
      "source": [
        "# Identify highly correlated feature\n",
        "correlation_matrix = data.corr()\n",
        "print(correlation_matrix['Dominant_Emotion'].sort_values(ascending=False))\n"
      ]
    },
    {
      "cell_type": "code",
      "execution_count": null,
      "metadata": {
        "colab": {
          "base_uri": "https://localhost:8080/"
        },
        "id": "ZnEJlpjjjAig",
        "outputId": "822ef43b-9462-4385-aa8d-deb82bca28e6"
      },
      "outputs": [],
      "source": [
        "y_val"
      ]
    },
    {
      "cell_type": "markdown",
      "metadata": {},
      "source": [
        "# Models In Question"
      ]
    },
    {
      "cell_type": "markdown",
      "metadata": {},
      "source": [
        "## Linear Regression"
      ]
    },
    {
      "cell_type": "code",
      "execution_count": null,
      "metadata": {
        "id": "b9oEKjUrZYsK"
      },
      "outputs": [],
      "source": [
        "#linear regression on dominant column\n",
        "lin_reg_gender = LinearRegression()\n",
        "lin_reg_gender.fit(X_train, y_train)\n",
        "\n",
        "# Make predictions\n",
        "y_pred_train = lin_reg_gender.predict(X_train)\n",
        "y_pred_val = lin_reg_gender.predict(X_val)"
      ]
    },
    {
      "cell_type": "code",
      "execution_count": null,
      "metadata": {
        "colab": {
          "base_uri": "https://localhost:8080/"
        },
        "id": "CVtxl793r_Zu",
        "outputId": "76f86919-a32c-4e77-de34-c73b86537e2c"
      },
      "outputs": [],
      "source": [
        "accuracy_train = accuracy_score(y_train, np.round(y_pred_train))\n",
        "precision_train = precision_score(y_train, np.round(y_pred_train), average='weighted')\n",
        "recall_train = recall_score(y_train, np.round(y_pred_train), average='weighted')\n",
        "f1_train = f1_score(y_train, np.round(y_pred_train), average='weighted')\n",
        "\n",
        "accuracy_val = accuracy_score(y_val, np.round(y_pred_val))\n",
        "precision_val = precision_score(y_val, np.round(y_pred_val), average='weighted')\n",
        "recall_val = recall_score(y_val, np.round(y_pred_val), average='weighted')\n",
        "f1_val = f1_score(y_val, np.round(y_pred_val), average='weighted')\n",
        "\n",
        "print(\"Training set metrics:\")\n",
        "print(f'Accuracy: {accuracy_train:.4f}')\n",
        "print(f'Precision: {precision_train:.4f}')\n",
        "print(f'Recall: {recall_train:.4f}')\n",
        "print(f'F1 Score: {f1_train:.4f}')\n",
        "\n",
        "print(\"Validation set metrics:\")\n",
        "print(f'Accuracy: {accuracy_val:.4f}')\n",
        "print(f'Precision: {precision_val:.4f}')\n",
        "print(f'Recall: {recall_val:.4f}')\n",
        "print(f'F1 Score: {f1_val:.4f}')"
      ]
    },
    {
      "cell_type": "markdown",
      "metadata": {},
      "source": [
        "## Multivariate Linear Regression"
      ]
    },
    {
      "cell_type": "code",
      "execution_count": null,
      "metadata": {
        "id": "k08akjseRB6W"
      },
      "outputs": [],
      "source": [
        "## Multivariate regression\n",
        "lin_reg_multi = LinearRegression()\n",
        "lin_reg_multi.fit(X_train, y_train)\n",
        "\n",
        "# Make predictions\n",
        "y_pred_train_multi = lin_reg_multi.predict(X_train)\n",
        "y_pred_val_multi = lin_reg_multi.predict(X_val)\n",
        "\n",
        "# display the confusion matrix with the proper labels\n",
        "cm_knn_euclidean = confusion_matrix(y_val, y_pred_val_knn_euclidean)\n",
        "cm_knn_euclidean_df = pd.DataFrame(cm_knn_euclidean, index = label_encoder_emotion.classes_, columns = label_encoder_emotion.classes_)\n",
        "\n",
        "plot = sns.heatmap(cm_knn_euclidean_df, annot=True, cmap='Blues')"
      ]
    },
    {
      "cell_type": "code",
      "execution_count": null,
      "metadata": {
        "colab": {
          "base_uri": "https://localhost:8080/"
        },
        "id": "r8FlUsLKtPso",
        "outputId": "2d6ef5e9-cdb2-48f8-9a73-b2285e567af2"
      },
      "outputs": [],
      "source": [
        "accuracy_train = accuracy_score(y_train, np.round(y_pred_train_multi))\n",
        "precision_train = precision_score(y_train, np.round(y_pred_train_multi), average='weighted')\n",
        "recall_train = recall_score(y_train, np.round(y_pred_train_multi), average='weighted')\n",
        "f1_train = f1_score(y_train, np.round(y_pred_train_multi), average='weighted')\n",
        "\n",
        "accuracy_val = accuracy_score(y_val, np.round(y_pred_val_multi))\n",
        "precision_val = precision_score(y_val, np.round(y_pred_val_multi), average='weighted')\n",
        "recall_val = recall_score(y_val, np.round(y_pred_val_multi), average='weighted')\n",
        "f1_val = f1_score(y_val, np.round(y_pred_val_multi), average='weighted')\n",
        "\n",
        "print(\"Training set metrics:\")\n",
        "print(f'Accuracy: {accuracy_train:.4f}')\n",
        "print(f'Precision: {precision_train:.4f}')\n",
        "print(f'Recall: {recall_train:.4f}')\n",
        "print(f'F1 Score: {f1_train:.4f}')\n",
        "\n",
        "print(\"Validation set metrics:\")\n",
        "print(f'Accuracy: {accuracy_val:.4f}')\n",
        "print(f'Precision: {precision_val:.4f}')\n",
        "print(f'Recall: {recall_val:.4f}')\n",
        "print(f'F1 Score: {f1_val:.4f}')"
      ]
    },
    {
      "cell_type": "markdown",
      "metadata": {},
      "source": [
        "## Polynomial Regression"
      ]
    },
    {
      "cell_type": "code",
      "execution_count": null,
      "metadata": {
        "id": "32VLg0KZREq1"
      },
      "outputs": [],
      "source": [
        "## Polynomial regression\n",
        "degree = 3\n",
        "poly = PolynomialFeatures(degree)\n",
        "lin_reg_poly = make_pipeline(poly, LinearRegression())\n",
        "\n",
        "# Fit the polynomial regression model\n",
        "lin_reg_poly.fit(X_train, y_train)\n",
        "\n",
        "# Make predictions\n",
        "y_pred_train_poly = lin_reg_poly.predict(X_train)\n",
        "y_pred_val_poly = lin_reg_poly.predict(X_val)"
      ]
    },
    {
      "cell_type": "code",
      "execution_count": null,
      "metadata": {
        "colab": {
          "base_uri": "https://localhost:8080/"
        },
        "id": "8FJBuo36uEc5",
        "outputId": "10f3cae1-63cc-4f95-ff31-46f14d1a1b23"
      },
      "outputs": [],
      "source": [
        "# Compute evaluation metrics\n",
        "accuracy_train_poly = accuracy_score(y_train, np.round(y_pred_train_poly))\n",
        "precision_train_poly = precision_score(y_train, np.round(y_pred_train_poly), average='weighted')\n",
        "recall_train_poly = recall_score(y_train, np.round(y_pred_train_poly), average='weighted')\n",
        "f1_train_poly = f1_score(y_train, np.round(y_pred_train_poly), average='weighted')\n",
        "\n",
        "accuracy_val_poly = accuracy_score(y_val, np.round(y_pred_val_poly))\n",
        "precision_val_poly = precision_score(y_val, np.round(y_pred_val_poly), average='weighted')\n",
        "recall_val_poly = recall_score(y_val, np.round(y_pred_val_poly), average='weighted')\n",
        "f1_val_poly = f1_score(y_val, np.round(y_pred_val_poly), average='weighted')\n",
        "\n",
        "print(\"Training set metrics (Polynomial Regression):\")\n",
        "print(f'Accuracy: {accuracy_train_poly:.4f}')\n",
        "print(f'Precision: {precision_train_poly:.4f}')\n",
        "print(f'Recall: {recall_train_poly:.4f}')\n",
        "print(f'F1 Score: {f1_train_poly:.4f}')\n",
        "\n",
        "print(\"Validation set metrics (Polynomial Regression):\")\n",
        "print(f'Accuracy: {accuracy_val_poly:.4f}')\n",
        "print(f'Precision: {precision_val_poly:.4f}')\n",
        "print(f'Recall: {recall_val_poly:.4f}')\n",
        "print(f'F1 Score: {f1_val_poly:.4f}')"
      ]
    },
    {
      "cell_type": "markdown",
      "metadata": {},
      "source": [
        "## Logistic Regression"
      ]
    },
    {
      "cell_type": "code",
      "execution_count": null,
      "metadata": {
        "id": "BxQsMtBYRHK-"
      },
      "outputs": [],
      "source": [
        "# Logistic Regression\n",
        "log_reg = LogisticRegression(max_iter=1000)\n",
        "log_reg.fit(X_train, y_train)\n",
        "\n",
        "# Make predictions\n",
        "y_pred_train_log = log_reg.predict(X_train)\n",
        "y_pred_val_log = log_reg.predict(X_val)\n",
        "\n",
        "# display the confusion matrix with the proper labels\n",
        "cm_log = confusion_matrix(y_val, y_pred_val_log)\n",
        "cm_log_df = pd.DataFrame(cm_log, index = label_encoder_emotion.classes_, columns = label_encoder_emotion.classes_)\n",
        "\n",
        "plot = sns.heatmap(cm_log_df, annot=True, cmap='Blues')"
      ]
    },
    {
      "cell_type": "code",
      "execution_count": null,
      "metadata": {
        "colab": {
          "base_uri": "https://localhost:8080/"
        },
        "id": "LG1J6VDduZnU",
        "outputId": "77e59fae-fd3c-458a-8d3f-995804c36a5c"
      },
      "outputs": [],
      "source": [
        "# Compute evaluation metrics\n",
        "accuracy_train_log = accuracy_score(y_train, y_pred_train_log)\n",
        "precision_train_log = precision_score(y_train, y_pred_train_log, average='weighted')\n",
        "recall_train_log = recall_score(y_train, y_pred_train_log, average='weighted')\n",
        "f1_train_log = f1_score(y_train, y_pred_train_log, average='weighted')\n",
        "\n",
        "accuracy_val_log = accuracy_score(y_val, y_pred_val_log)\n",
        "precision_val_log = precision_score(y_val, y_pred_val_log, average='weighted')\n",
        "recall_val_log = recall_score(y_val, y_pred_val_log, average='weighted')\n",
        "f1_val_log = f1_score(y_val, y_pred_val_log, average='weighted')\n",
        "\n",
        "print(\"Training set metrics (Logistic Regression):\")\n",
        "print(f'Accuracy: {accuracy_train_log:.4f}')\n",
        "print(f'Precision: {precision_train_log:.4f}')\n",
        "print(f'Recall: {recall_train_log:.4f}')\n",
        "print(f'F1 Score: {f1_train_log:.4f}')\n",
        "\n",
        "print(\"Validation set metrics (Logistic Regression):\")\n",
        "print(f'Accuracy: {accuracy_val_log:.4f}')\n",
        "print(f'Precision: {precision_val_log:.4f}')\n",
        "print(f'Recall: {recall_val_log:.4f}')\n",
        "print(f'F1 Score: {f1_val_log:.4f}')"
      ]
    },
    {
      "cell_type": "markdown",
      "metadata": {},
      "source": [
        "## KNN (Euclidean Distance)"
      ]
    },
    {
      "cell_type": "code",
      "execution_count": null,
      "metadata": {
        "id": "hw--ze6LRJbG"
      },
      "outputs": [],
      "source": [
        "# KNN with Euclidean Distance\n",
        "knn_euclidean = KNeighborsClassifier(n_neighbors=5, metric='euclidean')\n",
        "knn_euclidean.fit(X_train, y_train)\n",
        "\n",
        "# Make predictions\n",
        "y_pred_train_knn_euclidean = knn_euclidean.predict(X_train)\n",
        "y_pred_val_knn_euclidean = knn_euclidean.predict(X_val)\n",
        "\n",
        "# display the confusion matrix with the proper labels\n",
        "cm_knn_euclidean = confusion_matrix(y_val, y_pred_val_knn_euclidean)\n",
        "cm_knn_euclidean_df = pd.DataFrame(cm_knn_euclidean, index = label_encoder_emotion.classes_, columns = label_encoder_emotion.classes_)\n",
        "\n",
        "plot = sns.heatmap(cm_knn_euclidean_df, annot=True, cmap='Blues')\n"
      ]
    },
    {
      "cell_type": "code",
      "execution_count": null,
      "metadata": {
        "colab": {
          "base_uri": "https://localhost:8080/"
        },
        "id": "d7IwqRVVuuFT",
        "outputId": "7656525a-5831-43af-ea20-739dad52ea0b"
      },
      "outputs": [],
      "source": [
        "# Compute evaluation metrics\n",
        "accuracy_train_knn_euclidean = accuracy_score(y_train, y_pred_train_knn_euclidean)\n",
        "precision_train_knn_euclidean = precision_score(y_train, y_pred_train_knn_euclidean, average='weighted')\n",
        "recall_train_knn_euclidean = recall_score(y_train, y_pred_train_knn_euclidean, average='weighted')\n",
        "f1_train_knn_euclidean = f1_score(y_train, y_pred_train_knn_euclidean, average='weighted')\n",
        "\n",
        "accuracy_val_knn_euclidean = accuracy_score(y_val, y_pred_val_knn_euclidean)\n",
        "precision_val_knn_euclidean = precision_score(y_val, y_pred_val_knn_euclidean, average='weighted')\n",
        "recall_val_knn_euclidean = recall_score(y_val, y_pred_val_knn_euclidean, average='weighted')\n",
        "f1_val_knn_euclidean = f1_score(y_val, y_pred_val_knn_euclidean, average='weighted')\n",
        "\n",
        "print(\"Training set metrics (KNN with Euclidean Distance):\")\n",
        "print(f'Accuracy: {accuracy_train_knn_euclidean:.4f}')\n",
        "print(f'Precision: {precision_train_knn_euclidean:.4f}')\n",
        "print(f'Recall: {recall_train_knn_euclidean:.4f}')\n",
        "print(f'F1 Score: {f1_train_knn_euclidean:.4f}')\n",
        "\n",
        "print(\"Validation set metrics (KNN with Euclidean Distance):\")\n",
        "print(f'Accuracy: {accuracy_val_knn_euclidean:.4f}')\n",
        "print(f'Precision: {precision_val_knn_euclidean:.4f}')\n",
        "print(f'Recall: {recall_val_knn_euclidean:.4f}')\n",
        "print(f'F1 Score: {f1_val_knn_euclidean:.4f}')"
      ]
    },
    {
      "cell_type": "markdown",
      "metadata": {},
      "source": [
        "## KNN (Manhattan Distance)"
      ]
    },
    {
      "cell_type": "code",
      "execution_count": null,
      "metadata": {
        "id": "TMf-FeNOROyc"
      },
      "outputs": [],
      "source": [
        "#KNN with Manhattan Distance\n",
        "knn_manhattan = KNeighborsClassifier(n_neighbors=5, metric='manhattan')\n",
        "knn_manhattan.fit(X_train, y_train)\n",
        "\n",
        "# Make predictions\n",
        "y_pred_train_knn_manhattan = knn_manhattan.predict(X_train)\n",
        "y_pred_val_knn_manhattan = knn_manhattan.predict(X_val)\n",
        "\n",
        "# display the confusion matrix with the proper labels\n",
        "cm_knn_manhattan = confusion_matrix(y_val, y_pred_val_knn_manhattan)\n",
        "cm_knn_manhattan_df = pd.DataFrame(cm_knn_manhattan, index = label_encoder_emotion.classes_, columns = label_encoder_emotion.classes_)\n",
        "\n",
        "plot = sns.heatmap(cm_knn_manhattan_df, annot=True, cmap='Blues')"
      ]
    },
    {
      "cell_type": "code",
      "execution_count": null,
      "metadata": {
        "colab": {
          "base_uri": "https://localhost:8080/"
        },
        "id": "uoXVzhGtu6Ck",
        "outputId": "0381eb4a-2c10-4dca-db93-3f37d6c05e47"
      },
      "outputs": [],
      "source": [
        "# Compute evaluation metrics\n",
        "accuracy_train_knn_manhattan = accuracy_score(y_train, y_pred_train_knn_manhattan)\n",
        "precision_train_knn_manhattan = precision_score(y_train, y_pred_train_knn_manhattan, average='weighted')\n",
        "recall_train_knn_manhattan = recall_score(y_train, y_pred_train_knn_manhattan, average='weighted')\n",
        "f1_train_knn_manhattan = f1_score(y_train, y_pred_train_knn_manhattan, average='weighted')\n",
        "\n",
        "accuracy_val_knn_manhattan = accuracy_score(y_val, y_pred_val_knn_manhattan)\n",
        "precision_val_knn_manhattan = precision_score(y_val, y_pred_val_knn_manhattan, average='weighted')\n",
        "recall_val_knn_manhattan = recall_score(y_val, y_pred_val_knn_manhattan, average='weighted')\n",
        "f1_val_knn_manhattan = f1_score(y_val, y_pred_val_knn_manhattan, average='weighted')\n",
        "\n",
        "print(\"Training set metrics (KNN with Manhattan Distance):\")\n",
        "print(f'Accuracy: {accuracy_train_knn_manhattan:.4f}')\n",
        "print(f'Precision: {precision_train_knn_manhattan:.4f}')\n",
        "print(f'Recall: {recall_train_knn_manhattan:.4f}')\n",
        "print(f'F1 Score: {f1_train_knn_manhattan:.4f}')\n",
        "\n",
        "print(\"Validation set metrics (KNN with Manhattan Distance):\")\n",
        "print(f'Accuracy: {accuracy_val_knn_manhattan:.4f}')\n",
        "print(f'Precision: {precision_val_knn_manhattan:.4f}')\n",
        "print(f'Recall: {recall_val_knn_manhattan:.4f}')\n",
        "print(f'F1 Score: {f1_val_knn_manhattan:.4f}')"
      ]
    },
    {
      "cell_type": "markdown",
      "metadata": {},
      "source": [
        "## KNN (Cosine Distance)"
      ]
    },
    {
      "cell_type": "code",
      "execution_count": null,
      "metadata": {
        "id": "y676ZwTeRPj6"
      },
      "outputs": [],
      "source": [
        "# KNN with Cosine Distance\n",
        "knn_cosine = KNeighborsClassifier(n_neighbors=5, metric='cosine')\n",
        "knn_cosine.fit(X_train, y_train)\n",
        "\n",
        "# Make predictions\n",
        "y_pred_train_knn_cosine = knn_cosine.predict(X_train)\n",
        "y_pred_val_knn_cosine = knn_cosine.predict(X_val)\n",
        "\n",
        "# display the confusion matrix with the proper labels\n",
        "cm_knn_cosine = confusion_matrix(y_val, y_pred_val_knn_cosine)\n",
        "cm_knn_cosine_df = pd.DataFrame(cm_knn_cosine, index = label_encoder_emotion.classes_, columns = label_encoder_emotion.classes_)\n",
        "\n",
        "plot = sns.heatmap(cm_knn_cosine_df, annot=True, cmap='Blues')\n"
      ]
    },
    {
      "cell_type": "code",
      "execution_count": null,
      "metadata": {
        "colab": {
          "base_uri": "https://localhost:8080/"
        },
        "id": "MW9ApOpmwOT9",
        "outputId": "bcd94bbd-239d-404c-8eef-1cd489a75541"
      },
      "outputs": [],
      "source": [
        "# Compute evaluation metrics\n",
        "accuracy_train_knn_cosine = accuracy_score(y_train, y_pred_train_knn_cosine)\n",
        "precision_train_knn_cosine = precision_score(y_train, y_pred_train_knn_cosine, average='weighted')\n",
        "recall_train_knn_cosine = recall_score(y_train, y_pred_train_knn_cosine, average='weighted')\n",
        "f1_train_knn_cosine = f1_score(y_train, y_pred_train_knn_cosine, average='weighted')\n",
        "\n",
        "accuracy_val_knn_cosine = accuracy_score(y_val, y_pred_val_knn_cosine)\n",
        "precision_val_knn_cosine = precision_score(y_val, y_pred_val_knn_cosine, average='weighted')\n",
        "recall_val_knn_cosine = recall_score(y_val, y_pred_val_knn_cosine, average='weighted')\n",
        "f1_val_knn_cosine = f1_score(y_val, y_pred_val_knn_cosine, average='weighted')\n",
        "\n",
        "print(\"Training set metrics (KNN with Cosine Distance):\")\n",
        "print(f'Accuracy: {accuracy_train_knn_cosine:.4f}')\n",
        "print(f'Precision: {precision_train_knn_cosine:.4f}')\n",
        "print(f'Recall: {recall_train_knn_cosine:.4f}')\n",
        "print(f'F1 Score: {f1_train_knn_cosine:.4f}')\n",
        "\n",
        "print(\"Validation set metrics (KNN with Cosine Distance):\")\n",
        "print(f'Accuracy: {accuracy_val_knn_cosine:.4f}')\n",
        "print(f'Precision: {precision_val_knn_cosine:.4f}')\n",
        "print(f'Recall: {recall_val_knn_cosine:.4f}')\n",
        "print(f'F1 Score: {f1_val_knn_cosine:.4f}')"
      ]
    },
    {
      "cell_type": "markdown",
      "metadata": {},
      "source": [
        "## Decision Tree"
      ]
    },
    {
      "cell_type": "code",
      "execution_count": null,
      "metadata": {
        "id": "-98-V_Z-RR3C"
      },
      "outputs": [],
      "source": [
        "# Decision Trees\n",
        "dt = DecisionTreeClassifier()\n",
        "dt.fit(X_train, y_train)\n",
        "\n",
        "# Make predictions\n",
        "y_pred_train_dt = dt.predict(X_train)\n",
        "y_pred_val_dt = dt.predict(X_val)\n",
        "\n",
        "# display the confusion matrix with the proper labels\n",
        "cm_dt = confusion_matrix(y_val, y_pred_val_dt)\n",
        "cm_dt_df = pd.DataFrame(cm_dt, index = label_encoder_emotion.classes_, columns = label_encoder_emotion.classes_)\n",
        "\n",
        "plot = sns.heatmap(cm_dt_df, annot=True, cmap='Blues')"
      ]
    },
    {
      "cell_type": "code",
      "execution_count": null,
      "metadata": {
        "colab": {
          "base_uri": "https://localhost:8080/"
        },
        "id": "81QBatEFwdGk",
        "outputId": "bd699fa4-75ce-496f-fc39-54ecdc362d71"
      },
      "outputs": [],
      "source": [
        "# Compute evaluation metrics\n",
        "accuracy_train_dt = accuracy_score(y_train, y_pred_train_dt)\n",
        "precision_train_dt = precision_score(y_train, y_pred_train_dt, average='weighted')\n",
        "recall_train_dt = recall_score(y_train, y_pred_train_dt, average='weighted')\n",
        "f1_train_dt = f1_score(y_train, y_pred_train_dt, average='weighted')\n",
        "\n",
        "accuracy_val_dt = accuracy_score(y_val, y_pred_val_dt)\n",
        "precision_val_dt = precision_score(y_val, y_pred_val_dt, average='weighted')\n",
        "recall_val_dt = recall_score(y_val, y_pred_val_dt, average='weighted')\n",
        "f1_val_dt = f1_score(y_val, y_pred_val_dt, average='weighted')\n",
        "\n",
        "print(\"Training set metrics (Decision Trees):\")\n",
        "print(f'Accuracy: {accuracy_train_dt:.4f}')\n",
        "print(f'Precision: {precision_train_dt:.4f}')\n",
        "print(f'Recall: {recall_train_dt:.4f}')\n",
        "print(f'F1 Score: {f1_train_dt:.4f}')\n",
        "\n",
        "print(\"Validation set metrics (Decision Trees):\")\n",
        "print(f'Accuracy: {accuracy_val_dt:.4f}')\n",
        "print(f'Precision: {precision_val_dt:.4f}')\n",
        "print(f'Recall: {recall_val_dt:.4f}')\n",
        "print(f'F1 Score: {f1_val_dt:.4f}')"
      ]
    },
    {
      "cell_type": "markdown",
      "metadata": {},
      "source": [
        "## Random Forest"
      ]
    },
    {
      "cell_type": "code",
      "execution_count": null,
      "metadata": {
        "id": "9Iy2KOLJRUj4"
      },
      "outputs": [],
      "source": [
        "# Additional evaluation: ROC curve for the best model (assuming Random Forest for demonstration)\n",
        "rf = RandomForestClassifier(n_estimators=100, random_state=42)\n",
        "rf.fit(X_train, y_train)\n",
        "\n",
        "# Make predictions\n",
        "y_pred_train_rf = rf.predict(X_train)\n",
        "y_pred_val_rf = rf.predict(X_val)\n",
        "\n",
        "# display the confusion matrix with the proper labels\n",
        "cm_rf = confusion_matrix(y_val, y_pred_val_rf)\n",
        "cm_rf_df = pd.DataFrame(cm_rf, index = label_encoder_emotion.classes_, columns = label_encoder_emotion.classes_)\n",
        "\n",
        "plot = sns.heatmap(cm_rf_df, annot=True, cmap='Blues')\n"
      ]
    },
    {
      "cell_type": "code",
      "execution_count": null,
      "metadata": {
        "colab": {
          "base_uri": "https://localhost:8080/"
        },
        "id": "o-TzYrm2w3Ur",
        "outputId": "2ece104d-a485-463f-b4c7-49ec8a833000"
      },
      "outputs": [],
      "source": [
        "# Compute evaluation metrics\n",
        "accuracy_train_rf = accuracy_score(y_train, y_pred_train_rf)\n",
        "precision_train_rf = precision_score(y_train, y_pred_train_rf, average='weighted')\n",
        "recall_train_rf = recall_score(y_train, y_pred_train_rf, average='weighted')\n",
        "f1_train_rf = f1_score(y_train, y_pred_train_rf, average='weighted')\n",
        "\n",
        "accuracy_val_rf = accuracy_score(y_val, y_pred_val_rf)\n",
        "precision_val_rf = precision_score(y_val, y_pred_val_rf, average='weighted')\n",
        "recall_val_rf = recall_score(y_val, y_pred_val_rf, average='weighted')\n",
        "f1_val_rf = f1_score(y_val, y_pred_val_rf, average='weighted')\n",
        "\n",
        "print(\"Training set metrics (Random Forest):\")\n",
        "print(f'Accuracy: {accuracy_train_rf:.4f}')\n",
        "print(f'Precision: {precision_train_rf:.4f}')\n",
        "print(f'Recall: {recall_train_rf:.4f}')\n",
        "print(f'F1 Score: {f1_train_rf:.4f}')\n",
        "\n",
        "print(\"Validation set metrics (Random Forest):\")\n",
        "print(f'Accuracy: {accuracy_val_rf:.4f}')\n",
        "print(f'Precision: {precision_val_rf:.4f}')\n",
        "print(f'Recall: {recall_val_rf:.4f}')\n",
        "print(f'F1 Score: {f1_val_rf:.4f}')"
      ]
    },
    {
      "cell_type": "markdown",
      "metadata": {},
      "source": [
        "## Support Vector Machine"
      ]
    },
    {
      "cell_type": "code",
      "execution_count": null,
      "metadata": {},
      "outputs": [],
      "source": [
        "svm = make_pipeline(StandardScaler(), SVC(gamma='auto'))\n",
        "svm.fit(X_train, y_train)\n",
        "\n",
        "# Make predictions\n",
        "y_pred_train_svm = svm.predict(X_train)\n",
        "y_pred_val_svm = svm.predict(X_val)\n",
        "\n",
        "# display the confusion matrix with the proper labels\n",
        "cm_svm = confusion_matrix(y_val, y_pred_val_svm)\n",
        "cm_svm_df = pd.DataFrame(cm_svm, index = label_encoder_emotion.classes_, columns = label_encoder_emotion.classes_)\n",
        "\n",
        "plot = sns.heatmap(cm_svm_df, annot=True, cmap='Blues')"
      ]
    },
    {
      "cell_type": "code",
      "execution_count": null,
      "metadata": {},
      "outputs": [],
      "source": [
        "# Compute evaluation metrics\n",
        "accuracy_train_svm = accuracy_score(y_train, y_pred_train_svm)\n",
        "precision_train_svm = precision_score(y_train, y_pred_train_svm, average='weighted')\n",
        "recall_train_svm = recall_score(y_train, y_pred_train_svm, average='weighted')\n",
        "f1_train_svm = f1_score(y_train, y_pred_train_svm, average='weighted')\n",
        "\n",
        "accuracy_val_svm = accuracy_score(y_val, y_pred_val_svm)\n",
        "precision_val_svm = precision_score(y_val, y_pred_val_svm, average='weighted')\n",
        "recall_val_svm = recall_score(y_val, y_pred_val_svm, average='weighted')\n",
        "f1_val_svm = f1_score(y_val, y_pred_val_svm, average='weighted')\n",
        "\n",
        "print(\"Training set metrics (Random Forest):\")\n",
        "print(f'Accuracy: {accuracy_train_svm:.4f}')\n",
        "print(f'Precision: {precision_train_svm:.4f}')\n",
        "print(f'Recall: {recall_train_svm:.4f}')\n",
        "print(f'F1 Score: {f1_train_svm:.4f}')\n",
        "\n",
        "print(\"Validation set metrics (Random Forest):\")\n",
        "print(f'Accuracy: {accuracy_val_svm:.4f}')\n",
        "print(f'Precision: {precision_val_svm:.4f}')\n",
        "print(f'Recall: {recall_val_svm:.4f}')\n",
        "print(f'F1 Score: {f1_val_svm:.4f}')"
      ]
    },
    {
      "cell_type": "markdown",
      "metadata": {},
      "source": [
        "## Multi-Layer Perceptron Neural Network"
      ]
    },
    {
      "cell_type": "code",
      "execution_count": null,
      "metadata": {},
      "outputs": [],
      "source": [
        "# Additional evaluation: ROC curve for the best model (assuming Random Forest for demonstration)\n",
        "mlp = MLPClassifier(solver='lbfgs', alpha=1e-5, hidden_layer_sizes=(128, 64, 32, 32), random_state=42)\n",
        "mlp.fit(X_train, y_train)\n",
        "\n",
        "# Make predictions\n",
        "y_pred_train_mlp = mlp.predict(X_train)\n",
        "y_pred_val_mlp = mlp.predict(X_val)\n",
        "\n",
        "# display the confusion matrix with the proper labels\n",
        "cm_mlp = confusion_matrix(y_val, y_pred_val_mlp)\n",
        "cm_mlp_df = pd.DataFrame(cm_mlp, index = label_encoder_emotion.classes_, columns = label_encoder_emotion.classes_)\n",
        "\n",
        "plot = sns.heatmap(cm_mlp_df, annot=True, cmap='Blues')"
      ]
    },
    {
      "cell_type": "code",
      "execution_count": null,
      "metadata": {},
      "outputs": [],
      "source": [
        "# Compute evaluation metrics\n",
        "accuracy_train_mlp = accuracy_score(y_train, y_pred_train_mlp)\n",
        "precision_train_mlp = precision_score(y_train, y_pred_train_mlp, average='weighted')\n",
        "recall_train_mlp = recall_score(y_train, y_pred_train_mlp, average='weighted')\n",
        "f1_train_mlp = f1_score(y_train, y_pred_train_mlp, average='weighted')\n",
        "\n",
        "accuracy_val_mlp = accuracy_score(y_val, y_pred_val_mlp)\n",
        "precision_val_mlp = precision_score(y_val, y_pred_val_mlp, average='weighted')\n",
        "recall_val_mlp = recall_score(y_val, y_pred_val_mlp, average='weighted')\n",
        "f1_val_mlp = f1_score(y_val, y_pred_val_mlp, average='weighted')\n",
        "\n",
        "print(\"Training set metrics (Random Forest):\")\n",
        "print(f'Accuracy: {accuracy_train_mlp:.4f}')\n",
        "print(f'Precision: {precision_train_mlp:.4f}')\n",
        "print(f'Recall: {recall_train_mlp:.4f}')\n",
        "print(f'F1 Score: {f1_train_mlp:.4f}')\n",
        "\n",
        "print(\"Validation set metrics (Random Forest):\")\n",
        "print(f'Accuracy: {accuracy_val_mlp:.4f}')\n",
        "print(f'Precision: {precision_val_mlp:.4f}')\n",
        "print(f'Recall: {recall_val_mlp:.4f}')\n",
        "print(f'F1 Score: {f1_val_mlp:.4f}')"
      ]
    },
    {
      "cell_type": "markdown",
      "metadata": {},
      "source": [
        "## Neural Network with Keras"
      ]
    },
    {
      "cell_type": "code",
      "execution_count": null,
      "metadata": {},
      "outputs": [],
      "source": [
        "# import keras\n",
        "# from keras.models import Sequential\n",
        "# from keras.layers import Dense\n",
        "\n",
        "# model = Sequential([\n",
        "#     Dense(128, activation=\"relu\"),\n",
        "#     Dense(64, activation=\"relu\"),\n",
        "#     Dense(32, activation=\"relu\"),\n",
        "#     Dense(32, activation=\"relu\"),\n",
        "#     Dense(6, activation=\"softmax\")\n",
        "# ])\n",
        "\n",
        "# model.compile(optimizer=\"Adam\", loss=\"categorical_crossentropy\", metrics=[\"accuracy\"])\n",
        "\n",
        "# y_train_categorical = keras.utils.to_categorical(y_train, num_classes=6)\n",
        "# y_val_categorical = keras.utils.to_categorical(y_val, num_classes=6)\n",
        "\n",
        "# model.fit(X_train, y_train_categorical, epochs=100, batch_size=32, validation_data=(X_val, y_val_categorical))\n",
        "\n",
        "# y_pred_train_nn = model.predict(X_train)\n",
        "# y_pred_val_nn = model.predict(X_val)"
      ]
    },
    {
      "cell_type": "markdown",
      "metadata": {},
      "source": [
        "# Export Models"
      ]
    },
    {
      "cell_type": "code",
      "execution_count": null,
      "metadata": {},
      "outputs": [],
      "source": [
        "import joblib\n"
      ]
    },
    {
      "cell_type": "markdown",
      "metadata": {},
      "source": [
        "# Prediction of Dominant Emotion"
      ]
    },
    {
      "cell_type": "code",
      "execution_count": null,
      "metadata": {
        "colab": {
          "base_uri": "https://localhost:8080/",
          "height": 530
        },
        "id": "5uR6aTkzRaCi",
        "outputId": "49c889cc-3713-4f21-a65c-8d840e926a56"
      },
      "outputs": [],
      "source": [
        "#now preprocess test data to make predicitons\n",
        "test_data"
      ]
    },
    {
      "cell_type": "code",
      "execution_count": null,
      "metadata": {
        "id": "4PM_jIobyWm4"
      },
      "outputs": [],
      "source": [
        "#Encode categorical variables\n",
        "label_encoders = {}\n",
        "for column in ['Gender', 'Platform']:\n",
        "    label_encoders[column] = LabelEncoder()\n",
        "    test_data[column] = label_encoders[column].fit_transform(test_data[column])\n"
      ]
    },
    {
      "cell_type": "code",
      "execution_count": null,
      "metadata": {
        "id": "cweezg_eyMGw"
      },
      "outputs": [],
      "source": [
        "#Normalize numeric features\n",
        "scaler = MinMaxScaler()\n",
        "test_data[['Age', 'Daily_Usage_Time (minutes)', 'Posts_Per_Day', 'Likes_Received_Per_Day', 'Comments_Received_Per_Day', 'Messages_Sent_Per_Day']] = scaler.fit_transform(\n",
        "    test_data[['Age', 'Daily_Usage_Time (minutes)', 'Posts_Per_Day', 'Likes_Received_Per_Day', 'Comments_Received_Per_Day', 'Messages_Sent_Per_Day']])\n"
      ]
    },
    {
      "cell_type": "code",
      "execution_count": null,
      "metadata": {
        "id": "8G5etEFnyvED"
      },
      "outputs": [],
      "source": [
        "X_test1 = test_data.drop(columns=['User_ID', 'Dominant_Emotion'])\n",
        "y_test1 = test_data['Dominant_Emotion']"
      ]
    },
    {
      "cell_type": "code",
      "execution_count": null,
      "metadata": {
        "id": "CME0hMxWy_Ze"
      },
      "outputs": [],
      "source": [
        "y_pred_test_linear_reg_gender = lin_reg_gender.predict(X_test1)\n",
        "y_pred_test_multi = lin_reg_multi.predict(X_test1)\n",
        "y_pred_test_poly = lin_reg_poly.predict(X_test1)\n",
        "y_pred_test_log = log_reg.predict(X_test1)\n",
        "y_pred_test_knn_euclidean = knn_euclidean.predict(X_test1)\n",
        "y_pred_test_knn_manhattan = knn_manhattan.predict(X_test1)\n",
        "y_pred_test_knn_cosine = knn_cosine.predict(X_test1)\n",
        "y_pred_test_dt = dt.predict(X_test1)\n",
        "y_pred_test_rf = rf.predict(X_test1)\n"
      ]
    },
    {
      "cell_type": "code",
      "execution_count": null,
      "metadata": {
        "id": "FB-B5HSc4o_y"
      },
      "outputs": [],
      "source": [
        "label_encoder = LabelEncoder()\n",
        "y_test1 = label_encoder.fit_transform(y_test1)"
      ]
    },
    {
      "cell_type": "code",
      "execution_count": null,
      "metadata": {
        "id": "t1EfyoZe9cVT"
      },
      "outputs": [],
      "source": [
        "# Initialize lists\n",
        "algo_names = []\n",
        "accuracy_scores = []\n",
        "precision_scores = []\n",
        "recall_scores = []\n",
        "f1_scores = []\n",
        "\n",
        "# Linear Regression (Gender)\n",
        "algo_names.append(\"Linear Regression (Gender)\")\n",
        "accuracy_scores.append(accuracy_score(y_test1, np.round(y_pred_test_linear_reg_gender)))\n",
        "precision_scores.append(precision_score(y_test1, np.round(y_pred_test_linear_reg_gender), average='weighted'))\n",
        "recall_scores.append(recall_score(y_test1, np.round(y_pred_test_linear_reg_gender), average='weighted'))\n",
        "f1_scores.append(f1_score(y_test1, np.round(y_pred_test_linear_reg_gender), average='weighted'))\n",
        "\n",
        "# Multivariate Linear Regression\n",
        "algo_names.append(\"Multivariate Linear Regression\")\n",
        "accuracy_scores.append(accuracy_score(y_test1, np.round(y_pred_test_multi)))\n",
        "precision_scores.append(precision_score(y_test1, np.round(y_pred_test_multi), average='weighted'))\n",
        "recall_scores.append(recall_score(y_test1, np.round(y_pred_test_multi), average='weighted'))\n",
        "f1_scores.append(f1_score(y_test1, np.round(y_pred_test_multi), average='weighted'))\n",
        "\n",
        "# Polynomial Regression\n",
        "algo_names.append(\"Polynomial Regression\")\n",
        "accuracy_scores.append(accuracy_score(y_test1, np.round(y_pred_test_poly)))\n",
        "precision_scores.append(precision_score(y_test1, np.round(y_pred_test_poly), average='weighted'))\n",
        "recall_scores.append(recall_score(y_test1, np.round(y_pred_test_poly), average='weighted'))\n",
        "f1_scores.append(f1_score(y_test1, np.round(y_pred_test_poly), average='weighted'))\n",
        "\n",
        "# Logistic Regression\n",
        "algo_names.append(\"Logistic Regression\")\n",
        "accuracy_scores.append(accuracy_score(y_test1, np.round(y_pred_test_log)))\n",
        "precision_scores.append(precision_score(y_test1, np.round(y_pred_test_log), average='weighted'))\n",
        "recall_scores.append(recall_score(y_test1, np.round(y_pred_test_log), average='weighted'))\n",
        "f1_scores.append(f1_score(y_test1, np.round(y_pred_test_log), average='weighted'))\n",
        "\n",
        "# KNN (Euclidean Distance)\n",
        "algo_names.append(\"KNN (Euclidean Distance)\")\n",
        "accuracy_scores.append(accuracy_score(y_test1, y_pred_test_knn_euclidean))\n",
        "precision_scores.append(precision_score(y_test1, y_pred_test_knn_euclidean, average='weighted'))\n",
        "recall_scores.append(recall_score(y_test1, y_pred_test_knn_euclidean, average='weighted'))\n",
        "f1_scores.append(f1_score(y_test1, y_pred_test_knn_euclidean, average='weighted'))\n",
        "\n",
        "# KNN (Manhattan Distance)\n",
        "algo_names.append(\"KNN (Manhattan Distance)\")\n",
        "accuracy_scores.append(accuracy_score(y_test1, y_pred_test_knn_manhattan))\n",
        "precision_scores.append(precision_score(y_test1, y_pred_test_knn_manhattan, average='weighted'))\n",
        "recall_scores.append(recall_score(y_test1, y_pred_test_knn_manhattan, average='weighted'))\n",
        "f1_scores.append(f1_score(y_test1, y_pred_test_knn_manhattan, average='weighted'))\n",
        "\n",
        "# KNN (Cosine Distance)\n",
        "algo_names.append(\"KNN (Cosine Distance)\")\n",
        "accuracy_scores.append(accuracy_score(y_test1, y_pred_test_knn_cosine))\n",
        "precision_scores.append(precision_score(y_test1, y_pred_test_knn_cosine, average='weighted'))\n",
        "recall_scores.append(recall_score(y_test1, y_pred_test_knn_cosine, average='weighted'))\n",
        "f1_scores.append(f1_score(y_test1, y_pred_test_knn_cosine, average='weighted'))\n",
        "\n",
        "# Decision Trees\n",
        "algo_names.append(\"Decision Trees\")\n",
        "accuracy_scores.append(accuracy_score(y_test1, y_pred_test_dt))\n",
        "precision_scores.append(precision_score(y_test1, y_pred_test_dt, average='weighted'))\n",
        "recall_scores.append(recall_score(y_test1, y_pred_test_dt, average='weighted'))\n",
        "f1_scores.append(f1_score(y_test1, y_pred_test_dt, average='weighted'))\n",
        "\n",
        "# Random Forest\n",
        "algo_names.append(\"Random Forest\")\n",
        "accuracy_scores.append(accuracy_score(y_test1, y_pred_test_rf))\n",
        "precision_scores.append(precision_score(y_test1, y_pred_test_rf, average='weighted'))\n",
        "recall_scores.append(recall_score(y_test1, y_pred_test_rf, average='weighted'))\n",
        "f1_scores.append(f1_score(y_test1, y_pred_test_rf, average='weighted'))\n"
      ]
    },
    {
      "cell_type": "code",
      "execution_count": null,
      "metadata": {
        "colab": {
          "base_uri": "https://localhost:8080/",
          "height": 331
        },
        "id": "HFDBnF1s9381",
        "outputId": "4ae808ce-cfc4-48a6-dae2-50418ddb2c8b"
      },
      "outputs": [],
      "source": [
        "#printung results of all algorithms on test data\n",
        "df = pd.DataFrame({\n",
        "    'Algorithm': algo_names,\n",
        "    'Accuracy': accuracy_scores,\n",
        "    'Precision': precision_scores,\n",
        "    'Recall': recall_scores,\n",
        "    'F1-score': f1_scores\n",
        "})\n",
        "df\n",
        "\n",
        "plot = sns.heatmap(df.set_index('Algorithm'), annot=True, cmap='Blues')"
      ]
    },
    {
      "cell_type": "code",
      "execution_count": null,
      "metadata": {
        "colab": {
          "base_uri": "https://localhost:8080/",
          "height": 718
        },
        "id": "v35TqTOp78qe",
        "outputId": "9b2f3cb6-ed91-487f-c822-c93475524ca5"
      },
      "outputs": [],
      "source": [
        "import numpy as np\n",
        "import matplotlib.pyplot as plt\n",
        "from sklearn.metrics import roc_curve, auc\n",
        "from sklearn.preprocessing import label_binarize\n",
        "from itertools import cycle\n",
        "\n",
        "\n",
        "y_scores_linear_reg_gender = y_pred_test_linear_reg_gender\n",
        "y_scores_multi = y_pred_test_multi\n",
        "y_scores_poly = y_pred_test_poly\n",
        "y_scores_log = y_pred_test_log\n",
        "y_scores_knn_euclidean = y_pred_test_knn_euclidean\n",
        "y_scores_knn_manhattan = y_pred_test_knn_manhattan\n",
        "y_scores_knn_cosine = y_pred_test_knn_cosine\n",
        "y_scores_dt = y_pred_test_dt\n",
        "y_scores_rf = y_pred_test_rf\n",
        "\n",
        "# Combine predicted probabilities into a list\n",
        "y_scores = [\n",
        "    y_scores_linear_reg_gender,\n",
        "    y_scores_multi,\n",
        "    y_scores_poly,\n",
        "    y_scores_log,\n",
        "    y_scores_knn_euclidean,\n",
        "    y_scores_knn_manhattan,\n",
        "    y_scores_knn_cosine,\n",
        "    y_scores_dt,\n",
        "    y_scores_rf\n",
        "]\n",
        "\n",
        "y_test = y_test1\n",
        "# Binarize the out as we have multiclass data\n",
        "y_test_bin = label_binarize(y_test, classes=np.unique(y_test))\n",
        "\n",
        "\n",
        "n_classes = len(np.unique(y_test))\n",
        "fpr = dict()\n",
        "tpr = dict()\n",
        "roc_auc = dict()\n",
        "\n",
        "for i in range(n_classes):\n",
        "    fpr[i], tpr[i], _ = roc_curve(y_test_bin[:, i], y_scores[i])\n",
        "    roc_auc[i] = auc(fpr[i], tpr[i])\n",
        "\n",
        "# Plot all ROC curves\n",
        "plt.figure(figsize=(10, 8))\n",
        "colors = cycle(['blue', 'red', 'green', 'purple', 'orange', 'yellow', 'cyan', 'magenta', 'brown'])\n",
        "\n",
        "for i, color in zip(range(n_classes), colors):\n",
        "    plt.plot(fpr[i], tpr[i], color=color, lw=2,\n",
        "             label='ROC curve of class {0} (AUC = {1:0.2f})'\n",
        "             ''.format(i, roc_auc[i]))\n",
        "\n",
        "plt.plot([0, 1], [0, 1], 'k--', lw=2)\n",
        "plt.xlim([0.0, 1.0])\n",
        "plt.ylim([0.0, 1.05])\n",
        "plt.xlabel('False Positive Rate')\n",
        "plt.ylabel('True Positive Rate')\n",
        "plt.title('Receiver Operating Characteristic (ROC) Curve for Multi-Class')\n",
        "plt.legend(loc=\"lower right\")\n",
        "plt.show()\n"
      ]
    },
    {
      "cell_type": "code",
      "execution_count": null,
      "metadata": {
        "colab": {
          "base_uri": "https://localhost:8080/"
        },
        "id": "_SveZMQODZsP",
        "outputId": "0d7ab06d-121a-49ae-fb64-af97c3d6e11c"
      },
      "outputs": [],
      "source": [
        "import pandas as pd\n",
        "\n",
        "def get_user_data():\n",
        "    print(\"Please enter the following information:\")\n",
        "\n",
        "    age = int(input(\"Age: \"))\n",
        "\n",
        "    gender = input(\"Gender (Male/Female/Other): \").strip().lower()  # Assuming standard input format\n",
        "\n",
        "    platform = input(\"Platform (e.g., Facebook, Instagram): \").strip()\n",
        "\n",
        "    daily_usage_time = float(input(\"Daily Usage Time (minutes): \"))\n",
        "\n",
        "    posts_per_day = float(input(\"Posts Per Day: \"))\n",
        "\n",
        "    likes_received_per_day = float(input(\"Likes Received Per Day: \"))\n",
        "\n",
        "    comments_received_per_day = float(input(\"Comments Received Per Day: \"))\n",
        "\n",
        "    messages_sent_per_day = float(input(\"Messages Sent Per Day: \"))\n",
        "\n",
        "    dominant_emotion = input(\"Dominant Emotion (Neutral/Happiness/Anxiety/Sadness/Boredom/Anger): \").strip().lower()\n",
        "\n",
        "    # Return collected data as a dictionary\n",
        "    user_data = {\n",
        "        'Age': age,\n",
        "        'Gender': gender,\n",
        "        'Platform': platform,\n",
        "        'Daily_Usage_Time (minutes)': daily_usage_time,\n",
        "        'Posts_Per_Day': posts_per_day,\n",
        "        'Likes_Received_Per_Day': likes_received_per_day,\n",
        "        'Comments_Received_Per_Day': comments_received_per_day,\n",
        "        'Messages_Sent_Per_Day': messages_sent_per_day,\n",
        "        'Dominant_Emotion': dominant_emotion\n",
        "    }\n",
        "\n",
        "    return user_data\n",
        "\n",
        "if __name__ == \"__main__\":\n",
        "    user_data = get_user_data()\n",
        "\n",
        "\n",
        "    user_df = pd.DataFrame([user_data])\n"
      ]
    },
    {
      "cell_type": "code",
      "execution_count": null,
      "metadata": {
        "colab": {
          "base_uri": "https://localhost:8080/",
          "height": 118
        },
        "id": "71x-xvMGHivO",
        "outputId": "465b2223-12d1-4145-db40-8eddc2f7ed37"
      },
      "outputs": [],
      "source": [
        "user_df"
      ]
    },
    {
      "cell_type": "code",
      "execution_count": null,
      "metadata": {
        "id": "xS3bFnQoHv2q"
      },
      "outputs": [],
      "source": [
        "#Encode categorical variables\n",
        "label_encoders = {}\n",
        "for column in ['Gender', 'Platform']:\n",
        "    label_encoders[column] = LabelEncoder()\n",
        "    user_df[column] = label_encoders[column].fit_transform(user_df[column])"
      ]
    },
    {
      "cell_type": "code",
      "execution_count": null,
      "metadata": {
        "id": "E31LSeauNOHl"
      },
      "outputs": [],
      "source": [
        "#Normalize numeric features\n",
        "scaler = MinMaxScaler()\n",
        "test_data[['Age', 'Daily_Usage_Time (minutes)', 'Posts_Per_Day', 'Likes_Received_Per_Day', 'Comments_Received_Per_Day', 'Messages_Sent_Per_Day']] = scaler.fit_transform(\n",
        "    test_data[['Age', 'Daily_Usage_Time (minutes)', 'Posts_Per_Day', 'Likes_Received_Per_Day', 'Comments_Received_Per_Day', 'Messages_Sent_Per_Day']])\n"
      ]
    },
    {
      "cell_type": "code",
      "execution_count": null,
      "metadata": {
        "id": "7rdugoVbJajN"
      },
      "outputs": [],
      "source": [
        "user_df_X = user_df.drop(columns=['Dominant_Emotion'])\n",
        "user_df_Y = user_df['Dominant_Emotion']"
      ]
    },
    {
      "cell_type": "code",
      "execution_count": null,
      "metadata": {
        "id": "Q0NziIetKvWR"
      },
      "outputs": [],
      "source": [
        "y_pred_test_linear_reg_gender = lin_reg_gender.predict(user_df_X).astype(int)\n",
        "y_pred_test_multi = lin_reg_multi.predict(user_df_X).astype(int)\n",
        "y_pred_test_poly = lin_reg_poly.predict(user_df_X).astype(int)\n",
        "y_pred_test_log = log_reg.predict(user_df_X).astype(int)\n",
        "y_pred_test_knn_euclidean = knn_euclidean.predict(user_df_X).astype(int)\n",
        "y_pred_test_knn_manhattan = knn_manhattan.predict(user_df_X).astype(int)\n",
        "y_pred_test_knn_cosine = knn_cosine.predict(user_df_X).astype(int)\n",
        "y_pred_test_dt = dt.predict(user_df_X).astype(int)\n",
        "y_pred_test_rf = rf.predict(user_df_X).astype(int)\n"
      ]
    },
    {
      "cell_type": "code",
      "execution_count": null,
      "metadata": {
        "id": "INuz0bk6MpcK"
      },
      "outputs": [],
      "source": [
        "emotion_mapping_reverse = {\n",
        "    0: 'Neutral',\n",
        "    1: 'Happiness',\n",
        "    2: 'Anxiety',\n",
        "    3: 'Sadness',\n",
        "    4: 'Boredom',\n",
        "    5: 'Anger'\n",
        "}\n"
      ]
    },
    {
      "cell_type": "code",
      "execution_count": null,
      "metadata": {
        "colab": {
          "base_uri": "https://localhost:8080/"
        },
        "id": "nf-YM3CoMrHx",
        "outputId": "13858bab-35e5-4cc5-a7a7-26b46ccac3d0"
      },
      "outputs": [],
      "source": [
        "# y_pred_linear_reg_gender_emotions = [emotion_mapping_reverse[label] for label in y_pred_test_linear_reg_gender]\n",
        "# y_pred_multi_emotions = [emotion_mapping_reverse[label] for label in y_pred_test_multi]\n",
        "# y_pred_poly_emotions = [emotion_mapping_reverse[label] for label in y_pred_test_poly]\n",
        "y_pred_log_emotions = [emotion_mapping_reverse[label] for label in y_pred_test_log]\n",
        "y_pred_knn_euclidean_emotions = [emotion_mapping_reverse[label] for label in y_pred_test_knn_euclidean]\n",
        "y_pred_knn_manhattan_emotions = [emotion_mapping_reverse[label] for label in y_pred_test_knn_manhattan]\n",
        "y_pred_knn_cosine_emotions = [emotion_mapping_reverse[label] for label in y_pred_test_knn_cosine]\n",
        "y_pred_dt_emotions = [emotion_mapping_reverse[label] for label in y_pred_test_dt]\n",
        "y_pred_rf_emotions = [emotion_mapping_reverse[label] for label in y_pred_test_rf]\n",
        "\n",
        "# # Print all predicted emotions\n",
        "# print(\"Predicted Emotions (Linear Regression - Gender):\", y_pred_linear_reg_gender_emotions)\n",
        "# print(\"Predicted Emotions (Multivariate Linear Regression):\", y_pred_multi_emotions)\n",
        "# print(\"Predicted Emotions (Polynomial Regression):\", y_pred_poly_emotions)\n",
        "print(\"Predicted Emotions (Logistic Regression):\", y_pred_log_emotions)\n",
        "print(\"Predicted Emotions (KNN - Euclidean Distance):\", y_pred_knn_euclidean_emotions)\n",
        "print(\"Predicted Emotions (KNN - Manhattan Distance):\", y_pred_knn_manhattan_emotions)\n",
        "print(\"Predicted Emotions (KNN - Cosine Distance):\", y_pred_knn_cosine_emotions)\n",
        "print(\"Predicted Emotions (Decision Trees):\", y_pred_dt_emotions)\n",
        "print(\"Predicted Emotions (Random Forest):\", y_pred_rf_emotions)"
      ]
    }
  ],
  "metadata": {
    "colab": {
      "provenance": []
    },
    "kernelspec": {
      "display_name": "Python 3",
      "name": "python3"
    },
    "language_info": {
      "codemirror_mode": {
        "name": "ipython",
        "version": 3
      },
      "file_extension": ".py",
      "mimetype": "text/x-python",
      "name": "python",
      "nbconvert_exporter": "python",
      "pygments_lexer": "ipython3",
      "version": "3.12.4"
    }
  },
  "nbformat": 4,
  "nbformat_minor": 0
}
