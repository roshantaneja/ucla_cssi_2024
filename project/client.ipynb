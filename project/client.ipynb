{
  "cells": [
    {
      "cell_type": "code",
      "execution_count": 13,
      "metadata": {
        "id": "8vDB26VuOyq2"
      },
      "outputs": [],
      "source": [
        "# Import necessary libraries\n",
        "import pandas as pd\n",
        "import numpy as np\n",
        "import seaborn as sns\n",
        "import matplotlib.pyplot as plt\n",
        "from sklearn.preprocessing import LabelEncoder, MinMaxScaler\n",
        "from sklearn.model_selection import train_test_split, cross_val_score\n",
        "from sklearn.linear_model import LinearRegression, LogisticRegression\n",
        "from sklearn.ensemble import RandomForestClassifier\n",
        "from sklearn.preprocessing import PolynomialFeatures\n",
        "from sklearn.pipeline import make_pipeline\n",
        "from sklearn.neighbors import KNeighborsClassifier\n",
        "from sklearn.tree import DecisionTreeClassifier\n",
        "from sklearn.ensemble import RandomForestClassifier\n",
        "from sklearn.metrics import accuracy_score, precision_score, recall_score, f1_score, confusion_matrix, roc_curve, roc_auc_score\n",
        "import warnings\n",
        "warnings.filterwarnings(\"ignore\")"
      ]
    },
    {
      "cell_type": "code",
      "execution_count": 14,
      "metadata": {
        "colab": {
          "base_uri": "https://localhost:8080/",
          "height": 260
        },
        "id": "JZY5Ia6KQQe5",
        "outputId": "1b48cc85-b996-4099-a1e0-63e9b6dd06cf"
      },
      "outputs": [
        {
          "data": {
            "text/html": [
              "<div>\n",
              "<style scoped>\n",
              "    .dataframe tbody tr th:only-of-type {\n",
              "        vertical-align: middle;\n",
              "    }\n",
              "\n",
              "    .dataframe tbody tr th {\n",
              "        vertical-align: top;\n",
              "    }\n",
              "\n",
              "    .dataframe thead th {\n",
              "        text-align: right;\n",
              "    }\n",
              "</style>\n",
              "<table border=\"1\" class=\"dataframe\">\n",
              "  <thead>\n",
              "    <tr style=\"text-align: right;\">\n",
              "      <th></th>\n",
              "      <th>User_ID</th>\n",
              "      <th>Age</th>\n",
              "      <th>Gender</th>\n",
              "      <th>Platform</th>\n",
              "      <th>Daily_Usage_Time (minutes)</th>\n",
              "      <th>Posts_Per_Day</th>\n",
              "      <th>Likes_Received_Per_Day</th>\n",
              "      <th>Comments_Received_Per_Day</th>\n",
              "      <th>Messages_Sent_Per_Day</th>\n",
              "      <th>Dominant_Emotion</th>\n",
              "    </tr>\n",
              "  </thead>\n",
              "  <tbody>\n",
              "    <tr>\n",
              "      <th>0</th>\n",
              "      <td>1</td>\n",
              "      <td>25.0</td>\n",
              "      <td>Female</td>\n",
              "      <td>Instagram</td>\n",
              "      <td>120.0</td>\n",
              "      <td>3.0</td>\n",
              "      <td>45.0</td>\n",
              "      <td>10.0</td>\n",
              "      <td>12.0</td>\n",
              "      <td>Happiness</td>\n",
              "    </tr>\n",
              "    <tr>\n",
              "      <th>1</th>\n",
              "      <td>2</td>\n",
              "      <td>30.0</td>\n",
              "      <td>Male</td>\n",
              "      <td>Twitter</td>\n",
              "      <td>90.0</td>\n",
              "      <td>5.0</td>\n",
              "      <td>20.0</td>\n",
              "      <td>25.0</td>\n",
              "      <td>30.0</td>\n",
              "      <td>Anger</td>\n",
              "    </tr>\n",
              "    <tr>\n",
              "      <th>2</th>\n",
              "      <td>3</td>\n",
              "      <td>22.0</td>\n",
              "      <td>Non-binary</td>\n",
              "      <td>Facebook</td>\n",
              "      <td>60.0</td>\n",
              "      <td>2.0</td>\n",
              "      <td>15.0</td>\n",
              "      <td>5.0</td>\n",
              "      <td>20.0</td>\n",
              "      <td>Neutral</td>\n",
              "    </tr>\n",
              "    <tr>\n",
              "      <th>3</th>\n",
              "      <td>4</td>\n",
              "      <td>28.0</td>\n",
              "      <td>Female</td>\n",
              "      <td>Instagram</td>\n",
              "      <td>200.0</td>\n",
              "      <td>8.0</td>\n",
              "      <td>100.0</td>\n",
              "      <td>30.0</td>\n",
              "      <td>50.0</td>\n",
              "      <td>Anxiety</td>\n",
              "    </tr>\n",
              "    <tr>\n",
              "      <th>4</th>\n",
              "      <td>5</td>\n",
              "      <td>33.0</td>\n",
              "      <td>Male</td>\n",
              "      <td>LinkedIn</td>\n",
              "      <td>45.0</td>\n",
              "      <td>1.0</td>\n",
              "      <td>5.0</td>\n",
              "      <td>2.0</td>\n",
              "      <td>10.0</td>\n",
              "      <td>Boredom</td>\n",
              "    </tr>\n",
              "  </tbody>\n",
              "</table>\n",
              "</div>"
            ],
            "text/plain": [
              "   User_ID   Age      Gender   Platform  Daily_Usage_Time (minutes)  \\\n",
              "0        1  25.0      Female  Instagram                       120.0   \n",
              "1        2  30.0        Male    Twitter                        90.0   \n",
              "2        3  22.0  Non-binary   Facebook                        60.0   \n",
              "3        4  28.0      Female  Instagram                       200.0   \n",
              "4        5  33.0        Male   LinkedIn                        45.0   \n",
              "\n",
              "   Posts_Per_Day  Likes_Received_Per_Day  Comments_Received_Per_Day  \\\n",
              "0            3.0                    45.0                       10.0   \n",
              "1            5.0                    20.0                       25.0   \n",
              "2            2.0                    15.0                        5.0   \n",
              "3            8.0                   100.0                       30.0   \n",
              "4            1.0                     5.0                        2.0   \n",
              "\n",
              "   Messages_Sent_Per_Day Dominant_Emotion  \n",
              "0                   12.0        Happiness  \n",
              "1                   30.0            Anger  \n",
              "2                   20.0          Neutral  \n",
              "3                   50.0          Anxiety  \n",
              "4                   10.0          Boredom  "
            ]
          },
          "execution_count": 14,
          "metadata": {},
          "output_type": "execute_result"
        }
      ],
      "source": [
        "# # Load the datasets\n",
        "train_data = pd.read_csv('train.csv')\n",
        "val_data = pd.read_csv('val.csv')\n",
        "test_data = pd.read_csv('test.csv')\n",
        "\n",
        "# # Combine train and val for preprocessing\n",
        "data = pd.concat([train_data, val_data], ignore_index=True)\n",
        "\n",
        "# Display the dataset\n",
        "data.head()\n"
      ]
    },
    {
      "cell_type": "code",
      "execution_count": 15,
      "metadata": {
        "colab": {
          "base_uri": "https://localhost:8080/"
        },
        "id": "fpEtQU21D0U4",
        "outputId": "fa8bfa55-6b10-4392-f611-a05c5749742a"
      },
      "outputs": [
        {
          "data": {
            "text/plain": [
              "Dominant_Emotion\n",
              "Neutral      230\n",
              "Happiness    228\n",
              "Anxiety      202\n",
              "Sadness      185\n",
              "Boredom      158\n",
              "Anger        144\n",
              "Agression      1\n",
              "Name: count, dtype: int64"
            ]
          },
          "execution_count": 15,
          "metadata": {},
          "output_type": "execute_result"
        }
      ],
      "source": [
        "#unique classes in dataset\n",
        "data['Dominant_Emotion'].value_counts()"
      ]
    },
    {
      "cell_type": "code",
      "execution_count": 16,
      "metadata": {
        "colab": {
          "base_uri": "https://localhost:8080/",
          "height": 354
        },
        "id": "cNOAYJV8RgSs",
        "outputId": "100ff87c-25ac-4366-c997-20f6354fc6fd"
      },
      "outputs": [
        {
          "name": "stdout",
          "output_type": "stream",
          "text": [
            "Summary statistics of the dataset:\n"
          ]
        },
        {
          "data": {
            "text/html": [
              "<div>\n",
              "<style scoped>\n",
              "    .dataframe tbody tr th:only-of-type {\n",
              "        vertical-align: middle;\n",
              "    }\n",
              "\n",
              "    .dataframe tbody tr th {\n",
              "        vertical-align: top;\n",
              "    }\n",
              "\n",
              "    .dataframe thead th {\n",
              "        text-align: right;\n",
              "    }\n",
              "</style>\n",
              "<table border=\"1\" class=\"dataframe\">\n",
              "  <thead>\n",
              "    <tr style=\"text-align: right;\">\n",
              "      <th></th>\n",
              "      <th>User_ID</th>\n",
              "      <th>Age</th>\n",
              "      <th>Daily_Usage_Time (minutes)</th>\n",
              "      <th>Posts_Per_Day</th>\n",
              "      <th>Likes_Received_Per_Day</th>\n",
              "      <th>Comments_Received_Per_Day</th>\n",
              "      <th>Messages_Sent_Per_Day</th>\n",
              "    </tr>\n",
              "  </thead>\n",
              "  <tbody>\n",
              "    <tr>\n",
              "      <th>count</th>\n",
              "      <td>1148.000000</td>\n",
              "      <td>1148.000000</td>\n",
              "      <td>1148.000000</td>\n",
              "      <td>1148.000000</td>\n",
              "      <td>1148.000000</td>\n",
              "      <td>1148.000000</td>\n",
              "      <td>1148.000000</td>\n",
              "    </tr>\n",
              "    <tr>\n",
              "      <th>mean</th>\n",
              "      <td>498.358885</td>\n",
              "      <td>27.478223</td>\n",
              "      <td>95.983449</td>\n",
              "      <td>3.348432</td>\n",
              "      <td>39.831010</td>\n",
              "      <td>15.542683</td>\n",
              "      <td>22.570557</td>\n",
              "    </tr>\n",
              "    <tr>\n",
              "      <th>std</th>\n",
              "      <td>288.122362</td>\n",
              "      <td>3.926577</td>\n",
              "      <td>39.409799</td>\n",
              "      <td>1.938601</td>\n",
              "      <td>26.409445</td>\n",
              "      <td>8.763328</td>\n",
              "      <td>8.572339</td>\n",
              "    </tr>\n",
              "    <tr>\n",
              "      <th>min</th>\n",
              "      <td>1.000000</td>\n",
              "      <td>21.000000</td>\n",
              "      <td>30.000000</td>\n",
              "      <td>1.000000</td>\n",
              "      <td>5.000000</td>\n",
              "      <td>2.000000</td>\n",
              "      <td>8.000000</td>\n",
              "    </tr>\n",
              "    <tr>\n",
              "      <th>25%</th>\n",
              "      <td>247.750000</td>\n",
              "      <td>24.000000</td>\n",
              "      <td>65.000000</td>\n",
              "      <td>2.000000</td>\n",
              "      <td>20.000000</td>\n",
              "      <td>8.000000</td>\n",
              "      <td>17.000000</td>\n",
              "    </tr>\n",
              "    <tr>\n",
              "      <th>50%</th>\n",
              "      <td>495.000000</td>\n",
              "      <td>27.000000</td>\n",
              "      <td>85.000000</td>\n",
              "      <td>3.000000</td>\n",
              "      <td>33.000000</td>\n",
              "      <td>14.000000</td>\n",
              "      <td>22.000000</td>\n",
              "    </tr>\n",
              "    <tr>\n",
              "      <th>75%</th>\n",
              "      <td>749.250000</td>\n",
              "      <td>30.000000</td>\n",
              "      <td>120.000000</td>\n",
              "      <td>5.000000</td>\n",
              "      <td>55.000000</td>\n",
              "      <td>22.000000</td>\n",
              "      <td>28.000000</td>\n",
              "    </tr>\n",
              "    <tr>\n",
              "      <th>max</th>\n",
              "      <td>1000.000000</td>\n",
              "      <td>35.000000</td>\n",
              "      <td>210.000000</td>\n",
              "      <td>10.000000</td>\n",
              "      <td>110.000000</td>\n",
              "      <td>40.000000</td>\n",
              "      <td>50.000000</td>\n",
              "    </tr>\n",
              "  </tbody>\n",
              "</table>\n",
              "</div>"
            ],
            "text/plain": [
              "           User_ID          Age  Daily_Usage_Time (minutes)  Posts_Per_Day  \\\n",
              "count  1148.000000  1148.000000                 1148.000000    1148.000000   \n",
              "mean    498.358885    27.478223                   95.983449       3.348432   \n",
              "std     288.122362     3.926577                   39.409799       1.938601   \n",
              "min       1.000000    21.000000                   30.000000       1.000000   \n",
              "25%     247.750000    24.000000                   65.000000       2.000000   \n",
              "50%     495.000000    27.000000                   85.000000       3.000000   \n",
              "75%     749.250000    30.000000                  120.000000       5.000000   \n",
              "max    1000.000000    35.000000                  210.000000      10.000000   \n",
              "\n",
              "       Likes_Received_Per_Day  Comments_Received_Per_Day  \\\n",
              "count             1148.000000                1148.000000   \n",
              "mean                39.831010                  15.542683   \n",
              "std                 26.409445                   8.763328   \n",
              "min                  5.000000                   2.000000   \n",
              "25%                 20.000000                   8.000000   \n",
              "50%                 33.000000                  14.000000   \n",
              "75%                 55.000000                  22.000000   \n",
              "max                110.000000                  40.000000   \n",
              "\n",
              "       Messages_Sent_Per_Day  \n",
              "count            1148.000000  \n",
              "mean               22.570557  \n",
              "std                 8.572339  \n",
              "min                 8.000000  \n",
              "25%                17.000000  \n",
              "50%                22.000000  \n",
              "75%                28.000000  \n",
              "max                50.000000  "
            ]
          },
          "metadata": {},
          "output_type": "display_data"
        }
      ],
      "source": [
        "print(\"Summary statistics of the dataset:\")\n",
        "display(data.describe())"
      ]
    },
    {
      "cell_type": "code",
      "execution_count": 17,
      "metadata": {
        "colab": {
          "base_uri": "https://localhost:8080/"
        },
        "id": "N0nhaYOYRy54",
        "outputId": "93a9e5e2-ffac-41f3-a42d-559fed78e764"
      },
      "outputs": [
        {
          "name": "stdout",
          "output_type": "stream",
          "text": [
            "Count of NaN values in each column:\n",
            "User_ID                       0\n",
            "Age                           0\n",
            "Gender                        0\n",
            "Platform                      0\n",
            "Daily_Usage_Time (minutes)    0\n",
            "Posts_Per_Day                 0\n",
            "Likes_Received_Per_Day        0\n",
            "Comments_Received_Per_Day     0\n",
            "Messages_Sent_Per_Day         0\n",
            "Dominant_Emotion              0\n",
            "dtype: int64\n"
          ]
        }
      ],
      "source": [
        "# Check for NaN values in the dataset\n",
        "nan_counts = data.isnull().sum()\n",
        "print(\"Count of NaN values in each column:\")\n",
        "print(nan_counts)"
      ]
    },
    {
      "cell_type": "code",
      "execution_count": 18,
      "metadata": {
        "id": "wwmBvfFRQs9i"
      },
      "outputs": [],
      "source": [
        "#Encode categorical variables\n",
        "label_encoders = {}\n",
        "for column in ['Gender', 'Platform']:\n",
        "    label_encoders[column] = LabelEncoder()\n",
        "    data[column] = label_encoders[column].fit_transform(data[column])\n"
      ]
    },
    {
      "cell_type": "code",
      "execution_count": 19,
      "metadata": {
        "colab": {
          "base_uri": "https://localhost:8080/",
          "height": 400
        },
        "id": "wWnC3_OdcA6-",
        "outputId": "2a9d27e7-d0a5-41ee-c297-b3d37e630d5a"
      },
      "outputs": [
        {
          "data": {
            "text/html": [
              "<div>\n",
              "<style scoped>\n",
              "    .dataframe tbody tr th:only-of-type {\n",
              "        vertical-align: middle;\n",
              "    }\n",
              "\n",
              "    .dataframe tbody tr th {\n",
              "        vertical-align: top;\n",
              "    }\n",
              "\n",
              "    .dataframe thead th {\n",
              "        text-align: right;\n",
              "    }\n",
              "</style>\n",
              "<table border=\"1\" class=\"dataframe\">\n",
              "  <thead>\n",
              "    <tr style=\"text-align: right;\">\n",
              "      <th></th>\n",
              "      <th>User_ID</th>\n",
              "      <th>Age</th>\n",
              "      <th>Gender</th>\n",
              "      <th>Platform</th>\n",
              "      <th>Daily_Usage_Time (minutes)</th>\n",
              "      <th>Posts_Per_Day</th>\n",
              "      <th>Likes_Received_Per_Day</th>\n",
              "      <th>Comments_Received_Per_Day</th>\n",
              "      <th>Messages_Sent_Per_Day</th>\n",
              "      <th>Dominant_Emotion</th>\n",
              "    </tr>\n",
              "  </thead>\n",
              "  <tbody>\n",
              "    <tr>\n",
              "      <th>0</th>\n",
              "      <td>1</td>\n",
              "      <td>25.0</td>\n",
              "      <td>0</td>\n",
              "      <td>1</td>\n",
              "      <td>120.0</td>\n",
              "      <td>3.0</td>\n",
              "      <td>45.0</td>\n",
              "      <td>10.0</td>\n",
              "      <td>12.0</td>\n",
              "      <td>Happiness</td>\n",
              "    </tr>\n",
              "    <tr>\n",
              "      <th>1</th>\n",
              "      <td>2</td>\n",
              "      <td>30.0</td>\n",
              "      <td>1</td>\n",
              "      <td>5</td>\n",
              "      <td>90.0</td>\n",
              "      <td>5.0</td>\n",
              "      <td>20.0</td>\n",
              "      <td>25.0</td>\n",
              "      <td>30.0</td>\n",
              "      <td>Anger</td>\n",
              "    </tr>\n",
              "    <tr>\n",
              "      <th>2</th>\n",
              "      <td>3</td>\n",
              "      <td>22.0</td>\n",
              "      <td>2</td>\n",
              "      <td>0</td>\n",
              "      <td>60.0</td>\n",
              "      <td>2.0</td>\n",
              "      <td>15.0</td>\n",
              "      <td>5.0</td>\n",
              "      <td>20.0</td>\n",
              "      <td>Neutral</td>\n",
              "    </tr>\n",
              "    <tr>\n",
              "      <th>3</th>\n",
              "      <td>4</td>\n",
              "      <td>28.0</td>\n",
              "      <td>0</td>\n",
              "      <td>1</td>\n",
              "      <td>200.0</td>\n",
              "      <td>8.0</td>\n",
              "      <td>100.0</td>\n",
              "      <td>30.0</td>\n",
              "      <td>50.0</td>\n",
              "      <td>Anxiety</td>\n",
              "    </tr>\n",
              "    <tr>\n",
              "      <th>4</th>\n",
              "      <td>5</td>\n",
              "      <td>33.0</td>\n",
              "      <td>1</td>\n",
              "      <td>2</td>\n",
              "      <td>45.0</td>\n",
              "      <td>1.0</td>\n",
              "      <td>5.0</td>\n",
              "      <td>2.0</td>\n",
              "      <td>10.0</td>\n",
              "      <td>Boredom</td>\n",
              "    </tr>\n",
              "    <tr>\n",
              "      <th>5</th>\n",
              "      <td>6</td>\n",
              "      <td>21.0</td>\n",
              "      <td>1</td>\n",
              "      <td>1</td>\n",
              "      <td>150.0</td>\n",
              "      <td>4.0</td>\n",
              "      <td>60.0</td>\n",
              "      <td>15.0</td>\n",
              "      <td>25.0</td>\n",
              "      <td>Happiness</td>\n",
              "    </tr>\n",
              "    <tr>\n",
              "      <th>6</th>\n",
              "      <td>7</td>\n",
              "      <td>27.0</td>\n",
              "      <td>0</td>\n",
              "      <td>5</td>\n",
              "      <td>85.0</td>\n",
              "      <td>3.0</td>\n",
              "      <td>30.0</td>\n",
              "      <td>10.0</td>\n",
              "      <td>18.0</td>\n",
              "      <td>Anger</td>\n",
              "    </tr>\n",
              "    <tr>\n",
              "      <th>7</th>\n",
              "      <td>8</td>\n",
              "      <td>24.0</td>\n",
              "      <td>2</td>\n",
              "      <td>0</td>\n",
              "      <td>110.0</td>\n",
              "      <td>6.0</td>\n",
              "      <td>25.0</td>\n",
              "      <td>12.0</td>\n",
              "      <td>22.0</td>\n",
              "      <td>Sadness</td>\n",
              "    </tr>\n",
              "    <tr>\n",
              "      <th>8</th>\n",
              "      <td>9</td>\n",
              "      <td>29.0</td>\n",
              "      <td>0</td>\n",
              "      <td>2</td>\n",
              "      <td>55.0</td>\n",
              "      <td>2.0</td>\n",
              "      <td>10.0</td>\n",
              "      <td>3.0</td>\n",
              "      <td>8.0</td>\n",
              "      <td>Neutral</td>\n",
              "    </tr>\n",
              "    <tr>\n",
              "      <th>9</th>\n",
              "      <td>10</td>\n",
              "      <td>31.0</td>\n",
              "      <td>1</td>\n",
              "      <td>1</td>\n",
              "      <td>170.0</td>\n",
              "      <td>5.0</td>\n",
              "      <td>80.0</td>\n",
              "      <td>20.0</td>\n",
              "      <td>35.0</td>\n",
              "      <td>Happiness</td>\n",
              "    </tr>\n",
              "  </tbody>\n",
              "</table>\n",
              "</div>"
            ],
            "text/plain": [
              "   User_ID   Age  Gender  Platform  Daily_Usage_Time (minutes)  Posts_Per_Day  \\\n",
              "0        1  25.0       0         1                       120.0            3.0   \n",
              "1        2  30.0       1         5                        90.0            5.0   \n",
              "2        3  22.0       2         0                        60.0            2.0   \n",
              "3        4  28.0       0         1                       200.0            8.0   \n",
              "4        5  33.0       1         2                        45.0            1.0   \n",
              "5        6  21.0       1         1                       150.0            4.0   \n",
              "6        7  27.0       0         5                        85.0            3.0   \n",
              "7        8  24.0       2         0                       110.0            6.0   \n",
              "8        9  29.0       0         2                        55.0            2.0   \n",
              "9       10  31.0       1         1                       170.0            5.0   \n",
              "\n",
              "   Likes_Received_Per_Day  Comments_Received_Per_Day  Messages_Sent_Per_Day  \\\n",
              "0                    45.0                       10.0                   12.0   \n",
              "1                    20.0                       25.0                   30.0   \n",
              "2                    15.0                        5.0                   20.0   \n",
              "3                   100.0                       30.0                   50.0   \n",
              "4                     5.0                        2.0                   10.0   \n",
              "5                    60.0                       15.0                   25.0   \n",
              "6                    30.0                       10.0                   18.0   \n",
              "7                    25.0                       12.0                   22.0   \n",
              "8                    10.0                        3.0                    8.0   \n",
              "9                    80.0                       20.0                   35.0   \n",
              "\n",
              "  Dominant_Emotion  \n",
              "0        Happiness  \n",
              "1            Anger  \n",
              "2          Neutral  \n",
              "3          Anxiety  \n",
              "4          Boredom  \n",
              "5        Happiness  \n",
              "6            Anger  \n",
              "7          Sadness  \n",
              "8          Neutral  \n",
              "9        Happiness  "
            ]
          },
          "execution_count": 19,
          "metadata": {},
          "output_type": "execute_result"
        }
      ],
      "source": [
        "data.head(10)"
      ]
    },
    {
      "cell_type": "code",
      "execution_count": 20,
      "metadata": {
        "colab": {
          "base_uri": "https://localhost:8080/"
        },
        "id": "oIPXgdccSOAm",
        "outputId": "8dc3ccca-dfce-406e-d958-117c989b60be"
      },
      "outputs": [
        {
          "data": {
            "text/plain": [
              "Index(['User_ID', 'Age', 'Gender', 'Platform', 'Daily_Usage_Time (minutes)',\n",
              "       'Posts_Per_Day', 'Likes_Received_Per_Day', 'Comments_Received_Per_Day',\n",
              "       'Messages_Sent_Per_Day', 'Dominant_Emotion'],\n",
              "      dtype='object')"
            ]
          },
          "execution_count": 20,
          "metadata": {},
          "output_type": "execute_result"
        }
      ],
      "source": [
        "data.columns"
      ]
    },
    {
      "cell_type": "code",
      "execution_count": 21,
      "metadata": {
        "id": "XH-zM8C-Qvdt"
      },
      "outputs": [],
      "source": [
        "#Normalize numeric features\n",
        "scaler = MinMaxScaler()\n",
        "data[['Age', 'Daily_Usage_Time (minutes)', 'Posts_Per_Day', 'Likes_Received_Per_Day', 'Comments_Received_Per_Day', 'Messages_Sent_Per_Day']] = scaler.fit_transform(\n",
        "    data[['Age', 'Daily_Usage_Time (minutes)', 'Posts_Per_Day', 'Likes_Received_Per_Day', 'Comments_Received_Per_Day', 'Messages_Sent_Per_Day']])\n"
      ]
    },
    {
      "cell_type": "code",
      "execution_count": 22,
      "metadata": {
        "id": "ONtV0mUUQxjz"
      },
      "outputs": [],
      "source": [
        "# Split the data back to train and validation 80:20\n",
        "train_data = data[:len(train_data)]\n",
        "val_data = data[len(train_data):]\n",
        "\n",
        "# Define features and target\n",
        "X_train = train_data.drop(columns=['User_ID', 'Dominant_Emotion'])\n",
        "y_train = train_data['Dominant_Emotion']\n",
        "X_val = val_data.drop(columns=['User_ID', 'Dominant_Emotion'])\n",
        "y_val = val_data['Dominant_Emotion']\n"
      ]
    },
    {
      "cell_type": "code",
      "execution_count": 23,
      "metadata": {
        "colab": {
          "base_uri": "https://localhost:8080/",
          "height": 891
        },
        "id": "_WEd-N8PQ1cy",
        "outputId": "8e03d031-bae6-4d54-f479-db8da9c61b40"
      },
      "outputs": [
        {
          "data": {
            "image/png": "[encoded data removed]",
            "text/plain": [
              "<Figure size 1000x800 with 2 Axes>"
            ]
          },
          "metadata": {},
          "output_type": "display_data"
        }
      ],
      "source": [
        "# Visualization Correlation heatmap\n",
        "plt.figure(figsize=(10, 8))\n",
        "sns.heatmap(X_train.corr(), annot=True, cmap='coolwarm')\n",
        "plt.title('Correlation Heatmap')\n",
        "plt.show()\n"
      ]
    },
    {
      "cell_type": "code",
      "execution_count": 24,
      "metadata": {
        "colab": {
          "base_uri": "https://localhost:8080/",
          "height": 564
        },
        "id": "AsCAwiYpQ4bE",
        "outputId": "739f20fc-f992-4ee6-dc7c-ed9415a6b758"
      },
      "outputs": [
        {
          "data": {
            "image/png": "[encoded data removed]",
            "text/plain": [
              "<Figure size 1000x600 with 1 Axes>"
            ]
          },
          "metadata": {},
          "output_type": "display_data"
        }
      ],
      "source": [
        "#Scatter plot: Daily_Usage_Time vs. Dominant_Emotion\n",
        "plt.figure(figsize=(10, 6))\n",
        "sns.scatterplot(x='Daily_Usage_Time (minutes)', y='Dominant_Emotion', data=data, hue='Dominant_Emotion')\n",
        "plt.title('Daily Usage Time vs. Dominant Emotion')\n",
        "plt.show()\n"
      ]
    },
    {
      "cell_type": "code",
      "execution_count": 25,
      "metadata": {
        "colab": {
          "base_uri": "https://localhost:8080/",
          "height": 743
        },
        "id": "S0YBjT31Q69e",
        "outputId": "c75f0ab6-feee-4f38-f10e-d3030a08013d"
      },
      "outputs": [
        {
          "data": {
            "image/png": "[encoded data removed]",
            "text/plain": [
              "<Figure size 1500x1000 with 6 Axes>"
            ]
          },
          "metadata": {},
          "output_type": "display_data"
        }
      ],
      "source": [
        "#Histograms\n",
        "data[['Daily_Usage_Time (minutes)', 'Posts_Per_Day', 'Likes_Received_Per_Day', 'Comments_Received_Per_Day', 'Messages_Sent_Per_Day']].hist(bins=30, figsize=(15, 10))\n",
        "plt.suptitle('Distribution of Social Media Usage and Mental Health Indicators')\n",
        "plt.show()\n"
      ]
    },
    {
      "cell_type": "code",
      "execution_count": 26,
      "metadata": {
        "id": "VBWyRZWFYmxu"
      },
      "outputs": [],
      "source": [
        "# Convert Dominant_Emotion column to numeric\n",
        "label_encoder_emotion = LabelEncoder()\n",
        "data['Dominant_Emotion'] = label_encoder_emotion.fit_transform(data['Dominant_Emotion'])"
      ]
    },
    {
      "cell_type": "code",
      "execution_count": 27,
      "metadata": {
        "id": "qrrb-se-Z0H1"
      },
      "outputs": [],
      "source": [
        "# Convert y_train and y_val to numeric using the same LabelEncoder for Dominant_Emotion\n",
        "y_train = label_encoder_emotion.transform(y_train)\n",
        "y_val = label_encoder_emotion.transform(y_val)\n"
      ]
    },
    {
      "cell_type": "code",
      "execution_count": 28,
      "metadata": {
        "colab": {
          "base_uri": "https://localhost:8080/"
        },
        "id": "HTLTmZQaQ_L3",
        "outputId": "2e5667cc-782b-463b-9919-3a25ab44c0f9"
      },
      "outputs": [
        {
          "name": "stdout",
          "output_type": "stream",
          "text": [
            "Dominant_Emotion              1.000000\n",
            "Gender                        0.104218\n",
            "User_ID                       0.011305\n",
            "Daily_Usage_Time (minutes)   -0.018400\n",
            "Posts_Per_Day                -0.020026\n",
            "Likes_Received_Per_Day       -0.021918\n",
            "Messages_Sent_Per_Day        -0.044280\n",
            "Comments_Received_Per_Day    -0.121139\n",
            "Platform                     -0.194044\n",
            "Age                          -0.210173\n",
            "Name: Dominant_Emotion, dtype: float64\n"
          ]
        }
      ],
      "source": [
        "# Identify highly correlated feature\n",
        "correlation_matrix = data.corr()\n",
        "print(correlation_matrix['Dominant_Emotion'].sort_values(ascending=False))\n"
      ]
    },
    {
      "cell_type": "code",
      "execution_count": 29,
      "metadata": {
        "colab": {
          "base_uri": "https://localhost:8080/"
        },
        "id": "ZnEJlpjjjAig",
        "outputId": "822ef43b-9462-4385-aa8d-deb82bca28e6"
      },
      "outputs": [
        {
          "data": {
            "text/plain": [
              "array([4, 4, 6, 2, 2, 2, 2, 3, 4, 5, 6, 6, 4, 6, 1, 3, 4, 6, 1, 4, 5, 4,\n",
              "       5, 2, 5, 2, 3, 1, 4, 3, 4, 3, 6, 3, 3, 2, 5, 5, 5, 4, 6, 6, 5, 6,\n",
              "       1, 4, 5, 2, 4, 4, 5, 6, 6, 3, 2, 5, 6, 2, 4, 0, 1, 5, 6, 3, 1, 5,\n",
              "       2, 4, 2, 6, 6, 5, 3, 4, 1, 4, 5, 3, 4, 3, 2, 2, 1, 6, 5, 5, 5, 6,\n",
              "       5, 5, 3, 4, 1, 2, 4, 4, 1, 4, 2, 1, 4, 2, 2, 2, 5, 6, 1, 4, 6, 2,\n",
              "       6, 2, 3, 3, 6, 2, 2, 5, 6, 3, 2, 2, 4, 1, 5, 2, 5, 2, 5, 6, 5, 1,\n",
              "       2, 3, 5, 2, 5, 2, 4, 3, 4, 4, 6, 2, 6, 5, 2, 5])"
            ]
          },
          "execution_count": 29,
          "metadata": {},
          "output_type": "execute_result"
        }
      ],
      "source": [
        "y_val"
      ]
    },
    {
      "cell_type": "code",
      "execution_count": 30,
      "metadata": {
        "id": "b9oEKjUrZYsK"
      },
      "outputs": [],
      "source": [
        "#linear regression on dominant column\n",
        "lin_reg_gender = LinearRegression()\n",
        "lin_reg_gender.fit(X_train, y_train)\n",
        "\n",
        "# Make predictions\n",
        "y_pred_train = lin_reg_gender.predict(X_train)\n",
        "y_pred_val = lin_reg_gender.predict(X_val)"
      ]
    },
    {
      "cell_type": "code",
      "execution_count": 31,
      "metadata": {
        "colab": {
          "base_uri": "https://localhost:8080/"
        },
        "id": "CVtxl793r_Zu",
        "outputId": "76f86919-a32c-4e77-de34-c73b86537e2c"
      },
      "outputs": [
        {
          "name": "stdout",
          "output_type": "stream",
          "text": [
            "Training set metrics:\n",
            "Accuracy: 0.2050\n",
            "Precision: 0.3091\n",
            "Recall: 0.2050\n",
            "F1 Score: 0.1357\n",
            "Validation set metrics:\n",
            "Accuracy: 0.2027\n",
            "Precision: 0.1401\n",
            "Recall: 0.2027\n",
            "F1 Score: 0.1403\n"
          ]
        }
      ],
      "source": [
        "accuracy_train = accuracy_score(y_train, np.round(y_pred_train))\n",
        "precision_train = precision_score(y_train, np.round(y_pred_train), average='weighted')\n",
        "recall_train = recall_score(y_train, np.round(y_pred_train), average='weighted')\n",
        "f1_train = f1_score(y_train, np.round(y_pred_train), average='weighted')\n",
        "\n",
        "accuracy_val = accuracy_score(y_val, np.round(y_pred_val))\n",
        "precision_val = precision_score(y_val, np.round(y_pred_val), average='weighted')\n",
        "recall_val = recall_score(y_val, np.round(y_pred_val), average='weighted')\n",
        "f1_val = f1_score(y_val, np.round(y_pred_val), average='weighted')\n",
        "\n",
        "print(\"Training set metrics:\")\n",
        "print(f'Accuracy: {accuracy_train:.4f}')\n",
        "print(f'Precision: {precision_train:.4f}')\n",
        "print(f'Recall: {recall_train:.4f}')\n",
        "print(f'F1 Score: {f1_train:.4f}')\n",
        "\n",
        "print(\"Validation set metrics:\")\n",
        "print(f'Accuracy: {accuracy_val:.4f}')\n",
        "print(f'Precision: {precision_val:.4f}')\n",
        "print(f'Recall: {recall_val:.4f}')\n",
        "print(f'F1 Score: {f1_val:.4f}')"
      ]
    },
    {
      "cell_type": "code",
      "execution_count": 32,
      "metadata": {
        "id": "k08akjseRB6W"
      },
      "outputs": [],
      "source": [
        "## Multivariate regression\n",
        "lin_reg_multi = LinearRegression()\n",
        "lin_reg_multi.fit(X_train, y_train)\n",
        "\n",
        "# Make predictions\n",
        "y_pred_train_multi = lin_reg_multi.predict(X_train)\n",
        "y_pred_val_multi = lin_reg_multi.predict(X_val)\n"
      ]
    },
    {
      "cell_type": "code",
      "execution_count": 33,
      "metadata": {
        "colab": {
          "base_uri": "https://localhost:8080/"
        },
        "id": "r8FlUsLKtPso",
        "outputId": "2d6ef5e9-cdb2-48f8-9a73-b2285e567af2"
      },
      "outputs": [
        {
          "name": "stdout",
          "output_type": "stream",
          "text": [
            "Training set metrics:\n",
            "Accuracy: 0.2050\n",
            "Precision: 0.3091\n",
            "Recall: 0.2050\n",
            "F1 Score: 0.1357\n",
            "Validation set metrics:\n",
            "Accuracy: 0.2027\n",
            "Precision: 0.1401\n",
            "Recall: 0.2027\n",
            "F1 Score: 0.1403\n"
          ]
        }
      ],
      "source": [
        "accuracy_train = accuracy_score(y_train, np.round(y_pred_train_multi))\n",
        "precision_train = precision_score(y_train, np.round(y_pred_train_multi), average='weighted')\n",
        "recall_train = recall_score(y_train, np.round(y_pred_train_multi), average='weighted')\n",
        "f1_train = f1_score(y_train, np.round(y_pred_train_multi), average='weighted')\n",
        "\n",
        "accuracy_val = accuracy_score(y_val, np.round(y_pred_val_multi))\n",
        "precision_val = precision_score(y_val, np.round(y_pred_val_multi), average='weighted')\n",
        "recall_val = recall_score(y_val, np.round(y_pred_val_multi), average='weighted')\n",
        "f1_val = f1_score(y_val, np.round(y_pred_val_multi), average='weighted')\n",
        "\n",
        "print(\"Training set metrics:\")\n",
        "print(f'Accuracy: {accuracy_train:.4f}')\n",
        "print(f'Precision: {precision_train:.4f}')\n",
        "print(f'Recall: {recall_train:.4f}')\n",
        "print(f'F1 Score: {f1_train:.4f}')\n",
        "\n",
        "print(\"Validation set metrics:\")\n",
        "print(f'Accuracy: {accuracy_val:.4f}')\n",
        "print(f'Precision: {precision_val:.4f}')\n",
        "print(f'Recall: {recall_val:.4f}')\n",
        "print(f'F1 Score: {f1_val:.4f}')"
      ]
    },
    {
      "cell_type": "code",
      "execution_count": 34,
      "metadata": {
        "id": "32VLg0KZREq1"
      },
      "outputs": [],
      "source": [
        "## Polynomial regression\n",
        "degree = 3\n",
        "poly = PolynomialFeatures(degree)\n",
        "lin_reg_poly = make_pipeline(poly, LinearRegression())\n",
        "\n",
        "# Fit the polynomial regression model\n",
        "lin_reg_poly.fit(X_train, y_train)\n",
        "\n",
        "# Make predictions\n",
        "y_pred_train_poly = lin_reg_poly.predict(X_train)\n",
        "y_pred_val_poly = lin_reg_poly.predict(X_val)"
      ]
    },
    {
      "cell_type": "code",
      "execution_count": 35,
      "metadata": {
        "colab": {
          "base_uri": "https://localhost:8080/"
        },
        "id": "8FJBuo36uEc5",
        "outputId": "10f3cae1-63cc-4f95-ff31-46f14d1a1b23"
      },
      "outputs": [
        {
          "name": "stdout",
          "output_type": "stream",
          "text": [
            "Training set metrics (Polynomial Regression):\n",
            "Accuracy: 0.4830\n",
            "Precision: 0.5321\n",
            "Recall: 0.4830\n",
            "F1 Score: 0.5012\n",
            "Validation set metrics (Polynomial Regression):\n",
            "Accuracy: 0.2770\n",
            "Precision: 0.4531\n",
            "Recall: 0.2770\n",
            "F1 Score: 0.3415\n"
          ]
        }
      ],
      "source": [
        "# Compute evaluation metrics\n",
        "accuracy_train_poly = accuracy_score(y_train, np.round(y_pred_train_poly))\n",
        "precision_train_poly = precision_score(y_train, np.round(y_pred_train_poly), average='weighted')\n",
        "recall_train_poly = recall_score(y_train, np.round(y_pred_train_poly), average='weighted')\n",
        "f1_train_poly = f1_score(y_train, np.round(y_pred_train_poly), average='weighted')\n",
        "\n",
        "accuracy_val_poly = accuracy_score(y_val, np.round(y_pred_val_poly))\n",
        "precision_val_poly = precision_score(y_val, np.round(y_pred_val_poly), average='weighted')\n",
        "recall_val_poly = recall_score(y_val, np.round(y_pred_val_poly), average='weighted')\n",
        "f1_val_poly = f1_score(y_val, np.round(y_pred_val_poly), average='weighted')\n",
        "\n",
        "print(\"Training set metrics (Polynomial Regression):\")\n",
        "print(f'Accuracy: {accuracy_train_poly:.4f}')\n",
        "print(f'Precision: {precision_train_poly:.4f}')\n",
        "print(f'Recall: {recall_train_poly:.4f}')\n",
        "print(f'F1 Score: {f1_train_poly:.4f}')\n",
        "\n",
        "print(\"Validation set metrics (Polynomial Regression):\")\n",
        "print(f'Accuracy: {accuracy_val_poly:.4f}')\n",
        "print(f'Precision: {precision_val_poly:.4f}')\n",
        "print(f'Recall: {recall_val_poly:.4f}')\n",
        "print(f'F1 Score: {f1_val_poly:.4f}')"
      ]
    },
    {
      "cell_type": "code",
      "execution_count": 36,
      "metadata": {
        "id": "BxQsMtBYRHK-"
      },
      "outputs": [],
      "source": [
        "# Logistic Regression\n",
        "log_reg = LogisticRegression(max_iter=1000)\n",
        "log_reg.fit(X_train, y_train)\n",
        "\n",
        "# Make predictions\n",
        "y_pred_train_log = log_reg.predict(X_train)\n",
        "y_pred_val_log = log_reg.predict(X_val)"
      ]
    },
    {
      "cell_type": "code",
      "execution_count": 37,
      "metadata": {
        "colab": {
          "base_uri": "https://localhost:8080/"
        },
        "id": "LG1J6VDduZnU",
        "outputId": "77e59fae-fd3c-458a-8d3f-995804c36a5c"
      },
      "outputs": [
        {
          "name": "stdout",
          "output_type": "stream",
          "text": [
            "Training set metrics (Logistic Regression):\n",
            "Accuracy: 0.5410\n",
            "Precision: 0.5244\n",
            "Recall: 0.5410\n",
            "F1 Score: 0.5077\n",
            "Validation set metrics (Logistic Regression):\n",
            "Accuracy: 0.4932\n",
            "Precision: 0.4809\n",
            "Recall: 0.4932\n",
            "F1 Score: 0.4753\n"
          ]
        }
      ],
      "source": [
        "# Compute evaluation metrics\n",
        "accuracy_train_log = accuracy_score(y_train, y_pred_train_log)\n",
        "precision_train_log = precision_score(y_train, y_pred_train_log, average='weighted')\n",
        "recall_train_log = recall_score(y_train, y_pred_train_log, average='weighted')\n",
        "f1_train_log = f1_score(y_train, y_pred_train_log, average='weighted')\n",
        "\n",
        "accuracy_val_log = accuracy_score(y_val, y_pred_val_log)\n",
        "precision_val_log = precision_score(y_val, y_pred_val_log, average='weighted')\n",
        "recall_val_log = recall_score(y_val, y_pred_val_log, average='weighted')\n",
        "f1_val_log = f1_score(y_val, y_pred_val_log, average='weighted')\n",
        "\n",
        "print(\"Training set metrics (Logistic Regression):\")\n",
        "print(f'Accuracy: {accuracy_train_log:.4f}')\n",
        "print(f'Precision: {precision_train_log:.4f}')\n",
        "print(f'Recall: {recall_train_log:.4f}')\n",
        "print(f'F1 Score: {f1_train_log:.4f}')\n",
        "\n",
        "print(\"Validation set metrics (Logistic Regression):\")\n",
        "print(f'Accuracy: {accuracy_val_log:.4f}')\n",
        "print(f'Precision: {precision_val_log:.4f}')\n",
        "print(f'Recall: {recall_val_log:.4f}')\n",
        "print(f'F1 Score: {f1_val_log:.4f}')"
      ]
    },
    {
      "cell_type": "code",
      "execution_count": 38,
      "metadata": {
        "id": "hw--ze6LRJbG"
      },
      "outputs": [],
      "source": [
        "# KNN with Euclidean Distance\n",
        "knn_euclidean = KNeighborsClassifier(n_neighbors=5, metric='euclidean')\n",
        "knn_euclidean.fit(X_train, y_train)\n",
        "\n",
        "# Make predictions\n",
        "y_pred_train_knn_euclidean = knn_euclidean.predict(X_train)\n",
        "y_pred_val_knn_euclidean = knn_euclidean.predict(X_val)\n"
      ]
    },
    {
      "cell_type": "code",
      "execution_count": 39,
      "metadata": {
        "colab": {
          "base_uri": "https://localhost:8080/"
        },
        "id": "d7IwqRVVuuFT",
        "outputId": "7656525a-5831-43af-ea20-739dad52ea0b"
      },
      "outputs": [
        {
          "name": "stdout",
          "output_type": "stream",
          "text": [
            "Training set metrics (KNN with Euclidean Distance):\n",
            "Accuracy: 0.9960\n",
            "Precision: 0.9960\n",
            "Recall: 0.9960\n",
            "F1 Score: 0.9960\n",
            "Validation set metrics (KNN with Euclidean Distance):\n",
            "Accuracy: 0.7838\n",
            "Precision: 0.7823\n",
            "Recall: 0.7838\n",
            "F1 Score: 0.7804\n"
          ]
        }
      ],
      "source": [
        "# Compute evaluation metrics\n",
        "accuracy_train_knn_euclidean = accuracy_score(y_train, y_pred_train_knn_euclidean)\n",
        "precision_train_knn_euclidean = precision_score(y_train, y_pred_train_knn_euclidean, average='weighted')\n",
        "recall_train_knn_euclidean = recall_score(y_train, y_pred_train_knn_euclidean, average='weighted')\n",
        "f1_train_knn_euclidean = f1_score(y_train, y_pred_train_knn_euclidean, average='weighted')\n",
        "\n",
        "accuracy_val_knn_euclidean = accuracy_score(y_val, y_pred_val_knn_euclidean)\n",
        "precision_val_knn_euclidean = precision_score(y_val, y_pred_val_knn_euclidean, average='weighted')\n",
        "recall_val_knn_euclidean = recall_score(y_val, y_pred_val_knn_euclidean, average='weighted')\n",
        "f1_val_knn_euclidean = f1_score(y_val, y_pred_val_knn_euclidean, average='weighted')\n",
        "\n",
        "print(\"Training set metrics (KNN with Euclidean Distance):\")\n",
        "print(f'Accuracy: {accuracy_train_knn_euclidean:.4f}')\n",
        "print(f'Precision: {precision_train_knn_euclidean:.4f}')\n",
        "print(f'Recall: {recall_train_knn_euclidean:.4f}')\n",
        "print(f'F1 Score: {f1_train_knn_euclidean:.4f}')\n",
        "\n",
        "print(\"Validation set metrics (KNN with Euclidean Distance):\")\n",
        "print(f'Accuracy: {accuracy_val_knn_euclidean:.4f}')\n",
        "print(f'Precision: {precision_val_knn_euclidean:.4f}')\n",
        "print(f'Recall: {recall_val_knn_euclidean:.4f}')\n",
        "print(f'F1 Score: {f1_val_knn_euclidean:.4f}')"
      ]
    },
    {
      "cell_type": "code",
      "execution_count": 40,
      "metadata": {
        "id": "TMf-FeNOROyc"
      },
      "outputs": [],
      "source": [
        "#KNN with Manhattan Distance\n",
        "knn_manhattan = KNeighborsClassifier(n_neighbors=5, metric='manhattan')\n",
        "knn_manhattan.fit(X_train, y_train)\n",
        "\n",
        "# Make predictions\n",
        "y_pred_train_knn_manhattan = knn_manhattan.predict(X_train)\n",
        "y_pred_val_knn_manhattan = knn_manhattan.predict(X_val)"
      ]
    },
    {
      "cell_type": "code",
      "execution_count": 41,
      "metadata": {
        "colab": {
          "base_uri": "https://localhost:8080/"
        },
        "id": "uoXVzhGtu6Ck",
        "outputId": "0381eb4a-2c10-4dca-db93-3f37d6c05e47"
      },
      "outputs": [
        {
          "name": "stdout",
          "output_type": "stream",
          "text": [
            "Training set metrics (KNN with Manhattan Distance):\n",
            "Accuracy: 0.9980\n",
            "Precision: 0.9980\n",
            "Recall: 0.9980\n",
            "F1 Score: 0.9980\n",
            "Validation set metrics (KNN with Manhattan Distance):\n",
            "Accuracy: 0.7838\n",
            "Precision: 0.7833\n",
            "Recall: 0.7838\n",
            "F1 Score: 0.7814\n"
          ]
        }
      ],
      "source": [
        "# Compute evaluation metrics\n",
        "accuracy_train_knn_manhattan = accuracy_score(y_train, y_pred_train_knn_manhattan)\n",
        "precision_train_knn_manhattan = precision_score(y_train, y_pred_train_knn_manhattan, average='weighted')\n",
        "recall_train_knn_manhattan = recall_score(y_train, y_pred_train_knn_manhattan, average='weighted')\n",
        "f1_train_knn_manhattan = f1_score(y_train, y_pred_train_knn_manhattan, average='weighted')\n",
        "\n",
        "accuracy_val_knn_manhattan = accuracy_score(y_val, y_pred_val_knn_manhattan)\n",
        "precision_val_knn_manhattan = precision_score(y_val, y_pred_val_knn_manhattan, average='weighted')\n",
        "recall_val_knn_manhattan = recall_score(y_val, y_pred_val_knn_manhattan, average='weighted')\n",
        "f1_val_knn_manhattan = f1_score(y_val, y_pred_val_knn_manhattan, average='weighted')\n",
        "\n",
        "print(\"Training set metrics (KNN with Manhattan Distance):\")\n",
        "print(f'Accuracy: {accuracy_train_knn_manhattan:.4f}')\n",
        "print(f'Precision: {precision_train_knn_manhattan:.4f}')\n",
        "print(f'Recall: {recall_train_knn_manhattan:.4f}')\n",
        "print(f'F1 Score: {f1_train_knn_manhattan:.4f}')\n",
        "\n",
        "print(\"Validation set metrics (KNN with Manhattan Distance):\")\n",
        "print(f'Accuracy: {accuracy_val_knn_manhattan:.4f}')\n",
        "print(f'Precision: {precision_val_knn_manhattan:.4f}')\n",
        "print(f'Recall: {recall_val_knn_manhattan:.4f}')\n",
        "print(f'F1 Score: {f1_val_knn_manhattan:.4f}')"
      ]
    },
    {
      "cell_type": "code",
      "execution_count": 42,
      "metadata": {
        "id": "y676ZwTeRPj6"
      },
      "outputs": [],
      "source": [
        "# KNN with Cosine Distance\n",
        "knn_cosine = KNeighborsClassifier(n_neighbors=5, metric='cosine')\n",
        "knn_cosine.fit(X_train, y_train)\n",
        "\n",
        "# Make predictions\n",
        "y_pred_train_knn_cosine = knn_cosine.predict(X_train)\n",
        "y_pred_val_knn_cosine = knn_cosine.predict(X_val)"
      ]
    },
    {
      "cell_type": "code",
      "execution_count": 43,
      "metadata": {
        "colab": {
          "base_uri": "https://localhost:8080/"
        },
        "id": "MW9ApOpmwOT9",
        "outputId": "bcd94bbd-239d-404c-8eef-1cd489a75541"
      },
      "outputs": [
        {
          "name": "stdout",
          "output_type": "stream",
          "text": [
            "Training set metrics (KNN with Cosine Distance):\n",
            "Accuracy: 0.9980\n",
            "Precision: 0.9980\n",
            "Recall: 0.9980\n",
            "F1 Score: 0.9980\n",
            "Validation set metrics (KNN with Cosine Distance):\n",
            "Accuracy: 0.7432\n",
            "Precision: 0.7485\n",
            "Recall: 0.7432\n",
            "F1 Score: 0.7394\n"
          ]
        }
      ],
      "source": [
        "# Compute evaluation metrics\n",
        "accuracy_train_knn_cosine = accuracy_score(y_train, y_pred_train_knn_cosine)\n",
        "precision_train_knn_cosine = precision_score(y_train, y_pred_train_knn_cosine, average='weighted')\n",
        "recall_train_knn_cosine = recall_score(y_train, y_pred_train_knn_cosine, average='weighted')\n",
        "f1_train_knn_cosine = f1_score(y_train, y_pred_train_knn_cosine, average='weighted')\n",
        "\n",
        "accuracy_val_knn_cosine = accuracy_score(y_val, y_pred_val_knn_cosine)\n",
        "precision_val_knn_cosine = precision_score(y_val, y_pred_val_knn_cosine, average='weighted')\n",
        "recall_val_knn_cosine = recall_score(y_val, y_pred_val_knn_cosine, average='weighted')\n",
        "f1_val_knn_cosine = f1_score(y_val, y_pred_val_knn_cosine, average='weighted')\n",
        "\n",
        "print(\"Training set metrics (KNN with Cosine Distance):\")\n",
        "print(f'Accuracy: {accuracy_train_knn_cosine:.4f}')\n",
        "print(f'Precision: {precision_train_knn_cosine:.4f}')\n",
        "print(f'Recall: {recall_train_knn_cosine:.4f}')\n",
        "print(f'F1 Score: {f1_train_knn_cosine:.4f}')\n",
        "\n",
        "print(\"Validation set metrics (KNN with Cosine Distance):\")\n",
        "print(f'Accuracy: {accuracy_val_knn_cosine:.4f}')\n",
        "print(f'Precision: {precision_val_knn_cosine:.4f}')\n",
        "print(f'Recall: {recall_val_knn_cosine:.4f}')\n",
        "print(f'F1 Score: {f1_val_knn_cosine:.4f}')"
      ]
    },
    {
      "cell_type": "code",
      "execution_count": 44,
      "metadata": {
        "id": "-98-V_Z-RR3C"
      },
      "outputs": [],
      "source": [
        "# Decision Trees\n",
        "dt = DecisionTreeClassifier()\n",
        "dt.fit(X_train, y_train)\n",
        "\n",
        "# Make predictions\n",
        "y_pred_train_dt = dt.predict(X_train)\n",
        "y_pred_val_dt = dt.predict(X_val)"
      ]
    },
    {
      "cell_type": "code",
      "execution_count": 45,
      "metadata": {
        "colab": {
          "base_uri": "https://localhost:8080/"
        },
        "id": "81QBatEFwdGk",
        "outputId": "bd699fa4-75ce-496f-fc39-54ecdc362d71"
      },
      "outputs": [
        {
          "name": "stdout",
          "output_type": "stream",
          "text": [
            "Training set metrics (Decision Trees):\n",
            "Accuracy: 1.0000\n",
            "Precision: 1.0000\n",
            "Recall: 1.0000\n",
            "F1 Score: 1.0000\n",
            "Validation set metrics (Decision Trees):\n",
            "Accuracy: 0.7905\n",
            "Precision: 0.7884\n",
            "Recall: 0.7905\n",
            "F1 Score: 0.7885\n"
          ]
        }
      ],
      "source": [
        "# Compute evaluation metrics\n",
        "accuracy_train_dt = accuracy_score(y_train, y_pred_train_dt)\n",
        "precision_train_dt = precision_score(y_train, y_pred_train_dt, average='weighted')\n",
        "recall_train_dt = recall_score(y_train, y_pred_train_dt, average='weighted')\n",
        "f1_train_dt = f1_score(y_train, y_pred_train_dt, average='weighted')\n",
        "\n",
        "accuracy_val_dt = accuracy_score(y_val, y_pred_val_dt)\n",
        "precision_val_dt = precision_score(y_val, y_pred_val_dt, average='weighted')\n",
        "recall_val_dt = recall_score(y_val, y_pred_val_dt, average='weighted')\n",
        "f1_val_dt = f1_score(y_val, y_pred_val_dt, average='weighted')\n",
        "\n",
        "print(\"Training set metrics (Decision Trees):\")\n",
        "print(f'Accuracy: {accuracy_train_dt:.4f}')\n",
        "print(f'Precision: {precision_train_dt:.4f}')\n",
        "print(f'Recall: {recall_train_dt:.4f}')\n",
        "print(f'F1 Score: {f1_train_dt:.4f}')\n",
        "\n",
        "print(\"Validation set metrics (Decision Trees):\")\n",
        "print(f'Accuracy: {accuracy_val_dt:.4f}')\n",
        "print(f'Precision: {precision_val_dt:.4f}')\n",
        "print(f'Recall: {recall_val_dt:.4f}')\n",
        "print(f'F1 Score: {f1_val_dt:.4f}')"
      ]
    },
    {
      "cell_type": "code",
      "execution_count": 46,
      "metadata": {
        "id": "9Iy2KOLJRUj4"
      },
      "outputs": [],
      "source": [
        "# Additional evaluation: ROC curve for the best model (assuming Random Forest for demonstration)\n",
        "rf = RandomForestClassifier(n_estimators=100, random_state=42)\n",
        "rf.fit(X_train, y_train)\n",
        "\n",
        "# Make predictions\n",
        "y_pred_train_rf = rf.predict(X_train)\n",
        "y_pred_val_rf = rf.predict(X_val)\n"
      ]
    },
    {
      "cell_type": "code",
      "execution_count": 47,
      "metadata": {
        "colab": {
          "base_uri": "https://localhost:8080/"
        },
        "id": "o-TzYrm2w3Ur",
        "outputId": "2ece104d-a485-463f-b4c7-49ec8a833000"
      },
      "outputs": [
        {
          "name": "stdout",
          "output_type": "stream",
          "text": [
            "Training set metrics (Random Forest):\n",
            "Accuracy: 1.0000\n",
            "Precision: 1.0000\n",
            "Recall: 1.0000\n",
            "F1 Score: 1.0000\n",
            "Validation set metrics (Random Forest):\n",
            "Accuracy: 0.8176\n",
            "Precision: 0.8152\n",
            "Recall: 0.8176\n",
            "F1 Score: 0.8150\n"
          ]
        }
      ],
      "source": [
        "# Compute evaluation metrics\n",
        "accuracy_train_rf = accuracy_score(y_train, y_pred_train_rf)\n",
        "precision_train_rf = precision_score(y_train, y_pred_train_rf, average='weighted')\n",
        "recall_train_rf = recall_score(y_train, y_pred_train_rf, average='weighted')\n",
        "f1_train_rf = f1_score(y_train, y_pred_train_rf, average='weighted')\n",
        "\n",
        "accuracy_val_rf = accuracy_score(y_val, y_pred_val_rf)\n",
        "precision_val_rf = precision_score(y_val, y_pred_val_rf, average='weighted')\n",
        "recall_val_rf = recall_score(y_val, y_pred_val_rf, average='weighted')\n",
        "f1_val_rf = f1_score(y_val, y_pred_val_rf, average='weighted')\n",
        "\n",
        "print(\"Training set metrics (Random Forest):\")\n",
        "print(f'Accuracy: {accuracy_train_rf:.4f}')\n",
        "print(f'Precision: {precision_train_rf:.4f}')\n",
        "print(f'Recall: {recall_train_rf:.4f}')\n",
        "print(f'F1 Score: {f1_train_rf:.4f}')\n",
        "\n",
        "print(\"Validation set metrics (Random Forest):\")\n",
        "print(f'Accuracy: {accuracy_val_rf:.4f}')\n",
        "print(f'Precision: {precision_val_rf:.4f}')\n",
        "print(f'Recall: {recall_val_rf:.4f}')\n",
        "print(f'F1 Score: {f1_val_rf:.4f}')"
      ]
    },
    {
      "cell_type": "code",
      "execution_count": 48,
      "metadata": {
        "colab": {
          "base_uri": "https://localhost:8080/",
          "height": 530
        },
        "id": "5uR6aTkzRaCi",
        "outputId": "49c889cc-3713-4f21-a65c-8d840e926a56"
      },
      "outputs": [
        {
          "data": {
            "text/html": [
              "<div>\n",
              "<style scoped>\n",
              "    .dataframe tbody tr th:only-of-type {\n",
              "        vertical-align: middle;\n",
              "    }\n",
              "\n",
              "    .dataframe tbody tr th {\n",
              "        vertical-align: top;\n",
              "    }\n",
              "\n",
              "    .dataframe thead th {\n",
              "        text-align: right;\n",
              "    }\n",
              "</style>\n",
              "<table border=\"1\" class=\"dataframe\">\n",
              "  <thead>\n",
              "    <tr style=\"text-align: right;\">\n",
              "      <th></th>\n",
              "      <th>User_ID</th>\n",
              "      <th>Age</th>\n",
              "      <th>Gender</th>\n",
              "      <th>Platform</th>\n",
              "      <th>Daily_Usage_Time (minutes)</th>\n",
              "      <th>Posts_Per_Day</th>\n",
              "      <th>Likes_Received_Per_Day</th>\n",
              "      <th>Comments_Received_Per_Day</th>\n",
              "      <th>Messages_Sent_Per_Day</th>\n",
              "      <th>Dominant_Emotion</th>\n",
              "    </tr>\n",
              "  </thead>\n",
              "  <tbody>\n",
              "    <tr>\n",
              "      <th>0</th>\n",
              "      <td>500</td>\n",
              "      <td>27</td>\n",
              "      <td>Female</td>\n",
              "      <td>Snapchat</td>\n",
              "      <td>120</td>\n",
              "      <td>4</td>\n",
              "      <td>40</td>\n",
              "      <td>18</td>\n",
              "      <td>22</td>\n",
              "      <td>Neutral</td>\n",
              "    </tr>\n",
              "    <tr>\n",
              "      <th>1</th>\n",
              "      <td>488</td>\n",
              "      <td>21</td>\n",
              "      <td>Non-binary</td>\n",
              "      <td>Snapchat</td>\n",
              "      <td>60</td>\n",
              "      <td>1</td>\n",
              "      <td>18</td>\n",
              "      <td>7</td>\n",
              "      <td>12</td>\n",
              "      <td>Neutral</td>\n",
              "    </tr>\n",
              "    <tr>\n",
              "      <th>2</th>\n",
              "      <td>776</td>\n",
              "      <td>28</td>\n",
              "      <td>Non-binary</td>\n",
              "      <td>Snapchat</td>\n",
              "      <td>115</td>\n",
              "      <td>3</td>\n",
              "      <td>38</td>\n",
              "      <td>18</td>\n",
              "      <td>27</td>\n",
              "      <td>Anxiety</td>\n",
              "    </tr>\n",
              "    <tr>\n",
              "      <th>3</th>\n",
              "      <td>869</td>\n",
              "      <td>27</td>\n",
              "      <td>Male</td>\n",
              "      <td>Telegram</td>\n",
              "      <td>105</td>\n",
              "      <td>3</td>\n",
              "      <td>48</td>\n",
              "      <td>20</td>\n",
              "      <td>28</td>\n",
              "      <td>Anxiety</td>\n",
              "    </tr>\n",
              "    <tr>\n",
              "      <th>4</th>\n",
              "      <td>573</td>\n",
              "      <td>21</td>\n",
              "      <td>Non-binary</td>\n",
              "      <td>Facebook</td>\n",
              "      <td>55</td>\n",
              "      <td>3</td>\n",
              "      <td>17</td>\n",
              "      <td>7</td>\n",
              "      <td>12</td>\n",
              "      <td>Neutral</td>\n",
              "    </tr>\n",
              "    <tr>\n",
              "      <th>...</th>\n",
              "      <td>...</td>\n",
              "      <td>...</td>\n",
              "      <td>...</td>\n",
              "      <td>...</td>\n",
              "      <td>...</td>\n",
              "      <td>...</td>\n",
              "      <td>...</td>\n",
              "      <td>...</td>\n",
              "      <td>...</td>\n",
              "      <td>...</td>\n",
              "    </tr>\n",
              "    <tr>\n",
              "      <th>98</th>\n",
              "      <td>184</td>\n",
              "      <td>22</td>\n",
              "      <td>Male</td>\n",
              "      <td>Twitter</td>\n",
              "      <td>70</td>\n",
              "      <td>1</td>\n",
              "      <td>20</td>\n",
              "      <td>5</td>\n",
              "      <td>22</td>\n",
              "      <td>Neutral</td>\n",
              "    </tr>\n",
              "    <tr>\n",
              "      <th>99</th>\n",
              "      <td>896</td>\n",
              "      <td>33</td>\n",
              "      <td>Male</td>\n",
              "      <td>LinkedIn</td>\n",
              "      <td>85</td>\n",
              "      <td>4</td>\n",
              "      <td>35</td>\n",
              "      <td>18</td>\n",
              "      <td>18</td>\n",
              "      <td>Boredom</td>\n",
              "    </tr>\n",
              "    <tr>\n",
              "      <th>100</th>\n",
              "      <td>708</td>\n",
              "      <td>24</td>\n",
              "      <td>Non-binary</td>\n",
              "      <td>Facebook</td>\n",
              "      <td>110</td>\n",
              "      <td>6</td>\n",
              "      <td>35</td>\n",
              "      <td>23</td>\n",
              "      <td>25</td>\n",
              "      <td>Sadness</td>\n",
              "    </tr>\n",
              "    <tr>\n",
              "      <th>101</th>\n",
              "      <td>993</td>\n",
              "      <td>24</td>\n",
              "      <td>Male</td>\n",
              "      <td>Telegram</td>\n",
              "      <td>75</td>\n",
              "      <td>3</td>\n",
              "      <td>37</td>\n",
              "      <td>16</td>\n",
              "      <td>22</td>\n",
              "      <td>Neutral</td>\n",
              "    </tr>\n",
              "    <tr>\n",
              "      <th>102</th>\n",
              "      <td>60</td>\n",
              "      <td>27</td>\n",
              "      <td>Male</td>\n",
              "      <td>Facebook</td>\n",
              "      <td>60</td>\n",
              "      <td>1</td>\n",
              "      <td>10</td>\n",
              "      <td>4</td>\n",
              "      <td>15</td>\n",
              "      <td>Boredom</td>\n",
              "    </tr>\n",
              "  </tbody>\n",
              "</table>\n",
              "<p>103 rows × 10 columns</p>\n",
              "</div>"
            ],
            "text/plain": [
              "     User_ID  Age      Gender  Platform  Daily_Usage_Time (minutes)  \\\n",
              "0        500   27      Female  Snapchat                         120   \n",
              "1        488   21  Non-binary  Snapchat                          60   \n",
              "2        776   28  Non-binary  Snapchat                         115   \n",
              "3        869   27        Male  Telegram                         105   \n",
              "4        573   21  Non-binary  Facebook                          55   \n",
              "..       ...  ...         ...       ...                         ...   \n",
              "98       184   22        Male   Twitter                          70   \n",
              "99       896   33        Male  LinkedIn                          85   \n",
              "100      708   24  Non-binary  Facebook                         110   \n",
              "101      993   24        Male  Telegram                          75   \n",
              "102       60   27        Male  Facebook                          60   \n",
              "\n",
              "     Posts_Per_Day  Likes_Received_Per_Day  Comments_Received_Per_Day  \\\n",
              "0                4                      40                         18   \n",
              "1                1                      18                          7   \n",
              "2                3                      38                         18   \n",
              "3                3                      48                         20   \n",
              "4                3                      17                          7   \n",
              "..             ...                     ...                        ...   \n",
              "98               1                      20                          5   \n",
              "99               4                      35                         18   \n",
              "100              6                      35                         23   \n",
              "101              3                      37                         16   \n",
              "102              1                      10                          4   \n",
              "\n",
              "     Messages_Sent_Per_Day Dominant_Emotion  \n",
              "0                       22          Neutral  \n",
              "1                       12          Neutral  \n",
              "2                       27          Anxiety  \n",
              "3                       28          Anxiety  \n",
              "4                       12          Neutral  \n",
              "..                     ...              ...  \n",
              "98                      22          Neutral  \n",
              "99                      18          Boredom  \n",
              "100                     25          Sadness  \n",
              "101                     22          Neutral  \n",
              "102                     15          Boredom  \n",
              "\n",
              "[103 rows x 10 columns]"
            ]
          },
          "execution_count": 48,
          "metadata": {},
          "output_type": "execute_result"
        }
      ],
      "source": [
        "#now preprocess test data to make predicitons\n",
        "test_data"
      ]
    },
    {
      "cell_type": "code",
      "execution_count": 49,
      "metadata": {
        "id": "4PM_jIobyWm4"
      },
      "outputs": [],
      "source": [
        "#Encode categorical variables\n",
        "label_encoders = {}\n",
        "for column in ['Gender', 'Platform']:\n",
        "    label_encoders[column] = LabelEncoder()\n",
        "    test_data[column] = label_encoders[column].fit_transform(test_data[column])\n"
      ]
    },
    {
      "cell_type": "code",
      "execution_count": 50,
      "metadata": {
        "id": "cweezg_eyMGw"
      },
      "outputs": [],
      "source": [
        "#Normalize numeric features\n",
        "scaler = MinMaxScaler()\n",
        "test_data[['Age', 'Daily_Usage_Time (minutes)', 'Posts_Per_Day', 'Likes_Received_Per_Day', 'Comments_Received_Per_Day', 'Messages_Sent_Per_Day']] = scaler.fit_transform(\n",
        "    test_data[['Age', 'Daily_Usage_Time (minutes)', 'Posts_Per_Day', 'Likes_Received_Per_Day', 'Comments_Received_Per_Day', 'Messages_Sent_Per_Day']])\n"
      ]
    },
    {
      "cell_type": "code",
      "execution_count": 51,
      "metadata": {
        "id": "8G5etEFnyvED"
      },
      "outputs": [],
      "source": [
        "X_test1 = test_data.drop(columns=['User_ID', 'Dominant_Emotion'])\n",
        "y_test1 = test_data['Dominant_Emotion']"
      ]
    },
    {
      "cell_type": "code",
      "execution_count": 52,
      "metadata": {
        "id": "CME0hMxWy_Ze"
      },
      "outputs": [],
      "source": [
        "y_pred_test_linear_reg_gender = lin_reg_gender.predict(X_test1)\n",
        "y_pred_test_multi = lin_reg_multi.predict(X_test1)\n",
        "y_pred_test_poly = lin_reg_poly.predict(X_test1)\n",
        "y_pred_test_log = log_reg.predict(X_test1)\n",
        "y_pred_test_knn_euclidean = knn_euclidean.predict(X_test1)\n",
        "y_pred_test_knn_manhattan = knn_manhattan.predict(X_test1)\n",
        "y_pred_test_knn_cosine = knn_cosine.predict(X_test1)\n",
        "y_pred_test_dt = dt.predict(X_test1)\n",
        "y_pred_test_rf = rf.predict(X_test1)\n"
      ]
    },
    {
      "cell_type": "code",
      "execution_count": 53,
      "metadata": {
        "id": "FB-B5HSc4o_y"
      },
      "outputs": [],
      "source": [
        "label_encoder = LabelEncoder()\n",
        "y_test1 = label_encoder.fit_transform(y_test1)"
      ]
    },
    {
      "cell_type": "code",
      "execution_count": 54,
      "metadata": {
        "id": "t1EfyoZe9cVT"
      },
      "outputs": [],
      "source": [
        "# Initialize lists\n",
        "algo_names = []\n",
        "accuracy_scores = []\n",
        "precision_scores = []\n",
        "recall_scores = []\n",
        "f1_scores = []\n",
        "\n",
        "# Linear Regression (Gender)\n",
        "algo_names.append(\"Linear Regression (Gender)\")\n",
        "accuracy_scores.append(accuracy_score(y_test1, np.round(y_pred_test_linear_reg_gender)))\n",
        "precision_scores.append(precision_score(y_test1, np.round(y_pred_test_linear_reg_gender), average='weighted'))\n",
        "recall_scores.append(recall_score(y_test1, np.round(y_pred_test_linear_reg_gender), average='weighted'))\n",
        "f1_scores.append(f1_score(y_test1, np.round(y_pred_test_linear_reg_gender), average='weighted'))\n",
        "\n",
        "# Multivariate Linear Regression\n",
        "algo_names.append(\"Multivariate Linear Regression\")\n",
        "accuracy_scores.append(accuracy_score(y_test1, np.round(y_pred_test_multi)))\n",
        "precision_scores.append(precision_score(y_test1, np.round(y_pred_test_multi), average='weighted'))\n",
        "recall_scores.append(recall_score(y_test1, np.round(y_pred_test_multi), average='weighted'))\n",
        "f1_scores.append(f1_score(y_test1, np.round(y_pred_test_multi), average='weighted'))\n",
        "\n",
        "# Polynomial Regression\n",
        "algo_names.append(\"Polynomial Regression\")\n",
        "accuracy_scores.append(accuracy_score(y_test1, np.round(y_pred_test_poly)))\n",
        "precision_scores.append(precision_score(y_test1, np.round(y_pred_test_poly), average='weighted'))\n",
        "recall_scores.append(recall_score(y_test1, np.round(y_pred_test_poly), average='weighted'))\n",
        "f1_scores.append(f1_score(y_test1, np.round(y_pred_test_poly), average='weighted'))\n",
        "\n",
        "# Logistic Regression\n",
        "algo_names.append(\"Logistic Regression\")\n",
        "accuracy_scores.append(accuracy_score(y_test1, np.round(y_pred_test_log)))\n",
        "precision_scores.append(precision_score(y_test1, np.round(y_pred_test_log), average='weighted'))\n",
        "recall_scores.append(recall_score(y_test1, np.round(y_pred_test_log), average='weighted'))\n",
        "f1_scores.append(f1_score(y_test1, np.round(y_pred_test_log), average='weighted'))\n",
        "\n",
        "# KNN (Euclidean Distance)\n",
        "algo_names.append(\"KNN (Euclidean Distance)\")\n",
        "accuracy_scores.append(accuracy_score(y_test1, y_pred_test_knn_euclidean))\n",
        "precision_scores.append(precision_score(y_test1, y_pred_test_knn_euclidean, average='weighted'))\n",
        "recall_scores.append(recall_score(y_test1, y_pred_test_knn_euclidean, average='weighted'))\n",
        "f1_scores.append(f1_score(y_test1, y_pred_test_knn_euclidean, average='weighted'))\n",
        "\n",
        "# KNN (Manhattan Distance)\n",
        "algo_names.append(\"KNN (Manhattan Distance)\")\n",
        "accuracy_scores.append(accuracy_score(y_test1, y_pred_test_knn_manhattan))\n",
        "precision_scores.append(precision_score(y_test1, y_pred_test_knn_manhattan, average='weighted'))\n",
        "recall_scores.append(recall_score(y_test1, y_pred_test_knn_manhattan, average='weighted'))\n",
        "f1_scores.append(f1_score(y_test1, y_pred_test_knn_manhattan, average='weighted'))\n",
        "\n",
        "# KNN (Cosine Distance)\n",
        "algo_names.append(\"KNN (Cosine Distance)\")\n",
        "accuracy_scores.append(accuracy_score(y_test1, y_pred_test_knn_cosine))\n",
        "precision_scores.append(precision_score(y_test1, y_pred_test_knn_cosine, average='weighted'))\n",
        "recall_scores.append(recall_score(y_test1, y_pred_test_knn_cosine, average='weighted'))\n",
        "f1_scores.append(f1_score(y_test1, y_pred_test_knn_cosine, average='weighted'))\n",
        "\n",
        "# Decision Trees\n",
        "algo_names.append(\"Decision Trees\")\n",
        "accuracy_scores.append(accuracy_score(y_test1, y_pred_test_dt))\n",
        "precision_scores.append(precision_score(y_test1, y_pred_test_dt, average='weighted'))\n",
        "recall_scores.append(recall_score(y_test1, y_pred_test_dt, average='weighted'))\n",
        "f1_scores.append(f1_score(y_test1, y_pred_test_dt, average='weighted'))\n",
        "\n",
        "# Random Forest\n",
        "algo_names.append(\"Random Forest\")\n",
        "accuracy_scores.append(accuracy_score(y_test1, y_pred_test_rf))\n",
        "precision_scores.append(precision_score(y_test1, y_pred_test_rf, average='weighted'))\n",
        "recall_scores.append(recall_score(y_test1, y_pred_test_rf, average='weighted'))\n",
        "f1_scores.append(f1_score(y_test1, y_pred_test_rf, average='weighted'))\n"
      ]
    },
    {
      "cell_type": "code",
      "execution_count": 55,
      "metadata": {
        "colab": {
          "base_uri": "https://localhost:8080/",
          "height": 331
        },
        "id": "HFDBnF1s9381",
        "outputId": "4ae808ce-cfc4-48a6-dae2-50418ddb2c8b"
      },
      "outputs": [
        {
          "data": {
            "text/html": [
              "<div>\n",
              "<style scoped>\n",
              "    .dataframe tbody tr th:only-of-type {\n",
              "        vertical-align: middle;\n",
              "    }\n",
              "\n",
              "    .dataframe tbody tr th {\n",
              "        vertical-align: top;\n",
              "    }\n",
              "\n",
              "    .dataframe thead th {\n",
              "        text-align: right;\n",
              "    }\n",
              "</style>\n",
              "<table border=\"1\" class=\"dataframe\">\n",
              "  <thead>\n",
              "    <tr style=\"text-align: right;\">\n",
              "      <th></th>\n",
              "      <th>Algorithm</th>\n",
              "      <th>Accuracy</th>\n",
              "      <th>Precision</th>\n",
              "      <th>Recall</th>\n",
              "      <th>F1-score</th>\n",
              "    </tr>\n",
              "  </thead>\n",
              "  <tbody>\n",
              "    <tr>\n",
              "      <th>0</th>\n",
              "      <td>Linear Regression (Gender)</td>\n",
              "      <td>0.281553</td>\n",
              "      <td>0.133495</td>\n",
              "      <td>0.281553</td>\n",
              "      <td>0.180511</td>\n",
              "    </tr>\n",
              "    <tr>\n",
              "      <th>1</th>\n",
              "      <td>Multivariate Linear Regression</td>\n",
              "      <td>0.281553</td>\n",
              "      <td>0.133495</td>\n",
              "      <td>0.281553</td>\n",
              "      <td>0.180511</td>\n",
              "    </tr>\n",
              "    <tr>\n",
              "      <th>2</th>\n",
              "      <td>Polynomial Regression</td>\n",
              "      <td>0.058252</td>\n",
              "      <td>0.378641</td>\n",
              "      <td>0.058252</td>\n",
              "      <td>0.093204</td>\n",
              "    </tr>\n",
              "    <tr>\n",
              "      <th>3</th>\n",
              "      <td>Logistic Regression</td>\n",
              "      <td>0.116505</td>\n",
              "      <td>0.134404</td>\n",
              "      <td>0.116505</td>\n",
              "      <td>0.117476</td>\n",
              "    </tr>\n",
              "    <tr>\n",
              "      <th>4</th>\n",
              "      <td>KNN (Euclidean Distance)</td>\n",
              "      <td>0.009709</td>\n",
              "      <td>0.021359</td>\n",
              "      <td>0.009709</td>\n",
              "      <td>0.013350</td>\n",
              "    </tr>\n",
              "    <tr>\n",
              "      <th>5</th>\n",
              "      <td>KNN (Manhattan Distance)</td>\n",
              "      <td>0.009709</td>\n",
              "      <td>0.021359</td>\n",
              "      <td>0.009709</td>\n",
              "      <td>0.013350</td>\n",
              "    </tr>\n",
              "    <tr>\n",
              "      <th>6</th>\n",
              "      <td>KNN (Cosine Distance)</td>\n",
              "      <td>0.009709</td>\n",
              "      <td>0.021359</td>\n",
              "      <td>0.009709</td>\n",
              "      <td>0.013350</td>\n",
              "    </tr>\n",
              "    <tr>\n",
              "      <th>7</th>\n",
              "      <td>Decision Trees</td>\n",
              "      <td>0.009709</td>\n",
              "      <td>0.017799</td>\n",
              "      <td>0.009709</td>\n",
              "      <td>0.012564</td>\n",
              "    </tr>\n",
              "    <tr>\n",
              "      <th>8</th>\n",
              "      <td>Random Forest</td>\n",
              "      <td>0.009709</td>\n",
              "      <td>0.004531</td>\n",
              "      <td>0.009709</td>\n",
              "      <td>0.006178</td>\n",
              "    </tr>\n",
              "  </tbody>\n",
              "</table>\n",
              "</div>"
            ],
            "text/plain": [
              "                        Algorithm  Accuracy  Precision    Recall  F1-score\n",
              "0      Linear Regression (Gender)  0.281553   0.133495  0.281553  0.180511\n",
              "1  Multivariate Linear Regression  0.281553   0.133495  0.281553  0.180511\n",
              "2           Polynomial Regression  0.058252   0.378641  0.058252  0.093204\n",
              "3             Logistic Regression  0.116505   0.134404  0.116505  0.117476\n",
              "4        KNN (Euclidean Distance)  0.009709   0.021359  0.009709  0.013350\n",
              "5        KNN (Manhattan Distance)  0.009709   0.021359  0.009709  0.013350\n",
              "6           KNN (Cosine Distance)  0.009709   0.021359  0.009709  0.013350\n",
              "7                  Decision Trees  0.009709   0.017799  0.009709  0.012564\n",
              "8                   Random Forest  0.009709   0.004531  0.009709  0.006178"
            ]
          },
          "execution_count": 55,
          "metadata": {},
          "output_type": "execute_result"
        }
      ],
      "source": [
        "#printung results of all algorithms on test data\n",
        "df = pd.DataFrame({\n",
        "    'Algorithm': algo_names,\n",
        "    'Accuracy': accuracy_scores,\n",
        "    'Precision': precision_scores,\n",
        "    'Recall': recall_scores,\n",
        "    'F1-score': f1_scores\n",
        "})\n",
        "df"
      ]
    },
    {
      "cell_type": "code",
      "execution_count": 56,
      "metadata": {
        "colab": {
          "base_uri": "https://localhost:8080/",
          "height": 718
        },
        "id": "v35TqTOp78qe",
        "outputId": "9b2f3cb6-ed91-487f-c822-c93475524ca5"
      },
      "outputs": [
        {
          "data": {
            "image/png": "[encoded data removed]",
            "text/plain": [
              "<Figure size 1000x800 with 1 Axes>"
            ]
          },
          "metadata": {},
          "output_type": "display_data"
        }
      ],
      "source": [
        "import numpy as np\n",
        "import matplotlib.pyplot as plt\n",
        "from sklearn.metrics import roc_curve, auc\n",
        "from sklearn.preprocessing import label_binarize\n",
        "from itertools import cycle\n",
        "\n",
        "\n",
        "y_scores_linear_reg_gender = y_pred_test_linear_reg_gender\n",
        "y_scores_multi = y_pred_test_multi\n",
        "y_scores_poly = y_pred_test_poly\n",
        "y_scores_log = y_pred_test_log\n",
        "y_scores_knn_euclidean = y_pred_test_knn_euclidean\n",
        "y_scores_knn_manhattan = y_pred_test_knn_manhattan\n",
        "y_scores_knn_cosine = y_pred_test_knn_cosine\n",
        "y_scores_dt = y_pred_test_dt\n",
        "y_scores_rf = y_pred_test_rf\n",
        "\n",
        "# Combine predicted probabilities into a list\n",
        "y_scores = [\n",
        "    y_scores_linear_reg_gender,\n",
        "    y_scores_multi,\n",
        "    y_scores_poly,\n",
        "    y_scores_log,\n",
        "    y_scores_knn_euclidean,\n",
        "    y_scores_knn_manhattan,\n",
        "    y_scores_knn_cosine,\n",
        "    y_scores_dt,\n",
        "    y_scores_rf\n",
        "]\n",
        "\n",
        "y_test = y_test1\n",
        "# Binarize the out as we have multiclass data\n",
        "y_test_bin = label_binarize(y_test, classes=np.unique(y_test))\n",
        "\n",
        "\n",
        "n_classes = len(np.unique(y_test))\n",
        "fpr = dict()\n",
        "tpr = dict()\n",
        "roc_auc = dict()\n",
        "\n",
        "for i in range(n_classes):\n",
        "    fpr[i], tpr[i], _ = roc_curve(y_test_bin[:, i], y_scores[i])\n",
        "    roc_auc[i] = auc(fpr[i], tpr[i])\n",
        "\n",
        "# Plot all ROC curves\n",
        "plt.figure(figsize=(10, 8))\n",
        "colors = cycle(['blue', 'red', 'green', 'purple', 'orange', 'yellow', 'cyan', 'magenta', 'brown'])\n",
        "\n",
        "for i, color in zip(range(n_classes), colors):\n",
        "    plt.plot(fpr[i], tpr[i], color=color, lw=2,\n",
        "             label='ROC curve of class {0} (AUC = {1:0.2f})'\n",
        "             ''.format(i, roc_auc[i]))\n",
        "\n",
        "plt.plot([0, 1], [0, 1], 'k--', lw=2)\n",
        "plt.xlim([0.0, 1.0])\n",
        "plt.ylim([0.0, 1.05])\n",
        "plt.xlabel('False Positive Rate')\n",
        "plt.ylabel('True Positive Rate')\n",
        "plt.title('Receiver Operating Characteristic (ROC) Curve for Multi-Class')\n",
        "plt.legend(loc=\"lower right\")\n",
        "plt.show()\n"
      ]
    },
    {
      "cell_type": "code",
      "execution_count": 58,
      "metadata": {
        "colab": {
          "base_uri": "https://localhost:8080/"
        },
        "id": "_SveZMQODZsP",
        "outputId": "0d7ab06d-121a-49ae-fb64-af97c3d6e11c"
      },
      "outputs": [
        {
          "name": "stdout",
          "output_type": "stream",
          "text": [
            "Please enter the following information:\n"
          ]
        }
      ],
      "source": [
        "import pandas as pd\n",
        "\n",
        "def get_user_data():\n",
        "    print(\"Please enter the following information:\")\n",
        "\n",
        "    age = int(input(\"Age: \"))\n",
        "\n",
        "    gender = input(\"Gender (Male/Female/Other): \").strip().lower()  # Assuming standard input format\n",
        "\n",
        "    platform = input(\"Platform (e.g., Facebook, Instagram): \").strip()\n",
        "\n",
        "    daily_usage_time = float(input(\"Daily Usage Time (minutes): \"))\n",
        "\n",
        "    posts_per_day = float(input(\"Posts Per Day: \"))\n",
        "\n",
        "    likes_received_per_day = float(input(\"Likes Received Per Day: \"))\n",
        "\n",
        "    comments_received_per_day = float(input(\"Comments Received Per Day: \"))\n",
        "\n",
        "    messages_sent_per_day = float(input(\"Messages Sent Per Day: \"))\n",
        "\n",
        "    dominant_emotion = input(\"Dominant Emotion (Neutral/Happiness/Anxiety/Sadness/Boredom/Anger/Agression): \").strip().lower()\n",
        "\n",
        "    # Return collected data as a dictionary\n",
        "    user_data = {\n",
        "        'Age': age,\n",
        "        'Gender': gender,\n",
        "        'Platform': platform,\n",
        "        'Daily_Usage_Time (minutes)': daily_usage_time,\n",
        "        'Posts_Per_Day': posts_per_day,\n",
        "        'Likes_Received_Per_Day': likes_received_per_day,\n",
        "        'Comments_Received_Per_Day': comments_received_per_day,\n",
        "        'Messages_Sent_Per_Day': messages_sent_per_day,\n",
        "        'Dominant_Emotion': dominant_emotion\n",
        "    }\n",
        "\n",
        "    return user_data\n",
        "\n",
        "if __name__ == \"__main__\":\n",
        "    user_data = get_user_data()\n",
        "\n",
        "\n",
        "    user_df = pd.DataFrame([user_data])\n"
      ]
    },
    {
      "cell_type": "code",
      "execution_count": 59,
      "metadata": {
        "colab": {
          "base_uri": "https://localhost:8080/",
          "height": 118
        },
        "id": "71x-xvMGHivO",
        "outputId": "465b2223-12d1-4145-db40-8eddc2f7ed37"
      },
      "outputs": [
        {
          "data": {
            "text/html": [
              "<div>\n",
              "<style scoped>\n",
              "    .dataframe tbody tr th:only-of-type {\n",
              "        vertical-align: middle;\n",
              "    }\n",
              "\n",
              "    .dataframe tbody tr th {\n",
              "        vertical-align: top;\n",
              "    }\n",
              "\n",
              "    .dataframe thead th {\n",
              "        text-align: right;\n",
              "    }\n",
              "</style>\n",
              "<table border=\"1\" class=\"dataframe\">\n",
              "  <thead>\n",
              "    <tr style=\"text-align: right;\">\n",
              "      <th></th>\n",
              "      <th>Age</th>\n",
              "      <th>Gender</th>\n",
              "      <th>Platform</th>\n",
              "      <th>Daily_Usage_Time (minutes)</th>\n",
              "      <th>Posts_Per_Day</th>\n",
              "      <th>Likes_Received_Per_Day</th>\n",
              "      <th>Comments_Received_Per_Day</th>\n",
              "      <th>Messages_Sent_Per_Day</th>\n",
              "      <th>Dominant_Emotion</th>\n",
              "    </tr>\n",
              "  </thead>\n",
              "  <tbody>\n",
              "    <tr>\n",
              "      <th>0</th>\n",
              "      <td>25</td>\n",
              "      <td>male</td>\n",
              "      <td>Instagram</td>\n",
              "      <td>30.0</td>\n",
              "      <td>1.0</td>\n",
              "      <td>20.0</td>\n",
              "      <td>4.0</td>\n",
              "      <td>40.0</td>\n",
              "      <td>boredom</td>\n",
              "    </tr>\n",
              "  </tbody>\n",
              "</table>\n",
              "</div>"
            ],
            "text/plain": [
              "   Age Gender   Platform  Daily_Usage_Time (minutes)  Posts_Per_Day  \\\n",
              "0   25   male  Instagram                        30.0            1.0   \n",
              "\n",
              "   Likes_Received_Per_Day  Comments_Received_Per_Day  Messages_Sent_Per_Day  \\\n",
              "0                    20.0                        4.0                   40.0   \n",
              "\n",
              "  Dominant_Emotion  \n",
              "0          boredom  "
            ]
          },
          "execution_count": 59,
          "metadata": {},
          "output_type": "execute_result"
        }
      ],
      "source": [
        "user_df"
      ]
    },
    {
      "cell_type": "code",
      "execution_count": 60,
      "metadata": {
        "id": "xS3bFnQoHv2q"
      },
      "outputs": [],
      "source": [
        "#Encode categorical variables\n",
        "label_encoders = {}\n",
        "for column in ['Gender', 'Platform']:\n",
        "    label_encoders[column] = LabelEncoder()\n",
        "    user_df[column] = label_encoders[column].fit_transform(user_df[column])"
      ]
    },
    {
      "cell_type": "code",
      "execution_count": 61,
      "metadata": {
        "id": "E31LSeauNOHl"
      },
      "outputs": [],
      "source": [
        "#Normalize numeric features\n",
        "scaler = MinMaxScaler()\n",
        "test_data[['Age', 'Daily_Usage_Time (minutes)', 'Posts_Per_Day', 'Likes_Received_Per_Day', 'Comments_Received_Per_Day', 'Messages_Sent_Per_Day']] = scaler.fit_transform(\n",
        "    test_data[['Age', 'Daily_Usage_Time (minutes)', 'Posts_Per_Day', 'Likes_Received_Per_Day', 'Comments_Received_Per_Day', 'Messages_Sent_Per_Day']])\n"
      ]
    },
    {
      "cell_type": "code",
      "execution_count": 62,
      "metadata": {
        "id": "7rdugoVbJajN"
      },
      "outputs": [],
      "source": [
        "user_df_X = user_df.drop(columns=['Dominant_Emotion'])\n",
        "user_df_Y = user_df['Dominant_Emotion']"
      ]
    },
    {
      "cell_type": "code",
      "execution_count": 63,
      "metadata": {
        "id": "Q0NziIetKvWR"
      },
      "outputs": [],
      "source": [
        "y_pred_test_linear_reg_gender = lin_reg_gender.predict(user_df_X).astype(int)\n",
        "y_pred_test_multi = lin_reg_multi.predict(user_df_X).astype(int)\n",
        "y_pred_test_poly = lin_reg_poly.predict(user_df_X).astype(int)\n",
        "y_pred_test_log = log_reg.predict(user_df_X).astype(int)\n",
        "y_pred_test_knn_euclidean = knn_euclidean.predict(user_df_X).astype(int)\n",
        "y_pred_test_knn_manhattan = knn_manhattan.predict(user_df_X).astype(int)\n",
        "y_pred_test_knn_cosine = knn_cosine.predict(user_df_X).astype(int)\n",
        "y_pred_test_dt = dt.predict(user_df_X).astype(int)\n",
        "y_pred_test_rf = rf.predict(user_df_X).astype(int)\n"
      ]
    },
    {
      "cell_type": "code",
      "execution_count": 64,
      "metadata": {
        "id": "INuz0bk6MpcK"
      },
      "outputs": [],
      "source": [
        "emotion_mapping_reverse = {\n",
        "    0: 'Neutral',\n",
        "    1: 'Happiness',\n",
        "    2: 'Anxiety',\n",
        "    3: 'Sadness',\n",
        "    4: 'Boredom',\n",
        "    5: 'Anger',\n",
        "    6: 'Aggression'\n",
        "}\n"
      ]
    },
    {
      "cell_type": "code",
      "execution_count": 69,
      "metadata": {
        "colab": {
          "base_uri": "https://localhost:8080/"
        },
        "id": "nf-YM3CoMrHx",
        "outputId": "13858bab-35e5-4cc5-a7a7-26b46ccac3d0"
      },
      "outputs": [
        {
          "name": "stdout",
          "output_type": "stream",
          "text": [
            "Predicted Emotions (Logistic Regression): ['Boredom']\n",
            "Predicted Emotions (KNN - Euclidean Distance): ['Boredom']\n",
            "Predicted Emotions (KNN - Manhattan Distance): ['Anxiety']\n",
            "Predicted Emotions (KNN - Cosine Distance): ['Anger']\n",
            "Predicted Emotions (Decision Trees): ['Anxiety']\n",
            "Predicted Emotions (Random Forest): ['Anxiety']\n"
          ]
        }
      ],
      "source": [
        "# y_pred_linear_reg_gender_emotions = [emotion_mapping_reverse[label] for label in y_pred_test_linear_reg_gender]\n",
        "# y_pred_multi_emotions = [emotion_mapping_reverse[label] for label in y_pred_test_multi]\n",
        "# y_pred_poly_emotions = [emotion_mapping_reverse[label] for label in y_pred_test_poly]\n",
        "y_pred_log_emotions = [emotion_mapping_reverse[label] for label in y_pred_test_log]\n",
        "y_pred_knn_euclidean_emotions = [emotion_mapping_reverse[label] for label in y_pred_test_knn_euclidean]\n",
        "y_pred_knn_manhattan_emotions = [emotion_mapping_reverse[label] for label in y_pred_test_knn_manhattan]\n",
        "y_pred_knn_cosine_emotions = [emotion_mapping_reverse[label] for label in y_pred_test_knn_cosine]\n",
        "y_pred_dt_emotions = [emotion_mapping_reverse[label] for label in y_pred_test_dt]\n",
        "y_pred_rf_emotions = [emotion_mapping_reverse[label] for label in y_pred_test_rf]\n",
        "\n",
        "# # Print all predicted emotions\n",
        "# print(\"Predicted Emotions (Linear Regression - Gender):\", y_pred_linear_reg_gender_emotions)\n",
        "# print(\"Predicted Emotions (Multivariate Linear Regression):\", y_pred_multi_emotions)\n",
        "# print(\"Predicted Emotions (Polynomial Regression):\", y_pred_poly_emotions)\n",
        "print(\"Predicted Emotions (Logistic Regression):\", y_pred_log_emotions)\n",
        "print(\"Predicted Emotions (KNN - Euclidean Distance):\", y_pred_knn_euclidean_emotions)\n",
        "print(\"Predicted Emotions (KNN - Manhattan Distance):\", y_pred_knn_manhattan_emotions)\n",
        "print(\"Predicted Emotions (KNN - Cosine Distance):\", y_pred_knn_cosine_emotions)\n",
        "print(\"Predicted Emotions (Decision Trees):\", y_pred_dt_emotions)\n",
        "print(\"Predicted Emotions (Random Forest):\", y_pred_rf_emotions)"
      ]
    }
  ],
  "metadata": {
    "colab": {
      "provenance": []
    },
    "kernelspec": {
      "display_name": "Python 3",
      "name": "python3"
    },
    "language_info": {
      "codemirror_mode": {
        "name": "ipython",
        "version": 3
      },
      "file_extension": ".py",
      "mimetype": "text/x-python",
      "name": "python",
      "nbconvert_exporter": "python",
      "pygments_lexer": "ipython3",
      "version": "3.12.4"
    }
  },
  "nbformat": 4,
  "nbformat_minor": 0
}
