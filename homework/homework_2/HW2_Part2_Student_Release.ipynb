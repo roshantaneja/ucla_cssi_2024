{
  "nbformat": 4,
  "nbformat_minor": 0,
  "metadata": {
    "anaconda-cloud": {},
    "kernelspec": {
      "display_name": "Python 3",
      "language": "python",
      "name": "python3"
    },
    "language_info": {
      "codemirror_mode": {
        "name": "ipython",
        "version": 3
      },
      "file_extension": ".py",
      "mimetype": "text/x-python",
      "name": "python",
      "nbconvert_exporter": "python",
      "pygments_lexer": "ipython3",
      "version": "3.8.8"
    },
    "colab": {
      "provenance": []
    }
  },
  "cells": [
    {
      "cell_type": "markdown",
      "metadata": {
        "id": "CX9RyMOFVzQY"
      },
      "source": [
        "# HW1 Part 2: Linear Regression Notebook\n"
      ]
    },
    {
      "cell_type": "code",
      "metadata": {
        "id": "yhT9w1O2VzQY"
      },
      "source": [
        "import numpy as np\n",
        "import scipy as sp\n",
        "import matplotlib as mpl\n",
        "import matplotlib.cm as cm\n",
        "import matplotlib.pyplot as plt\n",
        "import pandas as pd\n",
        "import time\n",
        "pd.set_option('display.width', 500)\n",
        "pd.set_option('display.max_columns', 100)\n",
        "pd.set_option('display.notebook_repr_html', True)\n",
        "import warnings\n",
        "warnings.filterwarnings('ignore')\n",
        "# Displays the plots in notebook\n",
        "%matplotlib inline"
      ],
      "execution_count": null,
      "outputs": []
    },
    {
      "cell_type": "markdown",
      "metadata": {
        "id": "Y6D76tQoVzQZ"
      },
      "source": [
        "<a class=\"anchor\" id=\"third-bullet\"></a>\n",
        "## Linear Regression\n",
        "\n",
        "We first examine a toy problem, focusing our efforts on fitting a linear model to a small dataset with four observations.  Each observation consists of one predictor $x_i$ and one response $y_i$ for $i = 1, 2, 3, 4$,\n",
        "\n",
        "\\begin{align*}\n",
        "(x , y) = \\{(x_1, y_1), (x_2, y_2), (x_3, y_3), (x_4, y_4)\\}.\n",
        "\\end{align*}\n",
        "\n",
        "To be very concrete, let's set the values of the predictors and responses.\n",
        "\n",
        "\\begin{equation*}\n",
        "(x , y) = \\{(1, 0), (2, 2), (3, 4), (5, 5)\\}\n",
        "\\end{equation*}\n",
        "\n",
        "As we discussed in the lecture, we want to fit a model $y=\\beta_0 + \\beta_1 x$ given these observations by minimizing the mean square error (MSE)."
      ]
    },
    {
      "cell_type": "markdown",
      "metadata": {
        "id": "rs8ZVuLzVzQZ"
      },
      "source": [
        "<div class=\"exercise\"><b>Exercise</b></div>\n",
        "\n",
        "* Make two numpy arrays out of this data, x_train and y_train\n",
        "* Check the dimentions of these arrays\n",
        "* Try to reshape them into a different shape\n",
        "* Make points into a very simple scatterplot\n",
        "* Make a better scatterplot\n",
        "  * Adding axis labels\n",
        "  * legend\n",
        "  * title\n",
        "  * anything else in Matplotlib to make it look pretty"
      ]
    },
    {
      "cell_type": "code",
      "metadata": {
        "id": "WrGTgzs-VzQZ"
      },
      "source": [
        "# your code here\n",
        "x_train =\n",
        "y_train ="
      ],
      "execution_count": null,
      "outputs": []
    },
    {
      "cell_type": "markdown",
      "metadata": {
        "id": "QxqQs1T_VzQa"
      },
      "source": [
        "\n",
        "#### Closed-form solution\n",
        "\n",
        "For the single predictor case, we have the following explicit solution:\n",
        "    \\begin{align}\n",
        "      \\beta_1 &= \\frac{\\sum_{i=1}^n{(x_i-\\bar{x})(y_i-\\bar{y})}}{\\sum_{i=1}^n{(x_i-\\bar{x})^2}}\\\\\n",
        "      \\beta_0 &= \\bar{y} - \\beta_1\\bar{x}\\\n",
        "    \\end{align}\n",
        "    \n",
        "where $\\bar{y}$ and $\\bar{x}$ are the mean of the y values and the mean of the x values, respectively."
      ]
    },
    {
      "cell_type": "markdown",
      "metadata": {
        "id": "GOOvIjcLVzQa"
      },
      "source": [
        "###  Building a model from scratch\n",
        "In this part, we will solve the equations for simple linear regression and find the best fit solution to our toy problem."
      ]
    },
    {
      "cell_type": "markdown",
      "metadata": {
        "id": "K3YVc5JjVzQa"
      },
      "source": [
        "The snippets of code below implement the linear regression equations on the observed predictors and responses, which we'll call the training data set.  Let's walk through the code.\n",
        "\n",
        "We have to reshape our arrrays to 2D because each row correspondes to one observation."
      ]
    },
    {
      "cell_type": "markdown",
      "metadata": {
        "id": "3Hz3jlpyVzQc"
      },
      "source": [
        "<div class=\"exercise\"><b>Exercise</b></div>\n",
        "\n",
        "* make an array with shape (2,3)\n",
        "* reshape it to a size that you want"
      ]
    },
    {
      "cell_type": "code",
      "metadata": {
        "id": "AOku6-10VzQc"
      },
      "source": [
        "# your code here"
      ],
      "execution_count": null,
      "outputs": []
    },
    {
      "cell_type": "code",
      "metadata": {
        "id": "4wGstVMYVzQc"
      },
      "source": [
        "# Reshape to be a proper 2D array\n",
        "x_train = x_train.reshape(x_train.shape[0], 1)\n",
        "#x_train = x_train.reshape(-1, 1)\n",
        "y_train = y_train.reshape(y_train.shape[0], 1)\n",
        "print(x_train.shape,y_train.shape)"
      ],
      "execution_count": null,
      "outputs": []
    },
    {
      "cell_type": "code",
      "metadata": {
        "id": "m1_7Oa4fVzQd"
      },
      "source": [
        "# first, compute means\n",
        "# your code here\n",
        "\n",
        "# build the two terms, remember the element-wise computation in numpy array\n",
        "# your code here\n",
        "\n",
        "print(numerator, denominator) #check results"
      ],
      "execution_count": null,
      "outputs": []
    },
    {
      "cell_type": "code",
      "metadata": {
        "id": "96dBlA7_VzQe"
      },
      "source": [
        "#slope beta1\n",
        "# your code here\n",
        "beta_1 =\n",
        "\n",
        "#intercept beta0\n",
        "# your code here\n",
        "beta_2 =\n",
        "\n",
        "print(\"The best-fit line is {0:3.2f} + {1:3.2f} * x\".format(beta_0, beta_1))"
      ],
      "execution_count": null,
      "outputs": []
    },
    {
      "cell_type": "markdown",
      "metadata": {
        "id": "nxG7o9H4VzQe"
      },
      "source": [
        "<div class=\"exercise\"><b>Exercise</b></div>\n",
        "\n",
        "Next, you can write a function called `simple_linear_regression_fit`, that inputs the 1-D training data and returns `beta0` and `beta1`.\n",
        "\n",
        "```python\n",
        "def simple_linear_regression_fit(x_train: np.ndarray, y_train: np.ndarray) -> np.ndarray:\n",
        "    \n",
        "    return\n",
        "```\n",
        "\n",
        "Check your function by calling it with the training data from above and printing out the beta values."
      ]
    },
    {
      "cell_type": "code",
      "metadata": {
        "id": "T55f6oyZVzQe"
      },
      "source": [
        "# Your code here"
      ],
      "execution_count": null,
      "outputs": []
    },
    {
      "cell_type": "markdown",
      "metadata": {
        "id": "KCRXNIX9VzQf"
      },
      "source": [
        "* Let's run this function and see the coefficients"
      ]
    },
    {
      "cell_type": "code",
      "metadata": {
        "id": "753h1seKVzQf"
      },
      "source": [
        "x_train = np.array([1 ,2, 3, 5])\n",
        "y_train = np.array([0, 2, 4, 5])\n",
        "\n",
        "betas = simple_linear_regression_fit(x_train, y_train)\n",
        "\n",
        "beta_0 = betas[0]\n",
        "beta_1 = betas[1]\n",
        "\n",
        "print(\"The best-fit line is {0:8.6f} + {1:8.6f} * x\".format(beta_0, beta_1))"
      ],
      "execution_count": null,
      "outputs": []
    },
    {
      "cell_type": "markdown",
      "metadata": {
        "id": "5uZfYZQtVzQf"
      },
      "source": [
        "<div class=\"exercise\"><b>Exercise</b></div>\n",
        "\n",
        "* Do the values of `beta0` and `beta1` seem reasonable?\n",
        "* Plot the training data using a scatter plot.\n",
        "* Plot the best fit line with `beta0` and `beta1` together with the training data."
      ]
    },
    {
      "cell_type": "code",
      "metadata": {
        "id": "G_877cimVzQf"
      },
      "source": [
        "# Your code here"
      ],
      "execution_count": null,
      "outputs": []
    },
    {
      "cell_type": "markdown",
      "metadata": {
        "id": "Il61Paq6VzQf"
      },
      "source": [
        "The values of `beta0` and `beta1` seem roughly reasonable.  They capture the positive correlation.  The line does appear to be trying to get as close as possible to all the points."
      ]
    },
    {
      "cell_type": "markdown",
      "source": [
        "<div class=\"Exercise to be Done\"><b>[10 pts] Exercise to be Done:</b></div>\n",
        "\n",
        "* Add a cell to run a polynomial regression with the following form for the toy dataset, i.e., $$y=β_0+β_1 x^2$$ Note, you do not need to implement polynomial regression, but just change your dataset.\n",
        "* Are the values of 'beta0' and 'beta1' reasonable?"
      ],
      "metadata": {
        "id": "oVKw0BQu7OdT"
      }
    },
    {
      "cell_type": "code",
      "source": [
        "####################### ToDo ####################################\n",
        "## create the new features\n",
        "\n",
        "## fit the data with linear regression function simple_linear_regression_fit"
      ],
      "metadata": {
        "id": "mm3piu344pNb"
      },
      "execution_count": null,
      "outputs": []
    },
    {
      "cell_type": "code",
      "source": [
        "# First create X^2 and then fit linear regression"
      ],
      "metadata": {
        "id": "iPMR28rWdZk0"
      },
      "execution_count": null,
      "outputs": []
    },
    {
      "cell_type": "markdown",
      "metadata": {
        "id": "x-NzUZfTVzQg"
      },
      "source": [
        "<a class=\"anchor\" id=\"fourth-bullet\"></a>\n",
        "## Building a model with `statsmodels` and `sklearn`\n",
        "\n",
        "Now that we can concretely fit the training data from scratch, let's learn two `python` packages to do it all for us:\n",
        "* [statsmodels](http://www.statsmodels.org/stable/regression.html) and\n",
        "* [scikit-learn (sklearn)](http://scikit-learn.org/stable/modules/generated/sklearn.linear_model.LinearRegression.html).\n",
        "\n",
        "Our goal  is to show how to implement simple linear regression with these packages.  For an important sanity check, we compare the $\\beta$ values from `statsmodels` and `sklearn` to the $\\beta$ values that we found from above with our own implementation.\n",
        "\n",
        "`statsmodels` tends to be easier for inference \\[finding the values of the slope and intercept and dicussing uncertainty in those values\\], whereas `sklearn` has machine-learning algorithms and is better for prediction \\[guessing y values for a given x value\\]. (Note that both packages make the same guesses, it's just a question of which activity they provide more support for.\n",
        "\n",
        "**Note:** `statsmodels` and `sklearn` are different packages!  Unless we specify otherwise, you can use either one."
      ]
    },
    {
      "cell_type": "markdown",
      "metadata": {
        "id": "S3byjQ7kVzQg"
      },
      "source": [
        "Below is the code for `statsmodels`.  `Statsmodels` does not by default include the column of ones in the $X$ matrix (coresponding to the intercept), so we include it manually with `sm.add_constant`."
      ]
    },
    {
      "cell_type": "code",
      "metadata": {
        "id": "GwFWFU-EVzQg"
      },
      "source": [
        "import statsmodels.api as sm"
      ],
      "execution_count": null,
      "outputs": []
    },
    {
      "cell_type": "code",
      "metadata": {
        "id": "fI4XQijcVzQg"
      },
      "source": [
        "# create the X matrix by appending a column of ones to x_train\n",
        "X = sm.add_constant(x_train)\n",
        "\n",
        "# this is the same matrix as in our scratch problem!\n",
        "print(X)\n",
        "\n",
        "# build the OLS model (ordinary least squares) from the training data\n",
        "toyregr_sm = sm.OLS(y_train, X)\n",
        "\n",
        "# do the fit and save regression info (parameters, etc) in results_sm\n",
        "results_sm = toyregr_sm.fit()\n",
        "\n",
        "# pull the beta parameters out from results_sm\n",
        "beta0_sm = results_sm.params[0]\n",
        "beta1_sm = results_sm.params[1]\n",
        "\n",
        "print(f'The regression coef from statsmodels are: beta_0 = {beta0_sm:8.6f} and beta_1 = {beta1_sm:8.6f}')"
      ],
      "execution_count": null,
      "outputs": []
    },
    {
      "cell_type": "markdown",
      "metadata": {
        "id": "iJUDZOFAVzQg"
      },
      "source": [
        "Besides the beta parameters, `results_sm` contains a ton of other potentially useful information."
      ]
    },
    {
      "cell_type": "code",
      "metadata": {
        "id": "8d0IoeUhVzQg"
      },
      "source": [
        "import warnings\n",
        "warnings.filterwarnings('ignore')\n",
        "print(results_sm.summary())"
      ],
      "execution_count": null,
      "outputs": []
    },
    {
      "cell_type": "markdown",
      "metadata": {
        "id": "NtSnwe-1VzQg"
      },
      "source": [
        "Now let's turn our attention to the `sklearn` library."
      ]
    },
    {
      "cell_type": "code",
      "metadata": {
        "id": "4J_9nuM7VzQh"
      },
      "source": [
        "from sklearn import linear_model"
      ],
      "execution_count": null,
      "outputs": []
    },
    {
      "cell_type": "code",
      "metadata": {
        "id": "6s1TnuPjVzQh"
      },
      "source": [
        "# build the least squares model\n",
        "toyregr = linear_model.LinearRegression()\n",
        "\n",
        "print(x_train.shape,y_train.shape)\n",
        "# save regression info (parameters, etc) in results_skl\n",
        "results = toyregr.fit(x_train, y_train)\n",
        "\n",
        "# pull the beta parameters out from results_skl\n",
        "beta0_skl = toyregr.intercept_\n",
        "beta1_skl = toyregr.coef_[0]\n",
        "\n",
        "print(\"The regression coefficients from the sklearn package are: beta_0 = {0:8.6f} and beta_1 = {1:8.6f}\".format(beta0_skl, beta1_skl))"
      ],
      "execution_count": null,
      "outputs": []
    },
    {
      "cell_type": "markdown",
      "metadata": {
        "id": "JteS_mDFVzQh"
      },
      "source": [
        "We should feel pretty good about ourselves now, and we're ready to move on to a real problem!"
      ]
    },
    {
      "cell_type": "markdown",
      "metadata": {
        "id": "7_vv-8qCVzQh"
      },
      "source": [
        "### The `scikit-learn` library and the shape of things"
      ]
    },
    {
      "cell_type": "markdown",
      "metadata": {
        "id": "H-RayzQhVzQh"
      },
      "source": [
        "Before diving into a \"real\" problem, let's discuss more of the details of `sklearn`.\n",
        "\n",
        "`Scikit-learn` is the main `Python` machine learning library. It consists of many learners which can learn models from data, as well as a lot of utility functions such as `train_test_split()`.\n",
        "\n",
        "Use the following to add the library into your code:\n",
        "\n",
        "```python\n",
        "import sklearn\n",
        "```\n",
        "\n",
        "In `scikit-learn`, an **estimator** is a Python object that implements the methods `fit(X, y)` and `predict(T)`\n",
        "\n",
        "Let's see the structure of `scikit-learn` needed to make these fits. `fit()` always takes two arguments:\n",
        "```python\n",
        "estimator.fit(xtrain, ytrain)\n",
        "```\n",
        "We will consider two estimators in this lab: `LinearRegression` and `KNeighborsRegressor`.\n",
        "\n",
        "It is very important to understand that `xtrain` must be in the form of a **2x2 array** with each row corresponding to one sample, and each column corresponding to the feature values for that sample.\n",
        "\n",
        "`ytrain` on the other hand is a simple array of responses.  These are continuous for regression problems."
      ]
    },
    {
      "cell_type": "markdown",
      "metadata": {
        "id": "byLI4XyaVzQh"
      },
      "source": [
        "![](../images/featurematrix.png)\n",
        "\n",
        "<!--![](../images/sklearn2.jpg)-->"
      ]
    },
    {
      "cell_type": "markdown",
      "metadata": {
        "id": "pm-i6EeoVzQh"
      },
      "source": [
        "### Practice with `sklearn` and a real dataset\n",
        "We begin by loading up the `mtcars` dataset. This data was extracted from the 1974 Motor Trend US magazine, and comprises of fuel consumption and 10 aspects of automobile design and performance for 32 automobiles (1973–74 models). We will load this data to a dataframe with 32 observations on 11 (numeric) variables. Here is an explanation of the features:\n",
        "\n",
        "- `mpg` is Miles/(US) gallon\n",
        "- `cyl` is Number of cylinders,\n",
        "- `disp` is\tDisplacement (cu.in.),\n",
        "- `hp` is\tGross horsepower,\n",
        "- `drat` is\tRear axle ratio,\n",
        "- `wt` is the Weight (1000 lbs),\n",
        "- `qsec` is 1/4 mile time,\n",
        "- `vs` is Engine (0 = V-shaped, 1 = straight),\n",
        "- `am` is Transmission (0 = automatic, 1 = manual),\n",
        "- `gear` is the Number of forward gears,\n",
        "- `carb` is\tNumber of carburetors."
      ]
    },
    {
      "cell_type": "code",
      "metadata": {
        "id": "S0F0yipDVzQh"
      },
      "source": [
        "import pandas as pd\n",
        "#load mtcars\n",
        "dfcars = pd.read_csv(\"https://drive.google.com/uc?id=1w1ZSgMOQDckFNirc5HnpdeJeJ6hVlLE6\")\n",
        "dfcars.head()"
      ],
      "execution_count": null,
      "outputs": []
    },
    {
      "cell_type": "code",
      "metadata": {
        "id": "ZTTmOA1nVzQi"
      },
      "source": [
        "# Fix the column title\n",
        "dfcars = dfcars.rename(columns={\"Unnamed: 0\":\"car name\"})\n",
        "dfcars.head()"
      ],
      "execution_count": null,
      "outputs": []
    },
    {
      "cell_type": "code",
      "metadata": {
        "id": "Iubh5VApVzQi"
      },
      "source": [
        "dfcars.shape"
      ],
      "execution_count": null,
      "outputs": []
    },
    {
      "cell_type": "markdown",
      "metadata": {
        "id": "KuUpgxcKVzQi"
      },
      "source": [
        "#### Searching for values: how many cars have 4 gears?"
      ]
    },
    {
      "cell_type": "code",
      "metadata": {
        "id": "aAVk6HPxVzQi"
      },
      "source": [
        "len(dfcars[dfcars.gear == 4].drop_duplicates(subset='car name', keep='first'))"
      ],
      "execution_count": null,
      "outputs": []
    },
    {
      "cell_type": "markdown",
      "metadata": {
        "id": "5JzSOkr8VzQi"
      },
      "source": [
        "Next, let's split the dataset into a training set and test set."
      ]
    },
    {
      "cell_type": "code",
      "metadata": {
        "id": "-ncpodjFVzQi"
      },
      "source": [
        "# split into training set and testing set\n",
        "from sklearn.model_selection import train_test_split\n",
        "\n",
        "#set random_state to get the same split every time\n",
        "traindf, testdf = train_test_split(dfcars, test_size=0.2, random_state=42)"
      ],
      "execution_count": null,
      "outputs": []
    },
    {
      "cell_type": "code",
      "metadata": {
        "id": "_ogKI3WkVzQi"
      },
      "source": [
        "# testing set is around 20% of the total data; training set is around 80%\n",
        "print(\"Shape of full dataset is: {0}\".format(dfcars.shape))\n",
        "print(\"Shape of training dataset is: {0}\".format(traindf.shape))\n",
        "print(\"Shape of test dataset is: {0}\".format(testdf.shape))"
      ],
      "execution_count": null,
      "outputs": []
    },
    {
      "cell_type": "markdown",
      "metadata": {
        "id": "fyZnisvIVzQi"
      },
      "source": [
        "Now we have training and test data.  We still need to select a predictor and a response from this dataset.  Keep in mind that we need to choose the predictor and response from both the training and test set.  You will do this in the exercises below.  However, we provide some starter code for you to get things going."
      ]
    },
    {
      "cell_type": "code",
      "metadata": {
        "id": "mJi-g9qQVzQi"
      },
      "source": [
        "traindf.head()"
      ],
      "execution_count": null,
      "outputs": []
    },
    {
      "cell_type": "code",
      "metadata": {
        "id": "jkpVGl95VzQi"
      },
      "source": [
        "# Extract the response variable that we're interested in\n",
        "y_train = traindf.mpg\n",
        "y_train"
      ],
      "execution_count": null,
      "outputs": []
    },
    {
      "cell_type": "code",
      "metadata": {
        "id": "4UR0pLHfVzQi"
      },
      "source": [
        "y_train.shape, type(y_train)"
      ],
      "execution_count": null,
      "outputs": []
    },
    {
      "cell_type": "markdown",
      "metadata": {
        "id": "bMKu2HBXVzQi"
      },
      "source": [
        "### Array reshape\n",
        "This is a 1D array as should be the case with the **Y** array.  Remember, `sklearn` requires a 2D array only for the predictor array.  You will have to pay close attention to this in the exercises later. `Sklearn` doesn't care too much about the shape of `y_train`.\n",
        "\n",
        "The whole reason we went through that whole process was to show you how to reshape your data into the correct format.\n",
        "\n",
        "**IMPORTANT:** Remember that your response variable `ytrain` can be a vector but your predictor variable `xtrain` ***must*** be an array!"
      ]
    },
    {
      "cell_type": "markdown",
      "metadata": {
        "id": "5KrzY9oPVzQj"
      },
      "source": [
        "<a class=\"anchor\" id=\"fifth-bullet\"></a>\n",
        "## Example: Simple linear regression with automobile data\n",
        "We will now use `sklearn` to predict automobile mileage per gallon (mpg) and evaluate these predictions. We already loaded the data and split them into a training set and a test set."
      ]
    },
    {
      "cell_type": "markdown",
      "metadata": {
        "id": "uTkoqL3sVzQj"
      },
      "source": [
        "We need to choose the variables that we think will be good predictors for the response `mpg`."
      ]
    },
    {
      "cell_type": "markdown",
      "metadata": {
        "id": "y1zJjtGgVzQj"
      },
      "source": [
        "<div class=\"exercise\"><b>Exercise</b></div>\n",
        "\n",
        "* Pick one variable to use as a predictor for simple linear regression.\n",
        "* Justify your choice with some visualizations.  \n",
        "* Is there a second variable you'd like to use? For example, we're not doing multiple linear regression here, but if we were, is there another variable you'd like to include if we were using two predictors?"
      ]
    },
    {
      "cell_type": "code",
      "metadata": {
        "id": "VFnneKghVzQj"
      },
      "source": [
        "x_wt = dfcars.wt\n",
        "x_wt.shape"
      ],
      "execution_count": null,
      "outputs": []
    },
    {
      "cell_type": "code",
      "metadata": {
        "id": "y6X5PXMuVzQj"
      },
      "source": [
        "# Your code here"
      ],
      "execution_count": null,
      "outputs": []
    },
    {
      "cell_type": "markdown",
      "metadata": {
        "id": "w9AunIMLVzQj"
      },
      "source": [
        "<div class=\"exercise\"><b>Exercise</b></div>\n",
        "\n",
        "* Use `sklearn` to fit the training data using simple linear regression.\n",
        "* Use the model to make mpg predictions on the test set.  \n",
        "* Plot the data and the prediction.  \n",
        "* Print out the mean squared error for the training set and the test set and compare."
      ]
    },
    {
      "cell_type": "code",
      "metadata": {
        "id": "RGmtQpSsVzQj"
      },
      "source": [
        "from sklearn.linear_model import LinearRegression\n",
        "from sklearn.model_selection import train_test_split\n",
        "from sklearn.metrics import mean_squared_error\n",
        "\n",
        "dfcars = pd.read_csv(\"https://drive.google.com/uc?id=1w1ZSgMOQDckFNirc5HnpdeJeJ6hVlLE6\")\n",
        "dfcars = dfcars.rename(columns={\"Unnamed: 0\":\"name\"})\n",
        "\n",
        "dfcars.head()"
      ],
      "execution_count": null,
      "outputs": []
    },
    {
      "cell_type": "code",
      "metadata": {
        "id": "Navn49zlVzQj"
      },
      "source": [
        "traindf, testdf = train_test_split(dfcars, test_size=0.2, random_state=42)\n",
        "\n",
        "y_train = np.array(traindf.mpg)\n",
        "X_train = np.array(traindf.wt)\n",
        "X_train = X_train.reshape(X_train.shape[0], 1)"
      ],
      "execution_count": null,
      "outputs": []
    },
    {
      "cell_type": "code",
      "metadata": {
        "id": "QViBl-EYVzQk"
      },
      "source": [
        "y_test = np.array(testdf.mpg)\n",
        "X_test = np.array(testdf.wt)\n",
        "X_test = X_test.reshape(X_test.shape[0], 1)"
      ],
      "execution_count": null,
      "outputs": []
    },
    {
      "cell_type": "code",
      "metadata": {
        "id": "GlbwDc3KVzQk"
      },
      "source": [
        "# train and test shape\n",
        "y_train.shape, X_train.shape"
      ],
      "execution_count": null,
      "outputs": []
    },
    {
      "cell_type": "code",
      "metadata": {
        "id": "EKWOTk6jVzQk"
      },
      "source": [
        "y_test.shape, X_test.shape"
      ],
      "execution_count": null,
      "outputs": []
    },
    {
      "cell_type": "code",
      "metadata": {
        "id": "VV8u9v9PVzQk"
      },
      "source": [
        "#create linear model\n",
        "# your code here\n",
        "regression =\n",
        "\n",
        "#fit linear model\n",
        "# your code here\n",
        "\n",
        "predicted_y =\n",
        "\n",
        "r2 = regression.score(X_test, y_test)\n",
        "print(f'R^2 = {r2:.5}')"
      ],
      "execution_count": null,
      "outputs": []
    },
    {
      "cell_type": "code",
      "metadata": {
        "id": "coYPiWEpVzQk"
      },
      "source": [
        "print(regression.score(X_train, y_train))\n",
        "\n",
        "print(mean_squared_error(predicted_y, y_test))\n",
        "print(mean_squared_error(y_train, regression.predict(X_train)))\n",
        "\n",
        "print('Coefficients: \\n', regression.coef_[0], regression.intercept_)"
      ],
      "execution_count": null,
      "outputs": []
    },
    {
      "cell_type": "code",
      "metadata": {
        "id": "XTmH09hPVzQk"
      },
      "source": [
        "# Plot predicted y vs actual y\n",
        "# your code here\n",
        "\n",
        "# Plot the data and your regression line\n",
        "# your code here\n"
      ],
      "execution_count": null,
      "outputs": []
    },
    {
      "cell_type": "markdown",
      "source": [
        "<div class=\"Exercise\"><b>[10 pts] Exercise to be done: </b></div>\n",
        "\n",
        "* Pick two predictors, prepare training and test data.\n",
        "* Use `sklearn` to fit the training data using multiple linear regression.\n",
        "* Use the model to make mpg predictions on the test set.\n",
        "* Print out the MSE on test dataset."
      ],
      "metadata": {
        "id": "uBieJCAT--rd"
      }
    },
    {
      "cell_type": "code",
      "source": [
        " ###### Your solution here #################"
      ],
      "metadata": {
        "id": "iqsKrMhb-WDY"
      },
      "execution_count": null,
      "outputs": []
    },
    {
      "cell_type": "markdown",
      "metadata": {
        "id": "1gxzCbMUVzQk"
      },
      "source": [
        "## Bootstrap\n",
        "Run the following code to understand bootstrap."
      ]
    },
    {
      "cell_type": "code",
      "metadata": {
        "id": "2PoyMutBVzQk"
      },
      "source": [
        "from sklearn import linear_model\n",
        "from sklearn.ensemble import BaggingRegressor"
      ],
      "execution_count": null,
      "outputs": []
    },
    {
      "cell_type": "code",
      "metadata": {
        "id": "8qpJr6-7VzQk"
      },
      "source": [
        "x = np.linspace(0, 10, 20)\n",
        "y=x + np.random.randn(len(x))"
      ],
      "execution_count": null,
      "outputs": []
    },
    {
      "cell_type": "code",
      "metadata": {
        "id": "cj3JxUAGVzQk"
      },
      "source": [
        "n_estimators = 1000\n",
        "model = BaggingRegressor(linear_model.LinearRegression(),\n",
        "                         n_estimators=n_estimators,\n",
        "                         bootstrap=True,max_samples=20)"
      ],
      "execution_count": null,
      "outputs": []
    },
    {
      "cell_type": "code",
      "metadata": {
        "id": "IjCZv5mXVzQl"
      },
      "source": [
        "model.fit(x.reshape(20,1), y)"
      ],
      "execution_count": null,
      "outputs": []
    },
    {
      "cell_type": "code",
      "metadata": {
        "id": "mkDoFkRNVzQl"
      },
      "source": [
        "intercept=[]\n",
        "beta1=[]\n",
        "for m in model.estimators_:\n",
        "    intercept.append(m.intercept_)\n",
        "    beta1.append(m.coef_[0])"
      ],
      "execution_count": null,
      "outputs": []
    },
    {
      "cell_type": "code",
      "metadata": {
        "id": "YysOsbu4VzQl"
      },
      "source": [
        "np.std(intercept),np.std(beta1),np.mean(intercept),np.mean(beta1)"
      ],
      "execution_count": null,
      "outputs": []
    },
    {
      "cell_type": "markdown",
      "source": [
        "<div class=\"exercise\"><b>[5 pts (bonus)] Exercise to be done:</b></div>\n",
        "\n",
        "*What is the 95% confidence interval for beta1?\n",
        "\n",
        "> Hint: Either call a [library function](https://docs.scipy.org/doc/scipy/reference/generated/scipy.stats.t.html), or compute on your own, where $Z$ score of confidence level 95% is approximately $1.96$.\n",
        "\n",
        "![confidence_interval_equation.gif](data:image/gif;base64,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)"
      ],
      "metadata": {
        "id": "o__VDsAxs_bS"
      }
    },
    {
      "cell_type": "code",
      "source": [
        "# Hint: Either call a library function, or compute on your own, where  Z  score of confidence level 95% is approximately  1.96 .\n",
        "# your code here"
      ],
      "metadata": {
        "id": "tuwZq9l9mO9c"
      },
      "execution_count": null,
      "outputs": []
    }
  ]
}