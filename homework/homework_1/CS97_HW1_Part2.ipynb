{
 "cells": [
  {
   "cell_type": "markdown",
   "metadata": {
    "id": "kdTU3hUF8phh"
   },
   "source": [
    "## Working with Real Data"
   ]
  },
  {
   "cell_type": "markdown",
   "metadata": {
    "id": "RZ6qZLtz8phe"
   },
   "source": [
    "## Introduction\n",
    "\n",
    "Welcome to **CS97 - Introduction to Data Science!** This course is designed to equip you with the tools and experiences necessary to start you off on a life-long exploration of data science. We do not assume a prerequisite knowledge or experience in order to take the course.\n",
    "\n",
    "For this first project we will introduce you to the end-to-end process of doing a datascience project. Our goals for this project are to:\n",
    "\n",
    "1. Familiarize you with the development environment for doing data science\n",
    "2. Get you comfortable with the python coding required to do data science\n",
    "3. Provide you with an sample end-to-end project to help you visualize the steps needed to complete a project on your own\n",
    "4. Ask you to recreate a similar project on a separate dataset\n",
    "\n",
    "In this project you will work through an example project end to end. Many of the concepts you will encounter will be unclear to you. That is OK! The course is designed to teach you these concepts in further detail. For now our focus is simply on having you replicate the code successfully and seeing a project through from start to finish.\n",
    "\n",
    "Here are the main steps:\n",
    "\n",
    "1. Get the data\n",
    "2. Visualize the data for insights\n",
    "3. Preprocess the data for your machine learning algorithm\n",
    "4. Select a model and train\n",
    "5. Does it meet the requirements? Fine tune the model\n"
   ]
  },
  {
   "cell_type": "markdown",
   "metadata": {
    "id": "vcGo1LDN8phi"
   },
   "source": [
    "It is best to experiment with real-data as opposed to aritifical datasets.\n",
    "\n",
    "There are many different open datasets depending on the type of problems you might be interested in!\n",
    "\n",
    "Here are a few data repositories you could check out:\n",
    "- [UCI Datasets](https://archive.ics.uci.edu/datasets)\n",
    "- [Kaggle Datasets](https://www.kaggle.com/datasets)\n",
    "- [AWS Datasets](https://registry.opendata.aws)\n"
   ]
  },
  {
   "cell_type": "markdown",
   "metadata": {
    "id": "cEGNPpxP8ph3"
   },
   "source": [
    "## Submission Instructions\n",
    "When you have completed this assignment please save the notebook as a PDF file and submit the assignment via BruinLearn\n",
    "\n",
    "\n",
    "# Example Datascience Exercise\n",
    "Below we will run through an California Housing example collected from the 1990's."
   ]
  },
  {
   "cell_type": "markdown",
   "metadata": {
    "id": "uYqadOkX8ph3"
   },
   "source": [
    "## Setup"
   ]
  },
  {
   "cell_type": "code",
   "execution_count": null,
   "metadata": {
    "id": "ciPv2S4Q8ph4"
   },
   "outputs": [
    {
     "ename": "",
     "evalue": "",
     "output_type": "error",
     "traceback": [
      "\u001b[1;31mFailed to start the Kernel. \n",
      "\u001b[1;31mThe kernel died. Error: ... View Jupyter <a href='command:jupyter.viewOutput'>log</a> for further details."
     ]
    }
   ],
   "source": [
    "import sys\n",
    "assert sys.version_info >= (3, 5) # python>=3.5\n",
    "import sklearn\n",
    "assert sklearn.__version__ >= \"0.20\" # sklearn >= 0.20\n",
    "\n",
    "import numpy as np #numerical package in python\n",
    "import os\n",
    "%matplotlib inline\n",
    "import matplotlib.pyplot as plt #plotting package\n",
    "\n",
    "# to make this notebook's output identical at every run\n",
    "np.random.seed(42)\n",
    "\n",
    "#matplotlib magic for inline figures\n",
    "%matplotlib inline\n",
    "import matplotlib # plotting library\n",
    "import matplotlib.pyplot as plt\n",
    "\n",
    "# Where to save the figures\n",
    "ROOT_DIR = \".\"\n",
    "IMAGES_PATH = os.path.join(ROOT_DIR, \"images\")\n",
    "os.makedirs(IMAGES_PATH, exist_ok=True)\n",
    "\n",
    "def save_fig(fig_name, tight_layout=True, fig_extension=\"png\", resolution=300):\n",
    "    '''\n",
    "        plt.savefig wrapper. refer to\n",
    "        https://matplotlib.org/3.1.1/api/_as_gen/matplotlib.pyplot.savefig.html\n",
    "    '''\n",
    "    path = os.path.join(IMAGES_PATH, fig_name + \".\" + fig_extension)\n",
    "    print(\"Saving figure\", fig_name)\n",
    "    if tight_layout:\n",
    "        plt.tight_layout()\n",
    "    plt.savefig(path, format=fig_extension, dpi=resolution)\n"
   ]
  },
  {
   "cell_type": "code",
   "execution_count": null,
   "metadata": {
    "id": "bMo3J7Af8ph5"
   },
   "outputs": [
    {
     "ename": "",
     "evalue": "",
     "output_type": "error",
     "traceback": [
      "\u001b[1;31mFailed to start the Kernel. \n",
      "\u001b[1;31mThe kernel died. Error: ... View Jupyter <a href='command:jupyter.viewOutput'>log</a> for further details."
     ]
    }
   ],
   "source": [
    "import os\n",
    "import tarfile\n",
    "import urllib\n",
    "DATASET_PATH = os.path.join(\"datasets\", \"housing\")"
   ]
  },
  {
   "cell_type": "markdown",
   "metadata": {
    "id": "ih0EJTTu8ph5"
   },
   "source": [
    "## Step 1. Getting the data"
   ]
  },
  {
   "cell_type": "markdown",
   "metadata": {
    "id": "4M0CgAsm8ph5"
   },
   "source": [
    "### Intro to Data Exploration Using Pandas"
   ]
  },
  {
   "cell_type": "markdown",
   "metadata": {
    "id": "yKrlc6U58ph6"
   },
   "source": [
    "In this section we will load the dataset, and visualize different\n",
    "features using different types of plots.\n",
    "\n",
    "Packages we will use:\n",
    "- **[Pandas](https://pandas.pydata.org):** is a fast, flexibile and expressive data structure widely used for tabular and multidimensional datasets.\n",
    "- **[Matplotlib](https://matplotlib.org)**: is a 2d python plotting library which you can use to create quality figures (you can plot almost anything if you're willing to code it out!)\n",
    "    - other plotting libraries:[seaborn](https://seaborn.pydata.org), [ggplot2](https://ggplot2.tidyverse.org)"
   ]
  },
  {
   "cell_type": "code",
   "execution_count": 3,
   "metadata": {
    "id": "_2l9rLuw8ph7"
   },
   "outputs": [],
   "source": [
    "import pandas as pd\n",
    "\n",
    "def load_housing_data(housing_path):\n",
    "    return pd.read_csv(\"https://drive.google.com/uc?id=1l8mTUz-1D4Gq4LtEYX8IDCGl8AmoRuYj\")"
   ]
  },
  {
   "cell_type": "code",
   "execution_count": 4,
   "metadata": {
    "colab": {
     "base_uri": "https://localhost:8080/",
     "height": 206
    },
    "executionInfo": {
     "elapsed": 1542,
     "status": "ok",
     "timestamp": 1688361544030,
     "user": {
      "displayName": "Wade Sultan",
      "userId": "04025287609287113176"
     },
     "user_tz": 420
    },
    "id": "44OWmXGJ8ph7",
    "outputId": "e151493f-4429-40f3-9bf2-af082d5e3747"
   },
   "outputs": [
    {
     "data": {
      "text/html": [
       "<div>\n",
       "<style scoped>\n",
       "    .dataframe tbody tr th:only-of-type {\n",
       "        vertical-align: middle;\n",
       "    }\n",
       "\n",
       "    .dataframe tbody tr th {\n",
       "        vertical-align: top;\n",
       "    }\n",
       "\n",
       "    .dataframe thead th {\n",
       "        text-align: right;\n",
       "    }\n",
       "</style>\n",
       "<table border=\"1\" class=\"dataframe\">\n",
       "  <thead>\n",
       "    <tr style=\"text-align: right;\">\n",
       "      <th></th>\n",
       "      <th>longitude</th>\n",
       "      <th>latitude</th>\n",
       "      <th>housing_median_age</th>\n",
       "      <th>total_rooms</th>\n",
       "      <th>total_bedrooms</th>\n",
       "      <th>population</th>\n",
       "      <th>households</th>\n",
       "      <th>median_income</th>\n",
       "      <th>median_house_value</th>\n",
       "      <th>ocean_proximity</th>\n",
       "    </tr>\n",
       "  </thead>\n",
       "  <tbody>\n",
       "    <tr>\n",
       "      <th>0</th>\n",
       "      <td>-122.23</td>\n",
       "      <td>37.88</td>\n",
       "      <td>41.0</td>\n",
       "      <td>880.0</td>\n",
       "      <td>129.0</td>\n",
       "      <td>322.0</td>\n",
       "      <td>126.0</td>\n",
       "      <td>8.3252</td>\n",
       "      <td>452600.0</td>\n",
       "      <td>NEAR BAY</td>\n",
       "    </tr>\n",
       "    <tr>\n",
       "      <th>1</th>\n",
       "      <td>-122.22</td>\n",
       "      <td>37.86</td>\n",
       "      <td>21.0</td>\n",
       "      <td>7099.0</td>\n",
       "      <td>1106.0</td>\n",
       "      <td>2401.0</td>\n",
       "      <td>1138.0</td>\n",
       "      <td>8.3014</td>\n",
       "      <td>358500.0</td>\n",
       "      <td>NEAR BAY</td>\n",
       "    </tr>\n",
       "    <tr>\n",
       "      <th>2</th>\n",
       "      <td>-122.24</td>\n",
       "      <td>37.85</td>\n",
       "      <td>52.0</td>\n",
       "      <td>1467.0</td>\n",
       "      <td>190.0</td>\n",
       "      <td>496.0</td>\n",
       "      <td>177.0</td>\n",
       "      <td>7.2574</td>\n",
       "      <td>352100.0</td>\n",
       "      <td>NEAR BAY</td>\n",
       "    </tr>\n",
       "    <tr>\n",
       "      <th>3</th>\n",
       "      <td>-122.25</td>\n",
       "      <td>37.85</td>\n",
       "      <td>52.0</td>\n",
       "      <td>1274.0</td>\n",
       "      <td>235.0</td>\n",
       "      <td>558.0</td>\n",
       "      <td>219.0</td>\n",
       "      <td>5.6431</td>\n",
       "      <td>341300.0</td>\n",
       "      <td>NEAR BAY</td>\n",
       "    </tr>\n",
       "    <tr>\n",
       "      <th>4</th>\n",
       "      <td>-122.25</td>\n",
       "      <td>37.85</td>\n",
       "      <td>52.0</td>\n",
       "      <td>1627.0</td>\n",
       "      <td>280.0</td>\n",
       "      <td>565.0</td>\n",
       "      <td>259.0</td>\n",
       "      <td>3.8462</td>\n",
       "      <td>342200.0</td>\n",
       "      <td>NEAR BAY</td>\n",
       "    </tr>\n",
       "  </tbody>\n",
       "</table>\n",
       "</div>"
      ],
      "text/plain": [
       "   longitude  latitude  housing_median_age  total_rooms  total_bedrooms  \\\n",
       "0    -122.23     37.88                41.0        880.0           129.0   \n",
       "1    -122.22     37.86                21.0       7099.0          1106.0   \n",
       "2    -122.24     37.85                52.0       1467.0           190.0   \n",
       "3    -122.25     37.85                52.0       1274.0           235.0   \n",
       "4    -122.25     37.85                52.0       1627.0           280.0   \n",
       "\n",
       "   population  households  median_income  median_house_value ocean_proximity  \n",
       "0       322.0       126.0         8.3252            452600.0        NEAR BAY  \n",
       "1      2401.0      1138.0         8.3014            358500.0        NEAR BAY  \n",
       "2       496.0       177.0         7.2574            352100.0        NEAR BAY  \n",
       "3       558.0       219.0         5.6431            341300.0        NEAR BAY  \n",
       "4       565.0       259.0         3.8462            342200.0        NEAR BAY  "
      ]
     },
     "execution_count": 4,
     "metadata": {},
     "output_type": "execute_result"
    }
   ],
   "source": [
    "housing = load_housing_data(DATASET_PATH) # we load the pandas dataframe\n",
    "housing.head() # show the first few elements of the dataframe\n",
    "               # typically this is the first thing you do\n",
    "               # to see how the dataframe looks like"
   ]
  },
  {
   "cell_type": "markdown",
   "metadata": {
    "id": "aMU3BJrQ8ph9"
   },
   "source": [
    "A dataset may have different types of features\n",
    "- real valued\n",
    "- Discrete (integers)\n",
    "- categorical (strings)\n",
    "\n",
    "The two categorical features are essentialy the same as you can always map a categorical string/character to an\n",
    "integer.\n",
    "\n",
    "In the dataset example, all our features are real valued floats, except ocean proximity which is categorical."
   ]
  },
  {
   "cell_type": "code",
   "execution_count": 5,
   "metadata": {
    "colab": {
     "base_uri": "https://localhost:8080/"
    },
    "executionInfo": {
     "elapsed": 13,
     "status": "ok",
     "timestamp": 1688361544031,
     "user": {
      "displayName": "Wade Sultan",
      "userId": "04025287609287113176"
     },
     "user_tz": 420
    },
    "id": "QjN5J37X8ph9",
    "outputId": "ac49334e-2f76-4423-8378-fb8a2562f7f0"
   },
   "outputs": [
    {
     "name": "stdout",
     "output_type": "stream",
     "text": [
      "<class 'pandas.core.frame.DataFrame'>\n",
      "RangeIndex: 20640 entries, 0 to 20639\n",
      "Data columns (total 10 columns):\n",
      " #   Column              Non-Null Count  Dtype  \n",
      "---  ------              --------------  -----  \n",
      " 0   longitude           20640 non-null  float64\n",
      " 1   latitude            20640 non-null  float64\n",
      " 2   housing_median_age  20640 non-null  float64\n",
      " 3   total_rooms         20640 non-null  float64\n",
      " 4   total_bedrooms      20433 non-null  float64\n",
      " 5   population          20640 non-null  float64\n",
      " 6   households          20640 non-null  float64\n",
      " 7   median_income       20640 non-null  float64\n",
      " 8   median_house_value  20640 non-null  float64\n",
      " 9   ocean_proximity     20640 non-null  object \n",
      "dtypes: float64(9), object(1)\n",
      "memory usage: 1.6+ MB\n"
     ]
    }
   ],
   "source": [
    "# to see a concise summary of data types, null values, and counts\n",
    "# use the info() method on the dataframe\n",
    "housing.info()"
   ]
  },
  {
   "cell_type": "code",
   "execution_count": 6,
   "metadata": {
    "colab": {
     "base_uri": "https://localhost:8080/"
    },
    "executionInfo": {
     "elapsed": 12,
     "status": "ok",
     "timestamp": 1688361544032,
     "user": {
      "displayName": "Wade Sultan",
      "userId": "04025287609287113176"
     },
     "user_tz": 420
    },
    "id": "bvFp2spI8ph-",
    "outputId": "e231f5db-3bb0-4525-a135-24697d644cc9"
   },
   "outputs": [
    {
     "data": {
      "text/plain": [
       "0    NEAR BAY\n",
       "1    NEAR BAY\n",
       "2    NEAR BAY\n",
       "3    NEAR BAY\n",
       "4    NEAR BAY\n",
       "Name: ocean_proximity, dtype: object"
      ]
     },
     "execution_count": 6,
     "metadata": {},
     "output_type": "execute_result"
    }
   ],
   "source": [
    "# you can access individual columns similarly\n",
    "# to accessing elements in a python dict\n",
    "housing[\"ocean_proximity\"].head() # added head() to avoid printing many columns.."
   ]
  },
  {
   "cell_type": "code",
   "execution_count": 7,
   "metadata": {
    "colab": {
     "base_uri": "https://localhost:8080/"
    },
    "executionInfo": {
     "elapsed": 11,
     "status": "ok",
     "timestamp": 1688361544032,
     "user": {
      "displayName": "Wade Sultan",
      "userId": "04025287609287113176"
     },
     "user_tz": 420
    },
    "id": "9PHb4tv08ph-",
    "outputId": "47fd6b81-7115-41a5-ecb0-847be27d70e7"
   },
   "outputs": [
    {
     "data": {
      "text/plain": [
       "longitude              -122.22\n",
       "latitude                 37.86\n",
       "housing_median_age          21\n",
       "total_rooms               7099\n",
       "total_bedrooms            1106\n",
       "population                2401\n",
       "households                1138\n",
       "median_income           8.3014\n",
       "median_house_value      358500\n",
       "ocean_proximity       NEAR BAY\n",
       "Name: 1, dtype: object"
      ]
     },
     "execution_count": 7,
     "metadata": {},
     "output_type": "execute_result"
    }
   ],
   "source": [
    "# to access a particular row we can use iloc\n",
    "housing.iloc[1]"
   ]
  },
  {
   "cell_type": "code",
   "execution_count": 8,
   "metadata": {
    "colab": {
     "base_uri": "https://localhost:8080/"
    },
    "executionInfo": {
     "elapsed": 10,
     "status": "ok",
     "timestamp": 1688361544032,
     "user": {
      "displayName": "Wade Sultan",
      "userId": "04025287609287113176"
     },
     "user_tz": 420
    },
    "id": "17DF5J2Q8ph_",
    "outputId": "95a78b4f-f8c9-4483-8c7a-2213445056e7"
   },
   "outputs": [
    {
     "data": {
      "text/plain": [
       "<1H OCEAN     9136\n",
       "INLAND        6551\n",
       "NEAR OCEAN    2658\n",
       "NEAR BAY      2290\n",
       "ISLAND           5\n",
       "Name: ocean_proximity, dtype: int64"
      ]
     },
     "execution_count": 8,
     "metadata": {},
     "output_type": "execute_result"
    }
   ],
   "source": [
    "# one other function that might be useful is\n",
    "# value_counts(), which counts the number of occurences\n",
    "# for categorical features\n",
    "housing[\"ocean_proximity\"].value_counts()"
   ]
  },
  {
   "cell_type": "code",
   "execution_count": 9,
   "metadata": {
    "colab": {
     "base_uri": "https://localhost:8080/",
     "height": 300
    },
    "executionInfo": {
     "elapsed": 10,
     "status": "ok",
     "timestamp": 1688361544033,
     "user": {
      "displayName": "Wade Sultan",
      "userId": "04025287609287113176"
     },
     "user_tz": 420
    },
    "id": "bnpbsIEc8ph_",
    "outputId": "164d278f-afff-443f-a79b-4f5d923aa6b5"
   },
   "outputs": [
    {
     "data": {
      "text/html": [
       "<div>\n",
       "<style scoped>\n",
       "    .dataframe tbody tr th:only-of-type {\n",
       "        vertical-align: middle;\n",
       "    }\n",
       "\n",
       "    .dataframe tbody tr th {\n",
       "        vertical-align: top;\n",
       "    }\n",
       "\n",
       "    .dataframe thead th {\n",
       "        text-align: right;\n",
       "    }\n",
       "</style>\n",
       "<table border=\"1\" class=\"dataframe\">\n",
       "  <thead>\n",
       "    <tr style=\"text-align: right;\">\n",
       "      <th></th>\n",
       "      <th>longitude</th>\n",
       "      <th>latitude</th>\n",
       "      <th>housing_median_age</th>\n",
       "      <th>total_rooms</th>\n",
       "      <th>total_bedrooms</th>\n",
       "      <th>population</th>\n",
       "      <th>households</th>\n",
       "      <th>median_income</th>\n",
       "      <th>median_house_value</th>\n",
       "    </tr>\n",
       "  </thead>\n",
       "  <tbody>\n",
       "    <tr>\n",
       "      <th>count</th>\n",
       "      <td>20640.000000</td>\n",
       "      <td>20640.000000</td>\n",
       "      <td>20640.000000</td>\n",
       "      <td>20640.000000</td>\n",
       "      <td>20433.000000</td>\n",
       "      <td>20640.000000</td>\n",
       "      <td>20640.000000</td>\n",
       "      <td>20640.000000</td>\n",
       "      <td>20640.000000</td>\n",
       "    </tr>\n",
       "    <tr>\n",
       "      <th>mean</th>\n",
       "      <td>-119.569704</td>\n",
       "      <td>35.631861</td>\n",
       "      <td>28.639486</td>\n",
       "      <td>2635.763081</td>\n",
       "      <td>537.870553</td>\n",
       "      <td>1425.476744</td>\n",
       "      <td>499.539680</td>\n",
       "      <td>3.870671</td>\n",
       "      <td>206855.816909</td>\n",
       "    </tr>\n",
       "    <tr>\n",
       "      <th>std</th>\n",
       "      <td>2.003532</td>\n",
       "      <td>2.135952</td>\n",
       "      <td>12.585558</td>\n",
       "      <td>2181.615252</td>\n",
       "      <td>421.385070</td>\n",
       "      <td>1132.462122</td>\n",
       "      <td>382.329753</td>\n",
       "      <td>1.899822</td>\n",
       "      <td>115395.615874</td>\n",
       "    </tr>\n",
       "    <tr>\n",
       "      <th>min</th>\n",
       "      <td>-124.350000</td>\n",
       "      <td>32.540000</td>\n",
       "      <td>1.000000</td>\n",
       "      <td>2.000000</td>\n",
       "      <td>1.000000</td>\n",
       "      <td>3.000000</td>\n",
       "      <td>1.000000</td>\n",
       "      <td>0.499900</td>\n",
       "      <td>14999.000000</td>\n",
       "    </tr>\n",
       "    <tr>\n",
       "      <th>25%</th>\n",
       "      <td>-121.800000</td>\n",
       "      <td>33.930000</td>\n",
       "      <td>18.000000</td>\n",
       "      <td>1447.750000</td>\n",
       "      <td>296.000000</td>\n",
       "      <td>787.000000</td>\n",
       "      <td>280.000000</td>\n",
       "      <td>2.563400</td>\n",
       "      <td>119600.000000</td>\n",
       "    </tr>\n",
       "    <tr>\n",
       "      <th>50%</th>\n",
       "      <td>-118.490000</td>\n",
       "      <td>34.260000</td>\n",
       "      <td>29.000000</td>\n",
       "      <td>2127.000000</td>\n",
       "      <td>435.000000</td>\n",
       "      <td>1166.000000</td>\n",
       "      <td>409.000000</td>\n",
       "      <td>3.534800</td>\n",
       "      <td>179700.000000</td>\n",
       "    </tr>\n",
       "    <tr>\n",
       "      <th>75%</th>\n",
       "      <td>-118.010000</td>\n",
       "      <td>37.710000</td>\n",
       "      <td>37.000000</td>\n",
       "      <td>3148.000000</td>\n",
       "      <td>647.000000</td>\n",
       "      <td>1725.000000</td>\n",
       "      <td>605.000000</td>\n",
       "      <td>4.743250</td>\n",
       "      <td>264725.000000</td>\n",
       "    </tr>\n",
       "    <tr>\n",
       "      <th>max</th>\n",
       "      <td>-114.310000</td>\n",
       "      <td>41.950000</td>\n",
       "      <td>52.000000</td>\n",
       "      <td>39320.000000</td>\n",
       "      <td>6445.000000</td>\n",
       "      <td>35682.000000</td>\n",
       "      <td>6082.000000</td>\n",
       "      <td>15.000100</td>\n",
       "      <td>500001.000000</td>\n",
       "    </tr>\n",
       "  </tbody>\n",
       "</table>\n",
       "</div>"
      ],
      "text/plain": [
       "          longitude      latitude  housing_median_age   total_rooms  \\\n",
       "count  20640.000000  20640.000000        20640.000000  20640.000000   \n",
       "mean    -119.569704     35.631861           28.639486   2635.763081   \n",
       "std        2.003532      2.135952           12.585558   2181.615252   \n",
       "min     -124.350000     32.540000            1.000000      2.000000   \n",
       "25%     -121.800000     33.930000           18.000000   1447.750000   \n",
       "50%     -118.490000     34.260000           29.000000   2127.000000   \n",
       "75%     -118.010000     37.710000           37.000000   3148.000000   \n",
       "max     -114.310000     41.950000           52.000000  39320.000000   \n",
       "\n",
       "       total_bedrooms    population    households  median_income  \\\n",
       "count    20433.000000  20640.000000  20640.000000   20640.000000   \n",
       "mean       537.870553   1425.476744    499.539680       3.870671   \n",
       "std        421.385070   1132.462122    382.329753       1.899822   \n",
       "min          1.000000      3.000000      1.000000       0.499900   \n",
       "25%        296.000000    787.000000    280.000000       2.563400   \n",
       "50%        435.000000   1166.000000    409.000000       3.534800   \n",
       "75%        647.000000   1725.000000    605.000000       4.743250   \n",
       "max       6445.000000  35682.000000   6082.000000      15.000100   \n",
       "\n",
       "       median_house_value  \n",
       "count        20640.000000  \n",
       "mean        206855.816909  \n",
       "std         115395.615874  \n",
       "min          14999.000000  \n",
       "25%         119600.000000  \n",
       "50%         179700.000000  \n",
       "75%         264725.000000  \n",
       "max         500001.000000  "
      ]
     },
     "execution_count": 9,
     "metadata": {},
     "output_type": "execute_result"
    }
   ],
   "source": [
    "# The describe function compiles your typical statistics for each\n",
    "# column\n",
    "housing.describe()"
   ]
  },
  {
   "cell_type": "markdown",
   "metadata": {
    "id": "ZU4_lOpf8piA"
   },
   "source": [
    "#### If you want to learn about different ways of accessing elements or other functions it's useful to check out the getting started section [here](https://pandas.pydata.org/pandas-docs/stable/getting_started/index.html)"
   ]
  },
  {
   "cell_type": "markdown",
   "metadata": {
    "id": "n7ct8fyP8piA"
   },
   "source": [
    "## Step 2. Visualizing the data"
   ]
  },
  {
   "cell_type": "markdown",
   "metadata": {
    "id": "SiPRSLsk8piA"
   },
   "source": [
    "### Let's start visualizing the dataset"
   ]
  },
  {
   "cell_type": "code",
   "execution_count": 10,
   "metadata": {
    "colab": {
     "base_uri": "https://localhost:8080/",
     "height": 1000
    },
    "executionInfo": {
     "elapsed": 6276,
     "status": "ok",
     "timestamp": 1688361550300,
     "user": {
      "displayName": "Wade Sultan",
      "userId": "04025287609287113176"
     },
     "user_tz": 420
    },
    "id": "XJKfGSmz8piA",
    "outputId": "65d81b20-e4cc-485a-ca4a-22bd39d05e86"
   },
   "outputs": [
    {
     "data": {
      "image/png": "[encoded data removed]",
      "text/plain": [
       "<Figure size 1440x1080 with 9 Axes>"
      ]
     },
     "metadata": {
      "needs_background": "light"
     },
     "output_type": "display_data"
    }
   ],
   "source": [
    "# We can draw a histogram for each of the dataframes features\n",
    "# using the hist function\n",
    "housing.hist(bins=50, figsize=(20,15))\n",
    "# save_fig(\"attribute_histogram_plots\")\n",
    "plt.show() # pandas internally uses matplotlib, and to display all the figures\n",
    "           # the show() function must be called"
   ]
  },
  {
   "cell_type": "code",
   "execution_count": 11,
   "metadata": {
    "colab": {
     "base_uri": "https://localhost:8080/",
     "height": 430
    },
    "executionInfo": {
     "elapsed": 574,
     "status": "ok",
     "timestamp": 1688361550872,
     "user": {
      "displayName": "Wade Sultan",
      "userId": "04025287609287113176"
     },
     "user_tz": 420
    },
    "id": "gN8w7J2u8piB",
    "outputId": "629042b0-3c75-4bd9-c1c4-13b4f6da692f"
   },
   "outputs": [
    {
     "data": {
      "image/png": "[encoded data removed]",
      "text/plain": [
       "<Figure size 432x288 with 1 Axes>"
      ]
     },
     "metadata": {
      "needs_background": "light"
     },
     "output_type": "display_data"
    }
   ],
   "source": [
    "# if you want to have a histogram on an individual feature:\n",
    "housing[\"median_income\"].hist()\n",
    "plt.show()"
   ]
  },
  {
   "cell_type": "markdown",
   "metadata": {
    "id": "qCgX0oaQ8piB"
   },
   "source": [
    "We can convert a floating point feature to a categorical feature\n",
    "by binning or by defining a set of intervals.\n",
    "\n",
    "For example, to bin the\n",
    "households based on median_income we can use the pd.cut function"
   ]
  },
  {
   "cell_type": "code",
   "execution_count": 12,
   "metadata": {
    "colab": {
     "base_uri": "https://localhost:8080/"
    },
    "executionInfo": {
     "elapsed": 5,
     "status": "ok",
     "timestamp": 1688361550873,
     "user": {
      "displayName": "Wade Sultan",
      "userId": "04025287609287113176"
     },
     "user_tz": 420
    },
    "id": "4rkeOA808piB",
    "outputId": "05ca1597-a89c-4fd5-9b88-2c22a56b127e"
   },
   "outputs": [
    {
     "data": {
      "text/plain": [
       "3    7236\n",
       "2    6581\n",
       "4    3639\n",
       "5    2362\n",
       "1     822\n",
       "Name: income_cat, dtype: int64"
      ]
     },
     "execution_count": 12,
     "metadata": {},
     "output_type": "execute_result"
    }
   ],
   "source": [
    "# assign each bin a categorical value [1, 2, 3, 4, 5] in this case.\n",
    "housing[\"income_cat\"] = pd.cut(housing[\"median_income\"],\n",
    "                               bins=[0., 1.5, 3.0, 4.5, 6., np.inf],\n",
    "                               labels=[1, 2, 3, 4, 5])\n",
    "\n",
    "housing[\"income_cat\"].value_counts()"
   ]
  },
  {
   "cell_type": "code",
   "execution_count": 13,
   "metadata": {
    "colab": {
     "base_uri": "https://localhost:8080/",
     "height": 448
    },
    "executionInfo": {
     "elapsed": 234,
     "status": "ok",
     "timestamp": 1688361551103,
     "user": {
      "displayName": "Wade Sultan",
      "userId": "04025287609287113176"
     },
     "user_tz": 420
    },
    "id": "8OkeOFU-8piC",
    "outputId": "986f5ae0-c78b-4485-bf0b-dd2ba81c1518"
   },
   "outputs": [
    {
     "data": {
      "text/plain": [
       "<matplotlib.axes._subplots.AxesSubplot at 0x7fa04b084710>"
      ]
     },
     "execution_count": 13,
     "metadata": {},
     "output_type": "execute_result"
    },
    {
     "data": {
      "image/png": "[encoded data removed]",
      "text/plain": [
       "<Figure size 432x288 with 1 Axes>"
      ]
     },
     "metadata": {
      "needs_background": "light"
     },
     "output_type": "display_data"
    }
   ],
   "source": [
    "housing[\"income_cat\"].hist()"
   ]
  },
  {
   "cell_type": "markdown",
   "metadata": {
    "id": "ceZZsN0E8piC"
   },
   "source": [
    "#### Next let's visualize the household incomes based on latitude & longitude coordinates\n",
    "\n",
    "Note: You will need to save [california.png](https://drive.google.com/file/d/1b4sXIWlaA9ROaUoDBCXbpBiGCSsfoU16/view?usp=drive_link) to ./images repository. (On Colab: Please click the Files button in the left menu)"
   ]
  },
  {
   "cell_type": "code",
   "execution_count": 14,
   "metadata": {
    "colab": {
     "base_uri": "https://localhost:8080/",
     "height": 505
    },
    "executionInfo": {
     "elapsed": 2524,
     "status": "ok",
     "timestamp": 1688361553623,
     "user": {
      "displayName": "Wade Sultan",
      "userId": "04025287609287113176"
     },
     "user_tz": 420
    },
    "id": "tdD6Hvwq8piC",
    "outputId": "49cea09f-7e79-411a-e68e-815f2a0f68a7"
   },
   "outputs": [
    {
     "name": "stdout",
     "output_type": "stream",
     "text": [
      "Saving figure bad_visualization_plot\n"
     ]
    },
    {
     "data": {
      "image/png": "[encoded data removed]",
      "text/plain": [
       "<Figure size 432x288 with 1 Axes>"
      ]
     },
     "metadata": {
      "needs_background": "light"
     },
     "output_type": "display_data"
    }
   ],
   "source": [
    "## here's a not so interestting way plotting it\n",
    "housing.plot(kind=\"scatter\", x=\"longitude\", y=\"latitude\")\n",
    "save_fig(\"bad_visualization_plot\")"
   ]
  },
  {
   "cell_type": "code",
   "execution_count": 15,
   "metadata": {
    "colab": {
     "base_uri": "https://localhost:8080/",
     "height": 505
    },
    "executionInfo": {
     "elapsed": 1494,
     "status": "ok",
     "timestamp": 1688361555114,
     "user": {
      "displayName": "Wade Sultan",
      "userId": "04025287609287113176"
     },
     "user_tz": 420
    },
    "id": "HIoi0g_58piC",
    "outputId": "d8a6bed9-ff06-4c47-c7c0-eb1cf4c7631a"
   },
   "outputs": [
    {
     "name": "stdout",
     "output_type": "stream",
     "text": [
      "Saving figure better_visualization_plot\n"
     ]
    },
    {
     "data": {
      "image/png": "[encoded data removed]",
      "text/plain": [
       "<Figure size 432x288 with 1 Axes>"
      ]
     },
     "metadata": {
      "needs_background": "light"
     },
     "output_type": "display_data"
    }
   ],
   "source": [
    "# we can make it look a bit nicer by using the alpha parameter,\n",
    "# it simply plots less dense areas lighter.\n",
    "housing.plot(kind=\"scatter\", x=\"longitude\", y=\"latitude\", alpha=0.1)\n",
    "save_fig(\"better_visualization_plot\")"
   ]
  },
  {
   "cell_type": "code",
   "execution_count": 16,
   "metadata": {
    "colab": {
     "base_uri": "https://localhost:8080/",
     "height": 389
    },
    "executionInfo": {
     "elapsed": 486,
     "status": "error",
     "timestamp": 1688361555597,
     "user": {
      "displayName": "Wade Sultan",
      "userId": "04025287609287113176"
     },
     "user_tz": 420
    },
    "id": "UKzoYu_38piD",
    "outputId": "e31fbf81-2350-4416-b955-a46f510b6691"
   },
   "outputs": [
    {
     "name": "stdout",
     "output_type": "stream",
     "text": [
      "Saving figure california_housing_prices_plot\n"
     ]
    },
    {
     "data": {
      "image/png": "[encoded data removed]",
      "text/plain": [
       "<Figure size 720x504 with 2 Axes>"
      ]
     },
     "metadata": {
      "needs_background": "light"
     },
     "output_type": "display_data"
    }
   ],
   "source": [
    "# A more interesting plot is to color code (heatmap) the dots\n",
    "# based on income. The code below achieves this\n",
    "\n",
    "# load an image of california\n",
    "images_path = os.path.join('./')\n",
    "os.makedirs(images_path, exist_ok=True)\n",
    "filename = \"california.png\"\n",
    "\n",
    "import matplotlib.image as mpimg\n",
    "california_img=mpimg.imread(os.path.join(images_path, filename))\n",
    "ax = housing.plot(kind=\"scatter\", x=\"longitude\", y=\"latitude\", figsize=(10,7),\n",
    "                       s=housing['population']/100, label=\"Population\",\n",
    "                       c=\"median_house_value\", cmap=plt.get_cmap(\"jet\"),\n",
    "                       colorbar=False, alpha=0.4,\n",
    "                      )\n",
    "# overlay the califronia map on the plotted scatter plot\n",
    "# note: plt.imshow still refers to the most recent figure\n",
    "# that hasn't been plotted yet.\n",
    "plt.imshow(california_img, extent=[-124.55, -113.80, 32.45, 42.05], alpha=0.5,\n",
    "           cmap=plt.get_cmap(\"jet\"))\n",
    "plt.ylabel(\"Latitude\", fontsize=14)\n",
    "plt.xlabel(\"Longitude\", fontsize=14)\n",
    "\n",
    "# setting up heatmap colors based on median_house_value feature\n",
    "prices = housing[\"median_house_value\"]\n",
    "tick_values = np.linspace(prices.min(), prices.max(), 11)\n",
    "cb = plt.colorbar()\n",
    "cb.ax.set_yticklabels([\"$%dk\"%(round(v/1000)) for v in tick_values], fontsize=14)\n",
    "cb.set_label('Median House Value', fontsize=16)\n",
    "\n",
    "plt.legend(fontsize=16)\n",
    "save_fig(\"california_housing_prices_plot\")\n",
    "plt.show()"
   ]
  },
  {
   "cell_type": "markdown",
   "metadata": {
    "id": "WrNApF5k8piD"
   },
   "source": [
    "Not suprisingly, we can see that the most expensive houses are concentrated around the San Francisco/Los Angeles areas."
   ]
  },
  {
   "cell_type": "markdown",
   "metadata": {
    "id": "-iipvqYy8piD"
   },
   "source": [
    "Up until now we have only visualized feature histograms and basic statistics.\n",
    "\n",
    "When developing machine learning models the predictiveness of a feature for a particular target of intrest is what's important.\n",
    "\n",
    "It may be that only a few features are useful for the target at hand, or features may need to be augmented by applying certain transfomrations.\n",
    "\n",
    "None the less we can explore this using correlation matrices."
   ]
  },
  {
   "cell_type": "code",
   "execution_count": 17,
   "metadata": {
    "id": "qzAvVYm28piE"
   },
   "outputs": [
    {
     "ename": "TypeError",
     "evalue": "corr() got an unexpected keyword argument 'numeric_only'",
     "output_type": "error",
     "traceback": [
      "\u001b[0;31m---------------------------------------------------------------------------\u001b[0m",
      "\u001b[0;31mTypeError\u001b[0m                                 Traceback (most recent call last)",
      "\u001b[0;32m<ipython-input-17-ea5dcce6bf06>\u001b[0m in \u001b[0;36m<module>\u001b[0;34m\u001b[0m\n\u001b[0;32m----> 1\u001b[0;31m \u001b[0mcorr_matrix\u001b[0m \u001b[0;34m=\u001b[0m \u001b[0mhousing\u001b[0m\u001b[0;34m.\u001b[0m\u001b[0mcorr\u001b[0m\u001b[0;34m(\u001b[0m\u001b[0mnumeric_only\u001b[0m \u001b[0;34m=\u001b[0m \u001b[0;32mTrue\u001b[0m\u001b[0;34m)\u001b[0m\u001b[0;34m\u001b[0m\u001b[0;34m\u001b[0m\u001b[0m\n\u001b[0m",
      "\u001b[0;31mTypeError\u001b[0m: corr() got an unexpected keyword argument 'numeric_only'"
     ]
    }
   ],
   "source": [
    "corr_matrix = housing.corr(numeric_only = True)"
   ]
  },
  {
   "cell_type": "code",
   "execution_count": null,
   "metadata": {
    "id": "ZosWCIGU8piE"
   },
   "outputs": [],
   "source": [
    "# for example if the target is \"median_house_value\", most correlated features can be sorted\n",
    "# which happens to be \"median_income\". This also intuitively makes sense.\n",
    "corr_matrix[\"median_house_value\"].sort_values(ascending=False)"
   ]
  },
  {
   "cell_type": "code",
   "execution_count": null,
   "metadata": {
    "id": "f625-Ioj8piF"
   },
   "outputs": [],
   "source": [
    "# the correlation matrix for different attributes/features can also be plotted\n",
    "# some features may show a positive correlation/negative correlation or\n",
    "# it may turn out to be completely random!\n",
    "from pandas.plotting import scatter_matrix\n",
    "attributes = [\"median_house_value\", \"median_income\", \"total_rooms\",\n",
    "              \"housing_median_age\"]\n",
    "scatter_matrix(housing[attributes], figsize=(12, 8))\n",
    "save_fig(\"scatter_matrix_plot\")"
   ]
  },
  {
   "cell_type": "code",
   "execution_count": null,
   "metadata": {
    "id": "Qb8hDHri8piF"
   },
   "outputs": [],
   "source": [
    "# median income vs median house vlue plot plot 2 in the first row of top figure\n",
    "housing.plot(kind=\"scatter\", x=\"median_income\", y=\"median_house_value\",\n",
    "             alpha=0.1)\n",
    "plt.axis([0, 16, 0, 550000])\n",
    "save_fig(\"income_vs_house_value_scatterplot\")"
   ]
  },
  {
   "cell_type": "markdown",
   "metadata": {
    "id": "6JG1WYbT8piF"
   },
   "source": [
    "### Augmenting Features\n",
    "New features can be created by combining different columns from our data set.\n",
    "\n",
    "- rooms_per_household = total_rooms / households\n",
    "- bedrooms_per_room = total_bedrooms / total_rooms\n",
    "- etc.\n",
    "\n",
    "**Note that we should not get the labels (housing[\"median_house_value\"]) invoved in the augmented features**"
   ]
  },
  {
   "cell_type": "code",
   "execution_count": null,
   "metadata": {
    "id": "ofA4omJe8piG"
   },
   "outputs": [],
   "source": [
    "housing[\"rooms_per_household\"] = housing[\"total_rooms\"]/housing[\"households\"]\n",
    "housing[\"bedrooms_per_room\"] = housing[\"total_bedrooms\"]/housing[\"total_rooms\"]\n",
    "housing[\"population_per_household\"]=housing[\"population\"]/housing[\"households\"]"
   ]
  },
  {
   "cell_type": "code",
   "execution_count": null,
   "metadata": {
    "id": "K6XOmp8L8piG"
   },
   "outputs": [],
   "source": [
    "# obtain new correlations\n",
    "corr_matrix = housing.corr(numeric_only=True)\n",
    "corr_matrix[\"median_house_value\"].sort_values(ascending=False)"
   ]
  },
  {
   "cell_type": "code",
   "execution_count": null,
   "metadata": {
    "id": "R-T9mfN68piG"
   },
   "outputs": [],
   "source": [
    "housing.plot(kind=\"scatter\", x=\"rooms_per_household\", y=\"median_house_value\",\n",
    "             alpha=0.2)\n",
    "plt.axis([0, 5, 0, 520000])\n",
    "plt.show()"
   ]
  },
  {
   "cell_type": "code",
   "execution_count": null,
   "metadata": {
    "id": "3ussQ3LR8piG"
   },
   "outputs": [],
   "source": [
    "housing.describe()"
   ]
  },
  {
   "cell_type": "markdown",
   "metadata": {
    "id": "Y73WpPie8piH"
   },
   "source": [
    "## Step 3. Preprocess the data for your machine learning algorithm"
   ]
  },
  {
   "cell_type": "markdown",
   "metadata": {
    "id": "3hA2-qHH8piH"
   },
   "source": [
    "Once we've visualized the data, and have a certain understanding of how the data looks like. It's time to clean!\n",
    "\n",
    "Most of your time will be spent on this step, although the datasets used in this project are relatively nice and clean... in the real world it could get real dirty.\n",
    "\n",
    "After having cleaned your dataset you're aiming for:\n",
    "- train set\n",
    "- test set\n",
    "\n",
    "In some cases you might also have a validation set as well for tuning hyperparameters (don't worry if you're not familiar with this term yet..)\n",
    "\n",
    "In supervised learning setting your train set and test set should contain (**feature**, **target**) tuples.\n",
    " - **feature**: is the input to your model\n",
    " - **target**: is the ground truth label\n",
    "     - when target is categorical the task is a classification task\n",
    "     - when target is floating point the task is a regression task\n",
    "     \n",
    "We will make use of **[scikit-learn](https://scikit-learn.org/stable/)** python package for preprocessing.\n",
    "\n",
    "Scikit learn is pretty well documented and if you get confused at any point simply look up the function/object!"
   ]
  },
  {
   "cell_type": "markdown",
   "metadata": {
    "id": "YWgLWPZO8piH"
   },
   "source": [
    "### Dealing With Incomplete Data"
   ]
  },
  {
   "cell_type": "code",
   "execution_count": null,
   "metadata": {
    "id": "WK8K21aC8piH"
   },
   "outputs": [],
   "source": [
    "# have you noticed when looking at the dataframe summary certain rows\n",
    "# contained null values? we can't just leave them as nulls and expect our\n",
    "# model to handle them for us so we'll have to devise a method for dealing with them...\n",
    "sample_incomplete_rows = housing[housing.isnull().any(axis=1)].head()\n",
    "sample_incomplete_rows"
   ]
  },
  {
   "cell_type": "code",
   "execution_count": null,
   "metadata": {
    "id": "vZJe2tV_8piI"
   },
   "outputs": [],
   "source": [
    "sample_incomplete_rows.dropna(subset=[\"total_bedrooms\"])    # option 1: simply drop rows that have null values"
   ]
  },
  {
   "cell_type": "code",
   "execution_count": null,
   "metadata": {
    "id": "QvKzbWGe8piI"
   },
   "outputs": [],
   "source": [
    "sample_incomplete_rows.drop(\"total_bedrooms\", axis=1)       # option 2: drop the complete feature"
   ]
  },
  {
   "cell_type": "code",
   "execution_count": null,
   "metadata": {
    "id": "_UQcejVV8piI"
   },
   "outputs": [],
   "source": [
    "median = housing[\"total_bedrooms\"].median()\n",
    "sample_incomplete_rows[\"total_bedrooms\"].fillna(median, inplace=True) # option 3: replace na values with median values\n",
    "sample_incomplete_rows"
   ]
  },
  {
   "cell_type": "markdown",
   "metadata": {
    "id": "mAVjnvaF8piJ"
   },
   "source": [
    "Could you think of another plausible imputation for this dataset? (Not graded)"
   ]
  },
  {
   "cell_type": "markdown",
   "metadata": {
    "id": "E195Ivz88piJ"
   },
   "source": [
    "### Prepare Data"
   ]
  },
  {
   "cell_type": "code",
   "execution_count": null,
   "metadata": {
    "id": "im-9DqkU8piJ"
   },
   "outputs": [],
   "source": [
    "housing_unlabeled = housing.drop(\"median_house_value\", axis=1) # drop labels for training set features\n",
    "                                                       # the input to the model should not contain the true label\n",
    "housing_labels = housing[\"median_house_value\"].copy()"
   ]
  },
  {
   "cell_type": "code",
   "execution_count": null,
   "metadata": {
    "id": "OAyHSlI18piJ"
   },
   "outputs": [],
   "source": [
    "housing_unlabeled.head()"
   ]
  },
  {
   "cell_type": "code",
   "execution_count": null,
   "metadata": {
    "id": "mBzNcMGe8piJ"
   },
   "outputs": [],
   "source": [
    "# This cell implements the complete pipeline for preparing the data\n",
    "# using sklearns TransformerMixins\n",
    "# Earlier we mentioned different types of features: categorical, and floats.\n",
    "# In the case of floats we might want to convert them to categories.\n",
    "# On the other hand categories in which are not already represented as integers must be mapped to integers before\n",
    "# feeding to the model.\n",
    "\n",
    "# Additionally, categorical values could either be represented as one-hot vectors or simple as normalized/unnormalized integers.\n",
    "# Here we encode them using one hot vectors.\n",
    "\n",
    "# DO NOT WORRY IF YOU DO NOT UNDERSTAND ALL THE STEPS OF THIS PIPELINE. CONCEPTS LIKE NORMALIZATION,\n",
    "# ONE-HOT ENCODING ETC. WILL ALL BE COVERED IN DISCUSSION\n",
    "\n",
    "from sklearn.impute import SimpleImputer\n",
    "from sklearn.compose import ColumnTransformer\n",
    "\n",
    "from sklearn.pipeline import Pipeline\n",
    "from sklearn.preprocessing import StandardScaler\n",
    "from sklearn.preprocessing import OneHotEncoder\n",
    "\n",
    "from sklearn.base import BaseEstimator, TransformerMixin\n",
    "\n",
    "\n",
    "imputer = SimpleImputer(strategy=\"median\") # use median imputation for missing values\n",
    "housing_num = housing_unlabeled.drop(\"ocean_proximity\", axis=1) # remove the categorical feature\n",
    "# column index\n",
    "rooms_ix, bedrooms_ix, population_ix, households_ix = 3, 4, 5, 6\n",
    "\n",
    "#\n",
    "class AugmentFeatures(BaseEstimator, TransformerMixin):\n",
    "    '''\n",
    "    implements the previous features we had defined\n",
    "    housing[\"rooms_per_household\"] = housing[\"total_rooms\"]/housing[\"households\"]\n",
    "    housing[\"bedrooms_per_room\"] = housing[\"total_bedrooms\"]/housing[\"total_rooms\"]\n",
    "    housing[\"population_per_household\"]=housing[\"population\"]/housing[\"households\"]\n",
    "    '''\n",
    "    def __init__(self, add_bedrooms_per_room = True):\n",
    "        self.add_bedrooms_per_room = add_bedrooms_per_room\n",
    "    def fit(self, X, y=None):\n",
    "        return self  # nothing else to do\n",
    "    def transform(self, X):\n",
    "        rooms_per_household = X[:, rooms_ix] / X[:, households_ix]\n",
    "        population_per_household = X[:, population_ix] / X[:, households_ix]\n",
    "        if self.add_bedrooms_per_room:\n",
    "            bedrooms_per_room = X[:, bedrooms_ix] / X[:, rooms_ix]\n",
    "            return np.c_[X, rooms_per_household, population_per_household,\n",
    "                         bedrooms_per_room]\n",
    "        else:\n",
    "            return np.c_[X, rooms_per_household, population_per_household]\n",
    "\n",
    "attr_adder = AugmentFeatures(add_bedrooms_per_room=False)\n",
    "housing_extra_attribs = attr_adder.transform(housing.values)\n",
    "\n",
    "num_pipeline = Pipeline([\n",
    "        ('imputer', SimpleImputer(strategy=\"median\")),\n",
    "        ('attribs_adder', AugmentFeatures()),\n",
    "        ('std_scaler', StandardScaler()),\n",
    "    ])\n",
    "\n",
    "housing_num_tr = num_pipeline.fit_transform(housing_num)\n",
    "numerical_features = list(housing_num)\n",
    "categorical_features = [\"ocean_proximity\"]\n",
    "\n",
    "full_pipeline = ColumnTransformer([\n",
    "        (\"num\", num_pipeline, numerical_features),\n",
    "        (\"cat\", OneHotEncoder(), categorical_features),\n",
    "    ])\n",
    "\n",
    "housing_prepared = full_pipeline.fit_transform(housing_unlabeled)\n",
    "print(housing_prepared.shape) # numpy.ndarray\n",
    "print(housing['median_house_value'].shape)"
   ]
  },
  {
   "cell_type": "markdown",
   "metadata": {
    "id": "iGZ8rjojCxER"
   },
   "source": [
    "*Another* way of preparing the data is to creat a numpy array directly."
   ]
  },
  {
   "cell_type": "markdown",
   "metadata": {
    "id": "8kqPMANvC5Am"
   },
   "source": [
    "> First, make sure that there are only \"bedrooms_per_room\" and \"total_bedrooms\" who contain null values"
   ]
  },
  {
   "cell_type": "code",
   "execution_count": null,
   "metadata": {
    "id": "PUglbjtIC55q"
   },
   "outputs": [],
   "source": [
    "tmp = housing.drop([\"total_bedrooms\", \"bedrooms_per_room\"], axis=1)\n",
    "tmp[tmp.isnull().any(axis=1)]"
   ]
  },
  {
   "cell_type": "markdown",
   "metadata": {
    "id": "Ghp3G_ROC_eL"
   },
   "source": [
    "Next, check process data from table into matrix"
   ]
  },
  {
   "cell_type": "code",
   "execution_count": null,
   "metadata": {
    "id": "g6yjh0q_C9lE"
   },
   "outputs": [],
   "source": [
    "import numpy as np\n",
    "from sklearn import preprocessing\n",
    "\n",
    "# goal: housing_prepared of shape (N, D) and label_prepare of shape (N,)\n",
    "\n",
    "# dealing with incomplete data\n",
    "incomplete_features = [\"total_bedrooms\", \"bedrooms_per_room\"]\n",
    "for feat in incomplete_features:\n",
    "  median = housing_unlabeled[feat].median()\n",
    "  housing_unlabeled[feat].fillna(median, inplace=True) # na feature preprocess option 3: replace na values with median values\n",
    "\n",
    "\n",
    "# categorizal part\n",
    "categorical_features = [\"ocean_proximity\"]\n",
    "\n",
    "le = preprocessing.LabelEncoder()\n",
    "for c in categorical_features:\n",
    "  le.fit(housing_unlabeled[c])\n",
    "  housing_unlabeled[c]=le.transform(housing_unlabeled[c])\n",
    "\n",
    "# optionally: do some normalizatiom here\n",
    "\n",
    "# numerical preprocess\n",
    "housing_prepared = housing_unlabeled.to_numpy()\n",
    "\n",
    "# check the shape\n",
    "print(housing_prepared.shape)\n",
    "print(housing['median_house_value'].shape)"
   ]
  },
  {
   "cell_type": "markdown",
   "metadata": {
    "id": "tMtpjTJ38piK"
   },
   "source": [
    "### Splitting our dataset\n",
    "\n",
    "Once we have prepared the dataset it's time to choose a model.\n",
    "\n",
    "As our task is to predict the median_house_value (a floating value), regression is well suited for this."
   ]
  },
  {
   "cell_type": "code",
   "execution_count": null,
   "metadata": {
    "id": "2Ui10VPK8piK"
   },
   "outputs": [],
   "source": [
    "from sklearn.model_selection import train_test_split\n",
    "data_target = housing['median_house_value']\n",
    "# 0.3 for 70% train, 30% test split\n",
    "train, test, target, target_test = train_test_split(housing_prepared, data_target, test_size=0.3, random_state=0)"
   ]
  },
  {
   "cell_type": "markdown",
   "metadata": {
    "id": "r9-volmY8piK"
   },
   "source": [
    "### Select a model and train\n",
    "\n",
    "First we need to carve out our dataset into a training and testing cohort. To do this we'll use train_test_split, a very elementary tool that arbitrarily splits the data into training and testing cohorts."
   ]
  },
  {
   "cell_type": "code",
   "execution_count": null,
   "metadata": {
    "id": "DmbIWsa88piK"
   },
   "outputs": [],
   "source": [
    "from sklearn.linear_model import LinearRegression\n",
    "\n",
    "lin_reg = LinearRegression()\n",
    "lin_reg.fit(train, target)\n",
    "\n",
    "# let's try the full preprocessing pipeline on a few training instances\n",
    "data = test\n",
    "labels = target_test\n",
    "\n",
    "print(\"Predictions:\", lin_reg.predict(data)[:5])\n",
    "print(\"Actual labels:\", list(labels)[:5])"
   ]
  },
  {
   "cell_type": "code",
   "execution_count": null,
   "metadata": {
    "id": "pfCavJGo8piL"
   },
   "outputs": [],
   "source": [
    "from sklearn.metrics import mean_squared_error\n",
    "\n",
    "preds = lin_reg.predict(test)\n",
    "mse = mean_squared_error(target_test, preds)\n",
    "rmse = np.sqrt(mse)\n",
    "rmse"
   ]
  },
  {
   "cell_type": "markdown",
   "metadata": {
    "id": "sBSRufj-8piL"
   },
   "source": [
    "# TODO: Applying the end-end ML steps to a different dataset."
   ]
  },
  {
   "cell_type": "markdown",
   "metadata": {
    "id": "ks1Crm7x8piL"
   },
   "source": [
    "We will apply what we've learnt to another dataset (airbnb dataset). We will predict airbnb price based on other features."
   ]
  },
  {
   "cell_type": "markdown",
   "metadata": {
    "id": "WKtr1MU38piL"
   },
   "source": [
    "# [35 pts] Visualizing Data\n"
   ]
  },
  {
   "cell_type": "markdown",
   "metadata": {
    "id": "AOsu-pEf8piM"
   },
   "source": [
    "### [5 pts] Load the data + statistics\n",
    "\n",
    "- load the dataset\n",
    "- display the first few rows of the data\n"
   ]
  },
  {
   "cell_type": "code",
   "execution_count": null,
   "metadata": {
    "id": "jPV--a5l8piM"
   },
   "outputs": [],
   "source": [
    "import pandas as pd\n",
    "\n",
    "# For your future convenience, check this: https://www.makeuseof.com/create-direct-link-google-drive-files/\n",
    "data = pd.read_csv(\"https://drive.google.com/uc?id=1Wa5ixqnsckyQQhb1Ap4wl37mSgnPI12F&export=download\")\n",
    "data.head()"
   ]
  },
  {
   "cell_type": "markdown",
   "metadata": {
    "id": "ETtAwm488piM"
   },
   "source": [
    "- pull up info on the data type for each of the data fields. Will any of these be problemmatic feeding into your model (you may need to do a little research on this)? Discuss:\n",
    "\n",
    "Something about the names being non-numeric with thousands of possibilities, none of which are relevant to this analysis, since we are not analyzing something like the most popular baby names.\n",
    "\n"
   ]
  },
  {
   "cell_type": "code",
   "execution_count": null,
   "metadata": {
    "id": "hREzletr8piM"
   },
   "outputs": [],
   "source": []
  },
  {
   "cell_type": "markdown",
   "metadata": {
    "id": "3cq7tnPF8piM"
   },
   "source": [
    "*All the data fields with data type \"object\" (name, host_name, neighbourhood, neighborhood_group, room_type, last_review) could be problematic later on. Because their data types are unclear to us. It could possibly mean that the data type is messed up in some fields, or there are some empty values.*"
   ]
  },
  {
   "cell_type": "markdown",
   "metadata": {
    "id": "oD2Yo-mn0pwD"
   },
   "source": []
  },
  {
   "cell_type": "markdown",
   "metadata": {
    "id": "_dcdE1DJ8piN"
   },
   "source": [
    "- drop the following columns: name, host_id, host_name, last_review, and reviews_per_month\n",
    "- display a summary of the statistics of the loaded data"
   ]
  },
  {
   "cell_type": "code",
   "execution_count": null,
   "metadata": {
    "id": "tDdErMdz8piN"
   },
   "outputs": [],
   "source": [
    "data = data.drop('name', axis = 1)"
   ]
  },
  {
   "cell_type": "code",
   "execution_count": null,
   "metadata": {
    "id": "DkEXR62o8piN"
   },
   "outputs": [],
   "source": []
  },
  {
   "cell_type": "markdown",
   "metadata": {
    "id": "bvxx7MjF8piN"
   },
   "source": [
    "### [5 pts] Boxplot 3 features of your choice"
   ]
  },
  {
   "cell_type": "markdown",
   "metadata": {
    "id": "0kuSc3pp8piN"
   },
   "source": [
    "- plot [boxplots](https://chartio.com/learn/charts/box-plot-complete-guide/) for 3 features of your choice"
   ]
  },
  {
   "cell_type": "code",
   "execution_count": null,
   "metadata": {
    "id": "bHFV6PPg8piN"
   },
   "outputs": [],
   "source": [
    "data.boxplot(column= ['number_of_reviews', 'price','availability_365'],figsize=(20,15), showfliers = False)"
   ]
  },
  {
   "cell_type": "markdown",
   "metadata": {
    "id": "kfr-Dont8piN"
   },
   "source": [
    "- describe what you expected to see with these features and what you actually observed"
   ]
  },
  {
   "cell_type": "markdown",
   "metadata": {
    "id": "CMm5_Gwm8piO"
   },
   "source": [
    "*This question should be open-ended, such as some observations, e.g.The range varies a lot, plus, long tail distribution, etc.*"
   ]
  },
  {
   "cell_type": "markdown",
   "metadata": {
    "id": "we2OdJLm8piO"
   },
   "source": [
    "High variability in price with long tail values, review numbers much more compact, however availability has a wider variance."
   ]
  },
  {
   "cell_type": "markdown",
   "metadata": {
    "id": "2SXUlwCu8piO"
   },
   "source": [
    "### [10 pts] Plot average price of a listing per neighbourhood_group"
   ]
  },
  {
   "cell_type": "code",
   "execution_count": null,
   "metadata": {
    "id": "cXDfWE8k8piP"
   },
   "outputs": [],
   "source": [
    "grouped = data.groupby('neighbourhood_group')"
   ]
  },
  {
   "cell_type": "markdown",
   "metadata": {
    "id": "RmNw-dph8piP"
   },
   "source": [
    "- describe what you expected to see with these features and what you actually observed"
   ]
  },
  {
   "cell_type": "markdown",
   "metadata": {
    "id": "iEWeHaGa8piP"
   },
   "source": [
    "*This question should be open-ended, they can talk about things such as \"expecting the rooms with higher price to be have fewer reviews / more days available, but this is not the case\". Or \"location affects the price\" and indeed it does.*"
   ]
  },
  {
   "cell_type": "markdown",
   "metadata": {
    "id": "KoQoFj4Z8piP"
   },
   "source": [
    "- So we can see different neighborhoods have dramatically different pricepoints, but how does the price breakdown by range. To see let's do a histogram of price by neighborhood to get a better sense of the distribution."
   ]
  },
  {
   "cell_type": "code",
   "execution_count": null,
   "metadata": {
    "id": "pczgNeyg8piQ"
   },
   "outputs": [],
   "source": [
    "import numpy as np\n",
    "\n",
    "for neighborhood in set(data[\"neighbourhood_group\"]):\n",
    "  data_tmp = data[data[\"neighbourhood_group\"] == neighborhood]\n",
    "  data_tmp = data_tmp[~data_tmp[\"price\"].isna()]\n",
    "  # Your code here\n",
    "  n_chunks = 10\n",
    "  bins = list()\n",
    "  labels = list()\n",
    "  granularity = 50\n",
    "  for i in range(n_chunks):\n",
    "    bins.append(i * granularity)\n",
    "    labels.append(i)\n",
    "  bins.append(np.inf)\n",
    "  data_tmp[\"price_cut\"] = pd.cut(data_tmp[\"price\"],\n",
    "                               bins=bins,\n",
    "                               labels=labels)\n",
    "\n",
    "  data_tmp[\"price_cut\"].hist()\n",
    "  plt.title(neighborhood)\n",
    "  plt.show()\n"
   ]
  },
  {
   "cell_type": "markdown",
   "metadata": {
    "id": "xLExyPuS8piQ"
   },
   "source": [
    "### [5 pts] Plot map of airbnbs throughout New York (if it gets too crowded take a subset of the data, and try to make it look nice if you can :) )."
   ]
  },
  {
   "cell_type": "code",
   "execution_count": null,
   "metadata": {
    "id": "F2wqEbAA8piQ"
   },
   "outputs": [],
   "source": [
    "images_path = os.path.join('./', \"images\")\n",
    "os.makedirs(images_path, exist_ok=True)\n",
    "filename = \"newyork.png\"\n",
    "\n",
    "import matplotlib.image as mpimg\n",
    "newyork_img=mpimg.imread(os.path.join(images_path, filename))\n",
    "ax = data.plot(kind=\"scatter\", x=\"longitude\", y=\"latitude\", figsize=(10,7))\n",
    "plt.imshow(newyork_img, extent=[-74.24, -73.71, 40.50, 40.91])\n",
    "plt.ylabel(\"Latitude\", fontsize=14)\n",
    "plt.xlabel(\"Longitude\", fontsize=14)\n",
    "\n",
    "plt.show()\n"
   ]
  },
  {
   "cell_type": "markdown",
   "metadata": {
    "id": "-EfMgnwo8piQ"
   },
   "source": [
    "### [5 pts] Plot average price of room types who have availability greater than 180 days and neighbourhood_group is Manhattan"
   ]
  },
  {
   "cell_type": "code",
   "execution_count": null,
   "metadata": {
    "id": "Qxgry2028piQ"
   },
   "outputs": [],
   "source": [
    "data_manhattan = data[data[\"neighbourhood_group\"] == \"Manhattan\"] # selecting rows whose neighbourhood_group is Manhattan\n",
    "data_manhattan_180 = data_manhattan[data_manhattan[\"availability_365\"] > 180].groupby('room_type').mean(numeric_only=True)\n",
    "\n",
    "data_manhattan_180[\"price\"].plot()"
   ]
  },
  {
   "cell_type": "markdown",
   "metadata": {
    "id": "zzdEfJZ68piQ"
   },
   "source": [
    "### [5 pts] Plot correlation matrix\n",
    "- which features have positive correlation?\n",
    "- which features have negative correlation?"
   ]
  },
  {
   "cell_type": "code",
   "execution_count": null,
   "metadata": {
    "id": "svnFS9mN8piQ"
   },
   "outputs": [],
   "source": [
    "corr_matrix = data.corr(numeric_only = True)\n",
    "corr_matrix[\"price\"].sort_values(ascending=False)"
   ]
  },
  {
   "cell_type": "markdown",
   "metadata": {
    "id": "Q0W-Z9Z78piR"
   },
   "source": [
    "*(open-ended question, any findings should work)*"
   ]
  },
  {
   "cell_type": "markdown",
   "metadata": {
    "id": "q2i9dMEO8piR"
   },
   "source": [
    "# [30 pts] Prepare the Data"
   ]
  },
  {
   "cell_type": "code",
   "execution_count": null,
   "metadata": {
    "id": "PgkENd7ZvdZl"
   },
   "outputs": [],
   "source": []
  },
  {
   "cell_type": "markdown",
   "metadata": {
    "id": "LyaHP6q_8piR"
   },
   "source": [
    "### [5 pts] Augment the dataframe with two other features which you think would be useful\n",
    "\n",
    "> Hint: Do Not Use Label (price) to Augment Features"
   ]
  },
  {
   "cell_type": "code",
   "execution_count": null,
   "metadata": {
    "id": "V9Q7vwj3PUKL"
   },
   "outputs": [],
   "source": [
    "data_new = data.drop(columns = ['host_id', 'host_name', 'last_review'],axis = 1)\n",
    "data_new.head()"
   ]
  },
  {
   "cell_type": "code",
   "execution_count": null,
   "metadata": {
    "id": "m1IIlL_l8piR"
   },
   "outputs": [],
   "source": [
    "data_new[\"average_num_review_per_listing\"] = data_new[\"number_of_reviews\"] / data_new[\"calculated_host_listings_count\"]\n",
    "data_new[\"calculated_host_availablity_count\"] = data_new[\"calculated_host_listings_count\"] * data_new[\"availability_365\"]"
   ]
  },
  {
   "cell_type": "markdown",
   "metadata": {
    "id": "_ztMNC8c8piR"
   },
   "source": [
    "### [5 pts] Impute any missing feature with a method of your choice, and briefly discuss why you chose this imputation method"
   ]
  },
  {
   "cell_type": "code",
   "execution_count": null,
   "metadata": {
    "id": "WZsHiDVE8piR"
   },
   "outputs": [],
   "source": [
    "data_new.info()"
   ]
  },
  {
   "cell_type": "code",
   "execution_count": null,
   "metadata": {
    "id": "WJ_DxqMiHeMz"
   },
   "outputs": [],
   "source": [
    "data_impute = data_new.dropna(subset=[\"reviews_per_month\"])"
   ]
  },
  {
   "cell_type": "markdown",
   "metadata": {
    "id": "xJ1YDzLd8piS"
   },
   "source": [
    "### [15 pts] Data Preparation\n",
    "\n",
    "> Either using sklearn mixins, or anyway to create ndarray from scratch, is fine.\n",
    "\n",
    "> As long as a feature matrix pf shape (N, D) and a label vertor of shape (N,) is prepared"
   ]
  },
  {
   "cell_type": "code",
   "execution_count": null,
   "metadata": {
    "id": "C2DwhfwXQFeq"
   },
   "outputs": [],
   "source": [
    "import numpy as np\n",
    "\n",
    "# goal: data_prepare of shape (N, D) and label_prepare of shape (N,)\n",
    "\n",
    "# categorizal part\n",
    "categorical_features = [\"neighbourhood\", \"neighbourhood_group\", \"room_type\"]\n",
    "\n",
    "from sklearn import preprocessing\n",
    "le = preprocessing.LabelEncoder()\n",
    "for c in categorical_features:\n",
    "  le.fit(data_impute[c])\n",
    "  data_impute[c]=le.transform(data_impute[c])\n",
    "\n",
    "# numerical preprocess\n",
    "data_prepared = data_impute.drop(\"price\", axis=1).to_numpy()\n",
    "\n",
    "print(data_prepared.shape) # numpy.ndarray\n",
    "print(data_impute['price'].shape)"
   ]
  },
  {
   "cell_type": "markdown",
   "metadata": {
    "id": "Bhn8-8yy8piS"
   },
   "source": [
    "### [5 pts] Set aside 20% of the data as test test (80% train, 20% test)."
   ]
  },
  {
   "cell_type": "code",
   "execution_count": null,
   "metadata": {
    "id": "tS8DfDNX8piS"
   },
   "outputs": [],
   "source": [
    "from sklearn.model_selection import train_test_split\n",
    "data_target = data_impute[\"price\"]\n",
    "train, test, target, target_test = train_test_split(data_prepared, data_target, test_size=0.2, random_state=0)"
   ]
  },
  {
   "cell_type": "markdown",
   "metadata": {
    "id": "DWGtwqY_8piT"
   },
   "source": [
    "# [15 pts] Fit a model of your choice\n",
    "\n",
    "The task is to predict the price, you could refer to the housing example on how to train and evaluate your model using MSE.\n",
    "Provide both test and train set MSE values."
   ]
  },
  {
   "cell_type": "code",
   "execution_count": null,
   "metadata": {
    "id": "fmVZ0varHwiA"
   },
   "outputs": [],
   "source": [
    "from sklearn.linear_model import LinearRegression\n",
    "\n",
    "lin_reg = LinearRegression()\n",
    "lin_reg.fit(train, target)\n",
    "\n",
    "# let's try the full preprocessing pipeline on a few training instances\n",
    "data = test\n",
    "labels = target_test\n",
    "\n",
    "print(\"Predictions:\", lin_reg.predict(data)[:5])\n",
    "print(\"Actual labels:\", list(labels)[:5])"
   ]
  },
  {
   "cell_type": "code",
   "execution_count": null,
   "metadata": {
    "id": "Dk8iloeeH0Rm"
   },
   "outputs": [],
   "source": [
    "from sklearn.metrics import mean_squared_error\n",
    "\n",
    "preds = lin_reg.predict(test)\n",
    "mse = mean_squared_error(target_test, preds)\n",
    "rmse = np.sqrt(mse)\n",
    "rmse"
   ]
  }
 ],
 "metadata": {
  "colab": {
   "collapsed_sections": [
    "ZU4_lOpf8piA"
   ],
   "provenance": []
  },
  "kernelspec": {
   "display_name": "Python 3",
   "language": "python",
   "name": "python3"
  },
  "language_info": {
   "codemirror_mode": {
    "name": "ipython",
    "version": 3
   },
   "file_extension": ".py",
   "mimetype": "text/x-python",
   "name": "python",
   "nbconvert_exporter": "python",
   "pygments_lexer": "ipython3",
   "version": "3.9.6"
  }
 },
 "nbformat": 4,
 "nbformat_minor": 1
}
