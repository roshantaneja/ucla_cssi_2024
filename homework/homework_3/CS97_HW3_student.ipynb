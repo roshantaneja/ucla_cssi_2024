{
  "cells": [
    {
      "cell_type": "markdown",
      "metadata": {
        "id": "upobLF-7XNHo"
      },
      "source": [
        "# CS97 HW3 - Binary Classification Comparative Methods"
      ]
    },
    {
      "cell_type": "markdown",
      "metadata": {
        "id": "bpZ2eJ6AXNHp"
      },
      "source": [
        "For this project we're going to attempt the binary classification of a dataset using multiple methods and compare results.\n",
        "\n",
        "Our goals for this project is to introduce you to several of the most common classification techniques, how to perform them and tweak parameters to optimize the outcome, how to produce and interpret results, and compare performance. You will be asked to analyze your findings and provide explanations for the observed performance.\n",
        "\n",
        "Specifically you will be asked to classify whether a <b>patient is suffering from heart disease</b> based on a host of potential medical factors.\n",
        "\n",
        "<b><u>DEFINITIONS</b></u>\n",
        "\n",
        "\n",
        "<b> Binary Classification:</b>\n",
        "In this case a complex dataset has an added 'target' label with one of two options. Your learning algorithm will try to assign one of these labels to the data.\n",
        "\n",
        "<b> Supervised Learning:</b>\n",
        "The data is fully supervised, which means it's been fully labeled and we can trust the veracity of the labeling. The target is to predict the label."
      ]
    },
    {
      "cell_type": "markdown",
      "metadata": {
        "id": "CImOo6xKXNHq"
      },
      "source": [
        "## 0.1. Background: The Dataset"
      ]
    },
    {
      "cell_type": "markdown",
      "metadata": {
        "id": "TrWZoTnkXNHr"
      },
      "source": [
        "For this exercise we will be using a subset of the UCI Heart Disease dataset, leveraging the fourteen most commonly used attributes. All identifying information about the patient has been scrubbed.\n",
        "\n",
        "The dataset includes 14 columns. The information provided by each column is as follows:\n",
        "<ul>\n",
        "    <li><b>age:</b> Age in years</li>\n",
        "    <li><b>sex:</b> (1 = male; 0 = female)</li>\n",
        "    <li><b>cp:</b> Chest pain type (0 = asymptomatic; 1 = atypical angina; 2 = non-anginal pain; 3 = typical angina)</li>\n",
        "    <li><b>trestbps:</b> Resting blood pressure (in mm Hg on admission to the hospital)</li>\n",
        "    <li><b>cholserum:</b> Cholestoral in mg/dl</li>\n",
        "    <li><b>fbs:</b> Fasting blood sugar > 120 mg/dl (1 = true; 0 = false)</li>\n",
        "    <li><b>restecg:</b> Resting electrocardiographic results (0= showing probable or definite left ventricular hypertrophy by Estes' criteria; 1 = normal; 2 = having ST-T wave abnormality (T wave inversions and/or ST elevation or depression of > 0.05 mV))</li>\n",
        "    <li><b>thalach:</b> Maximum heart rate achieved</li>\n",
        "    <li><b>exang:</b> Exercise induced angina (1 = yes; 0 = no)</li>\n",
        "    <li><b>oldpeakST:</b> Depression induced by exercise relative to rest</li>\n",
        "    <li><b>slope:</b> The slope of the peak exercise ST segment (0 = downsloping; 1 = flat; 2 = upsloping)</li>\n",
        "    <li><b>ca:</b> Number of major vessels (0-4) colored by flourosopy</li>\n",
        "    <li><b>thal:</b> 1 = normal; 2 = fixed defect; 3 = reversable defect</li>\n",
        "    <li><b><u>Sick:</u></b> Indicates the presence of Heart disease (True = Disease; False = No disease). It is the label.</li>\n",
        "</ul>\n",
        "    \n"
      ]
    },
    {
      "cell_type": "markdown",
      "metadata": {
        "id": "pNbi-JouXNHs"
      },
      "source": [
        "## 0.2. Loading Essentials and Helper Functions"
      ]
    },
    {
      "cell_type": "code",
      "execution_count": 90,
      "metadata": {
        "id": "TC3VZ8Z5XNHs"
      },
      "outputs": [],
      "source": [
        "#Here are a set of libraries we imported to complete this assignment.\n",
        "#Feel free to use these or equivalent libraries for your implementation\n",
        "import numpy as np # linear algebra\n",
        "import pandas as pd # data processing, CSV file I/O (e.g. pd.read_csv)\n",
        "import matplotlib.pyplot as plt # this is used for the plot the graph\n",
        "import os\n",
        "from sklearn.model_selection import train_test_split\n",
        "from sklearn import metrics\n",
        "from sklearn.svm import SVC\n",
        "from sklearn.linear_model import LogisticRegression\n",
        "from sklearn.neighbors import KNeighborsClassifier\n",
        "from sklearn.metrics import confusion_matrix\n",
        "import itertools\n",
        "\n",
        "%matplotlib inline\n",
        "\n",
        "import random\n",
        "random.seed(42)"
      ]
    },
    {
      "cell_type": "code",
      "execution_count": 91,
      "metadata": {
        "id": "XvJNZ0fzXNHt"
      },
      "outputs": [],
      "source": [
        "# Helper function allowing you to export a graph\n",
        "def save_fig(fig_id, tight_layout=True, fig_extension=\"png\", resolution=300):\n",
        "    path = os.path.join(fig_id + \".\" + fig_extension)\n",
        "    print(\"Saving figure\", fig_id)\n",
        "    if tight_layout:\n",
        "        plt.tight_layout()\n",
        "    plt.savefig(path, format=fig_extension, dpi=resolution)"
      ]
    },
    {
      "cell_type": "code",
      "execution_count": 92,
      "metadata": {
        "id": "qqtIPRdzXNHt"
      },
      "outputs": [],
      "source": [
        "# Helper function that allows you to draw nicely formatted confusion matrices\n",
        "def draw_confusion_matrix(y, yhat, classes):\n",
        "    '''\n",
        "        Draws a confusion matrix for the given target and predictions\n",
        "        Adapted from scikit-learn and discussion example.\n",
        "    '''\n",
        "    plt.cla()\n",
        "    plt.clf()\n",
        "    matrix = confusion_matrix(y, yhat)\n",
        "    plt.imshow(matrix, interpolation='nearest', cmap=plt.cm.Blues)\n",
        "    plt.title(\"Confusion Matrix\")\n",
        "    plt.colorbar()\n",
        "    num_classes = len(classes)\n",
        "    plt.xticks(np.arange(num_classes), classes, rotation=90)\n",
        "    plt.yticks(np.arange(num_classes), classes)\n",
        "\n",
        "    fmt = 'd'\n",
        "    thresh = matrix.max() / 2.\n",
        "    for i, j in itertools.product(range(matrix.shape[0]), range(matrix.shape[1])):\n",
        "        plt.text(j, i, format(matrix[i, j], fmt),\n",
        "                 horizontalalignment=\"center\",\n",
        "                 color=\"white\" if matrix[i, j] > thresh else \"black\")\n",
        "\n",
        "    plt.ylabel('True label')\n",
        "    plt.xlabel('Predicted label')\n",
        "    plt.tight_layout()\n",
        "    plt.show()"
      ]
    },
    {
      "cell_type": "markdown",
      "metadata": {
        "id": "MIdoNvYlXNHv"
      },
      "source": [
        "## [20pt] Part 1.  Load the Data and Analyze"
      ]
    },
    {
      "cell_type": "markdown",
      "metadata": {
        "id": "wh-zKMpIXNHv"
      },
      "source": [
        "### 1.1. Let's first load our dataset (heartdisease.csv) so we'll be able to work with it."
      ]
    },
    {
      "cell_type": "code",
      "execution_count": 93,
      "metadata": {
        "id": "5220iz66XNHw"
      },
      "outputs": [],
      "source": [
        "'''NOTE FROM TA's'''\n",
        "'''Please use this website https://htmtopdf.herokuapp.com/ipynbviewer/\n",
        "  to convert ipynb file of this colab (File -> download as ipynb) to pdf,\n",
        "  instead of ctrl+p this page because it will not format beutifully\n",
        "  and it'll be difficult for us to grade'''\n",
        "\n",
        "data = pd.read_csv('https://drive.google.com/uc?id=1Madtt_YvvLiHLjaC1KpOReO1V9ClQw6t') # heartdisease.csv"
      ]
    },
    {
      "cell_type": "markdown",
      "metadata": {
        "id": "h_USIcXSXNHw"
      },
      "source": [
        "### 1.2. Now that our data is loaded, let's take a closer look at the dataset we're working with. Use the head method and the describe method to display some of the rows and undertand the summary of statistics."
      ]
    },
    {
      "cell_type": "code",
      "execution_count": 94,
      "metadata": {
        "id": "16IWwsPNXNHx",
        "colab": {
          "base_uri": "https://localhost:8080/",
          "height": 206
        },
        "outputId": "fc31f48a-eb70-43e7-8095-f94da4788295"
      },
      "outputs": [
        {
          "output_type": "execute_result",
          "data": {
            "text/plain": [
              "   age  sex  cp  trestbps  chol  fbs  restecg  thalach  exang  oldpeak  slope  \\\n",
              "0   63    1   3       145   233    1        0      150      0      2.3      0   \n",
              "1   37    1   2       130   250    0        1      187      0      3.5      0   \n",
              "2   41    0   1       130   204    0        0      172      0      1.4      2   \n",
              "3   56    1   1       120   236    0        1      178      0      0.8      2   \n",
              "4   57    0   0       120   354    0        1      163      1      0.6      2   \n",
              "\n",
              "   ca  thal   sick  \n",
              "0   0     1  False  \n",
              "1   0     2  False  \n",
              "2   0     2  False  \n",
              "3   0     2  False  \n",
              "4   0     2  False  "
            ],
            "text/html": [
              "\n",
              "  <div id=\"df-12a3a27b-0497-42e5-9139-29467ab74cb3\" class=\"colab-df-container\">\n",
              "    <div>\n",
              "<style scoped>\n",
              "    .dataframe tbody tr th:only-of-type {\n",
              "        vertical-align: middle;\n",
              "    }\n",
              "\n",
              "    .dataframe tbody tr th {\n",
              "        vertical-align: top;\n",
              "    }\n",
              "\n",
              "    .dataframe thead th {\n",
              "        text-align: right;\n",
              "    }\n",
              "</style>\n",
              "<table border=\"1\" class=\"dataframe\">\n",
              "  <thead>\n",
              "    <tr style=\"text-align: right;\">\n",
              "      <th></th>\n",
              "      <th>age</th>\n",
              "      <th>sex</th>\n",
              "      <th>cp</th>\n",
              "      <th>trestbps</th>\n",
              "      <th>chol</th>\n",
              "      <th>fbs</th>\n",
              "      <th>restecg</th>\n",
              "      <th>thalach</th>\n",
              "      <th>exang</th>\n",
              "      <th>oldpeak</th>\n",
              "      <th>slope</th>\n",
              "      <th>ca</th>\n",
              "      <th>thal</th>\n",
              "      <th>sick</th>\n",
              "    </tr>\n",
              "  </thead>\n",
              "  <tbody>\n",
              "    <tr>\n",
              "      <th>0</th>\n",
              "      <td>63</td>\n",
              "      <td>1</td>\n",
              "      <td>3</td>\n",
              "      <td>145</td>\n",
              "      <td>233</td>\n",
              "      <td>1</td>\n",
              "      <td>0</td>\n",
              "      <td>150</td>\n",
              "      <td>0</td>\n",
              "      <td>2.3</td>\n",
              "      <td>0</td>\n",
              "      <td>0</td>\n",
              "      <td>1</td>\n",
              "      <td>False</td>\n",
              "    </tr>\n",
              "    <tr>\n",
              "      <th>1</th>\n",
              "      <td>37</td>\n",
              "      <td>1</td>\n",
              "      <td>2</td>\n",
              "      <td>130</td>\n",
              "      <td>250</td>\n",
              "      <td>0</td>\n",
              "      <td>1</td>\n",
              "      <td>187</td>\n",
              "      <td>0</td>\n",
              "      <td>3.5</td>\n",
              "      <td>0</td>\n",
              "      <td>0</td>\n",
              "      <td>2</td>\n",
              "      <td>False</td>\n",
              "    </tr>\n",
              "    <tr>\n",
              "      <th>2</th>\n",
              "      <td>41</td>\n",
              "      <td>0</td>\n",
              "      <td>1</td>\n",
              "      <td>130</td>\n",
              "      <td>204</td>\n",
              "      <td>0</td>\n",
              "      <td>0</td>\n",
              "      <td>172</td>\n",
              "      <td>0</td>\n",
              "      <td>1.4</td>\n",
              "      <td>2</td>\n",
              "      <td>0</td>\n",
              "      <td>2</td>\n",
              "      <td>False</td>\n",
              "    </tr>\n",
              "    <tr>\n",
              "      <th>3</th>\n",
              "      <td>56</td>\n",
              "      <td>1</td>\n",
              "      <td>1</td>\n",
              "      <td>120</td>\n",
              "      <td>236</td>\n",
              "      <td>0</td>\n",
              "      <td>1</td>\n",
              "      <td>178</td>\n",
              "      <td>0</td>\n",
              "      <td>0.8</td>\n",
              "      <td>2</td>\n",
              "      <td>0</td>\n",
              "      <td>2</td>\n",
              "      <td>False</td>\n",
              "    </tr>\n",
              "    <tr>\n",
              "      <th>4</th>\n",
              "      <td>57</td>\n",
              "      <td>0</td>\n",
              "      <td>0</td>\n",
              "      <td>120</td>\n",
              "      <td>354</td>\n",
              "      <td>0</td>\n",
              "      <td>1</td>\n",
              "      <td>163</td>\n",
              "      <td>1</td>\n",
              "      <td>0.6</td>\n",
              "      <td>2</td>\n",
              "      <td>0</td>\n",
              "      <td>2</td>\n",
              "      <td>False</td>\n",
              "    </tr>\n",
              "  </tbody>\n",
              "</table>\n",
              "</div>\n",
              "    <div class=\"colab-df-buttons\">\n",
              "\n",
              "  <div class=\"colab-df-container\">\n",
              "    <button class=\"colab-df-convert\" onclick=\"convertToInteractive('df-12a3a27b-0497-42e5-9139-29467ab74cb3')\"\n",
              "            title=\"Convert this dataframe to an interactive table.\"\n",
              "            style=\"display:none;\">\n",
              "\n",
              "  <svg xmlns=\"http://www.w3.org/2000/svg\" height=\"24px\" viewBox=\"0 -960 960 960\">\n",
              "    <path d=\"M120-120v-720h720v720H120Zm60-500h600v-160H180v160Zm220 220h160v-160H400v160Zm0 220h160v-160H400v160ZM180-400h160v-160H180v160Zm440 0h160v-160H620v160ZM180-180h160v-160H180v160Zm440 0h160v-160H620v160Z\"/>\n",
              "  </svg>\n",
              "    </button>\n",
              "\n",
              "  <style>\n",
              "    .colab-df-container {\n",
              "      display:flex;\n",
              "      gap: 12px;\n",
              "    }\n",
              "\n",
              "    .colab-df-convert {\n",
              "      background-color: #E8F0FE;\n",
              "      border: none;\n",
              "      border-radius: 50%;\n",
              "      cursor: pointer;\n",
              "      display: none;\n",
              "      fill: #1967D2;\n",
              "      height: 32px;\n",
              "      padding: 0 0 0 0;\n",
              "      width: 32px;\n",
              "    }\n",
              "\n",
              "    .colab-df-convert:hover {\n",
              "      background-color: #E2EBFA;\n",
              "      box-shadow: 0px 1px 2px rgba(60, 64, 67, 0.3), 0px 1px 3px 1px rgba(60, 64, 67, 0.15);\n",
              "      fill: #174EA6;\n",
              "    }\n",
              "\n",
              "    .colab-df-buttons div {\n",
              "      margin-bottom: 4px;\n",
              "    }\n",
              "\n",
              "    [theme=dark] .colab-df-convert {\n",
              "      background-color: #3B4455;\n",
              "      fill: #D2E3FC;\n",
              "    }\n",
              "\n",
              "    [theme=dark] .colab-df-convert:hover {\n",
              "      background-color: #434B5C;\n",
              "      box-shadow: 0px 1px 3px 1px rgba(0, 0, 0, 0.15);\n",
              "      filter: drop-shadow(0px 1px 2px rgba(0, 0, 0, 0.3));\n",
              "      fill: #FFFFFF;\n",
              "    }\n",
              "  </style>\n",
              "\n",
              "    <script>\n",
              "      const buttonEl =\n",
              "        document.querySelector('#df-12a3a27b-0497-42e5-9139-29467ab74cb3 button.colab-df-convert');\n",
              "      buttonEl.style.display =\n",
              "        google.colab.kernel.accessAllowed ? 'block' : 'none';\n",
              "\n",
              "      async function convertToInteractive(key) {\n",
              "        const element = document.querySelector('#df-12a3a27b-0497-42e5-9139-29467ab74cb3');\n",
              "        const dataTable =\n",
              "          await google.colab.kernel.invokeFunction('convertToInteractive',\n",
              "                                                    [key], {});\n",
              "        if (!dataTable) return;\n",
              "\n",
              "        const docLinkHtml = 'Like what you see? Visit the ' +\n",
              "          '<a target=\"_blank\" href=https://colab.research.google.com/notebooks/data_table.ipynb>data table notebook</a>'\n",
              "          + ' to learn more about interactive tables.';\n",
              "        element.innerHTML = '';\n",
              "        dataTable['output_type'] = 'display_data';\n",
              "        await google.colab.output.renderOutput(dataTable, element);\n",
              "        const docLink = document.createElement('div');\n",
              "        docLink.innerHTML = docLinkHtml;\n",
              "        element.appendChild(docLink);\n",
              "      }\n",
              "    </script>\n",
              "  </div>\n",
              "\n",
              "\n",
              "<div id=\"df-47fb7751-0bdf-41b7-8cc5-6e6665772c15\">\n",
              "  <button class=\"colab-df-quickchart\" onclick=\"quickchart('df-47fb7751-0bdf-41b7-8cc5-6e6665772c15')\"\n",
              "            title=\"Suggest charts\"\n",
              "            style=\"display:none;\">\n",
              "\n",
              "<svg xmlns=\"http://www.w3.org/2000/svg\" height=\"24px\"viewBox=\"0 0 24 24\"\n",
              "     width=\"24px\">\n",
              "    <g>\n",
              "        <path d=\"M19 3H5c-1.1 0-2 .9-2 2v14c0 1.1.9 2 2 2h14c1.1 0 2-.9 2-2V5c0-1.1-.9-2-2-2zM9 17H7v-7h2v7zm4 0h-2V7h2v10zm4 0h-2v-4h2v4z\"/>\n",
              "    </g>\n",
              "</svg>\n",
              "  </button>\n",
              "\n",
              "<style>\n",
              "  .colab-df-quickchart {\n",
              "      --bg-color: #E8F0FE;\n",
              "      --fill-color: #1967D2;\n",
              "      --hover-bg-color: #E2EBFA;\n",
              "      --hover-fill-color: #174EA6;\n",
              "      --disabled-fill-color: #AAA;\n",
              "      --disabled-bg-color: #DDD;\n",
              "  }\n",
              "\n",
              "  [theme=dark] .colab-df-quickchart {\n",
              "      --bg-color: #3B4455;\n",
              "      --fill-color: #D2E3FC;\n",
              "      --hover-bg-color: #434B5C;\n",
              "      --hover-fill-color: #FFFFFF;\n",
              "      --disabled-bg-color: #3B4455;\n",
              "      --disabled-fill-color: #666;\n",
              "  }\n",
              "\n",
              "  .colab-df-quickchart {\n",
              "    background-color: var(--bg-color);\n",
              "    border: none;\n",
              "    border-radius: 50%;\n",
              "    cursor: pointer;\n",
              "    display: none;\n",
              "    fill: var(--fill-color);\n",
              "    height: 32px;\n",
              "    padding: 0;\n",
              "    width: 32px;\n",
              "  }\n",
              "\n",
              "  .colab-df-quickchart:hover {\n",
              "    background-color: var(--hover-bg-color);\n",
              "    box-shadow: 0 1px 2px rgba(60, 64, 67, 0.3), 0 1px 3px 1px rgba(60, 64, 67, 0.15);\n",
              "    fill: var(--button-hover-fill-color);\n",
              "  }\n",
              "\n",
              "  .colab-df-quickchart-complete:disabled,\n",
              "  .colab-df-quickchart-complete:disabled:hover {\n",
              "    background-color: var(--disabled-bg-color);\n",
              "    fill: var(--disabled-fill-color);\n",
              "    box-shadow: none;\n",
              "  }\n",
              "\n",
              "  .colab-df-spinner {\n",
              "    border: 2px solid var(--fill-color);\n",
              "    border-color: transparent;\n",
              "    border-bottom-color: var(--fill-color);\n",
              "    animation:\n",
              "      spin 1s steps(1) infinite;\n",
              "  }\n",
              "\n",
              "  @keyframes spin {\n",
              "    0% {\n",
              "      border-color: transparent;\n",
              "      border-bottom-color: var(--fill-color);\n",
              "      border-left-color: var(--fill-color);\n",
              "    }\n",
              "    20% {\n",
              "      border-color: transparent;\n",
              "      border-left-color: var(--fill-color);\n",
              "      border-top-color: var(--fill-color);\n",
              "    }\n",
              "    30% {\n",
              "      border-color: transparent;\n",
              "      border-left-color: var(--fill-color);\n",
              "      border-top-color: var(--fill-color);\n",
              "      border-right-color: var(--fill-color);\n",
              "    }\n",
              "    40% {\n",
              "      border-color: transparent;\n",
              "      border-right-color: var(--fill-color);\n",
              "      border-top-color: var(--fill-color);\n",
              "    }\n",
              "    60% {\n",
              "      border-color: transparent;\n",
              "      border-right-color: var(--fill-color);\n",
              "    }\n",
              "    80% {\n",
              "      border-color: transparent;\n",
              "      border-right-color: var(--fill-color);\n",
              "      border-bottom-color: var(--fill-color);\n",
              "    }\n",
              "    90% {\n",
              "      border-color: transparent;\n",
              "      border-bottom-color: var(--fill-color);\n",
              "    }\n",
              "  }\n",
              "</style>\n",
              "\n",
              "  <script>\n",
              "    async function quickchart(key) {\n",
              "      const quickchartButtonEl =\n",
              "        document.querySelector('#' + key + ' button');\n",
              "      quickchartButtonEl.disabled = true;  // To prevent multiple clicks.\n",
              "      quickchartButtonEl.classList.add('colab-df-spinner');\n",
              "      try {\n",
              "        const charts = await google.colab.kernel.invokeFunction(\n",
              "            'suggestCharts', [key], {});\n",
              "      } catch (error) {\n",
              "        console.error('Error during call to suggestCharts:', error);\n",
              "      }\n",
              "      quickchartButtonEl.classList.remove('colab-df-spinner');\n",
              "      quickchartButtonEl.classList.add('colab-df-quickchart-complete');\n",
              "    }\n",
              "    (() => {\n",
              "      let quickchartButtonEl =\n",
              "        document.querySelector('#df-47fb7751-0bdf-41b7-8cc5-6e6665772c15 button');\n",
              "      quickchartButtonEl.style.display =\n",
              "        google.colab.kernel.accessAllowed ? 'block' : 'none';\n",
              "    })();\n",
              "  </script>\n",
              "</div>\n",
              "\n",
              "    </div>\n",
              "  </div>\n"
            ],
            "application/vnd.google.colaboratory.intrinsic+json": {
              "type": "dataframe",
              "variable_name": "data",
              "summary": "{\n  \"name\": \"data\",\n  \"rows\": 303,\n  \"fields\": [\n    {\n      \"column\": \"age\",\n      \"properties\": {\n        \"dtype\": \"number\",\n        \"std\": 9,\n        \"min\": 29,\n        \"max\": 77,\n        \"num_unique_values\": 41,\n        \"samples\": [\n          46,\n          66,\n          48\n        ],\n        \"semantic_type\": \"\",\n        \"description\": \"\"\n      }\n    },\n    {\n      \"column\": \"sex\",\n      \"properties\": {\n        \"dtype\": \"number\",\n        \"std\": 0,\n        \"min\": 0,\n        \"max\": 1,\n        \"num_unique_values\": 2,\n        \"samples\": [\n          0,\n          1\n        ],\n        \"semantic_type\": \"\",\n        \"description\": \"\"\n      }\n    },\n    {\n      \"column\": \"cp\",\n      \"properties\": {\n        \"dtype\": \"number\",\n        \"std\": 1,\n        \"min\": 0,\n        \"max\": 3,\n        \"num_unique_values\": 4,\n        \"samples\": [\n          2,\n          0\n        ],\n        \"semantic_type\": \"\",\n        \"description\": \"\"\n      }\n    },\n    {\n      \"column\": \"trestbps\",\n      \"properties\": {\n        \"dtype\": \"number\",\n        \"std\": 17,\n        \"min\": 94,\n        \"max\": 200,\n        \"num_unique_values\": 49,\n        \"samples\": [\n          104,\n          123\n        ],\n        \"semantic_type\": \"\",\n        \"description\": \"\"\n      }\n    },\n    {\n      \"column\": \"chol\",\n      \"properties\": {\n        \"dtype\": \"number\",\n        \"std\": 51,\n        \"min\": 126,\n        \"max\": 564,\n        \"num_unique_values\": 152,\n        \"samples\": [\n          277,\n          169\n        ],\n        \"semantic_type\": \"\",\n        \"description\": \"\"\n      }\n    },\n    {\n      \"column\": \"fbs\",\n      \"properties\": {\n        \"dtype\": \"number\",\n        \"std\": 0,\n        \"min\": 0,\n        \"max\": 1,\n        \"num_unique_values\": 2,\n        \"samples\": [\n          0,\n          1\n        ],\n        \"semantic_type\": \"\",\n        \"description\": \"\"\n      }\n    },\n    {\n      \"column\": \"restecg\",\n      \"properties\": {\n        \"dtype\": \"number\",\n        \"std\": 0,\n        \"min\": 0,\n        \"max\": 2,\n        \"num_unique_values\": 3,\n        \"samples\": [\n          0,\n          1\n        ],\n        \"semantic_type\": \"\",\n        \"description\": \"\"\n      }\n    },\n    {\n      \"column\": \"thalach\",\n      \"properties\": {\n        \"dtype\": \"number\",\n        \"std\": 22,\n        \"min\": 71,\n        \"max\": 202,\n        \"num_unique_values\": 91,\n        \"samples\": [\n          159,\n          152\n        ],\n        \"semantic_type\": \"\",\n        \"description\": \"\"\n      }\n    },\n    {\n      \"column\": \"exang\",\n      \"properties\": {\n        \"dtype\": \"number\",\n        \"std\": 0,\n        \"min\": 0,\n        \"max\": 1,\n        \"num_unique_values\": 2,\n        \"samples\": [\n          1,\n          0\n        ],\n        \"semantic_type\": \"\",\n        \"description\": \"\"\n      }\n    },\n    {\n      \"column\": \"oldpeak\",\n      \"properties\": {\n        \"dtype\": \"number\",\n        \"std\": 1.1610750220686348,\n        \"min\": 0.0,\n        \"max\": 6.2,\n        \"num_unique_values\": 40,\n        \"samples\": [\n          1.9,\n          3.0\n        ],\n        \"semantic_type\": \"\",\n        \"description\": \"\"\n      }\n    },\n    {\n      \"column\": \"slope\",\n      \"properties\": {\n        \"dtype\": \"number\",\n        \"std\": 0,\n        \"min\": 0,\n        \"max\": 2,\n        \"num_unique_values\": 3,\n        \"samples\": [\n          0,\n          2\n        ],\n        \"semantic_type\": \"\",\n        \"description\": \"\"\n      }\n    },\n    {\n      \"column\": \"ca\",\n      \"properties\": {\n        \"dtype\": \"number\",\n        \"std\": 1,\n        \"min\": 0,\n        \"max\": 4,\n        \"num_unique_values\": 5,\n        \"samples\": [\n          2,\n          4\n        ],\n        \"semantic_type\": \"\",\n        \"description\": \"\"\n      }\n    },\n    {\n      \"column\": \"thal\",\n      \"properties\": {\n        \"dtype\": \"number\",\n        \"std\": 0,\n        \"min\": 0,\n        \"max\": 3,\n        \"num_unique_values\": 4,\n        \"samples\": [\n          2,\n          0\n        ],\n        \"semantic_type\": \"\",\n        \"description\": \"\"\n      }\n    },\n    {\n      \"column\": \"sick\",\n      \"properties\": {\n        \"dtype\": \"boolean\",\n        \"num_unique_values\": 2,\n        \"samples\": [\n          true,\n          false\n        ],\n        \"semantic_type\": \"\",\n        \"description\": \"\"\n      }\n    }\n  ]\n}"
            }
          },
          "metadata": {},
          "execution_count": 94
        }
      ],
      "source": [
        "'''Your code goes below here'''\n",
        "# Hint: use the head() method\n",
        "\n",
        "data.head()"
      ]
    },
    {
      "cell_type": "code",
      "execution_count": 95,
      "metadata": {
        "id": "KhmoqRF-XNHx",
        "colab": {
          "base_uri": "https://localhost:8080/",
          "height": 300
        },
        "outputId": "7187c2e0-ae46-4609-f4cb-e0ec04d2a7ee"
      },
      "outputs": [
        {
          "output_type": "execute_result",
          "data": {
            "text/plain": [
              "              age         sex          cp    trestbps        chol         fbs  \\\n",
              "count  303.000000  303.000000  303.000000  303.000000  303.000000  303.000000   \n",
              "mean    54.366337    0.683168    0.966997  131.623762  246.264026    0.148515   \n",
              "std      9.082101    0.466011    1.032052   17.538143   51.830751    0.356198   \n",
              "min     29.000000    0.000000    0.000000   94.000000  126.000000    0.000000   \n",
              "25%     47.500000    0.000000    0.000000  120.000000  211.000000    0.000000   \n",
              "50%     55.000000    1.000000    1.000000  130.000000  240.000000    0.000000   \n",
              "75%     61.000000    1.000000    2.000000  140.000000  274.500000    0.000000   \n",
              "max     77.000000    1.000000    3.000000  200.000000  564.000000    1.000000   \n",
              "\n",
              "          restecg     thalach       exang     oldpeak       slope          ca  \\\n",
              "count  303.000000  303.000000  303.000000  303.000000  303.000000  303.000000   \n",
              "mean     0.528053  149.646865    0.326733    1.039604    1.399340    0.729373   \n",
              "std      0.525860   22.905161    0.469794    1.161075    0.616226    1.022606   \n",
              "min      0.000000   71.000000    0.000000    0.000000    0.000000    0.000000   \n",
              "25%      0.000000  133.500000    0.000000    0.000000    1.000000    0.000000   \n",
              "50%      1.000000  153.000000    0.000000    0.800000    1.000000    0.000000   \n",
              "75%      1.000000  166.000000    1.000000    1.600000    2.000000    1.000000   \n",
              "max      2.000000  202.000000    1.000000    6.200000    2.000000    4.000000   \n",
              "\n",
              "             thal  \n",
              "count  303.000000  \n",
              "mean     2.313531  \n",
              "std      0.612277  \n",
              "min      0.000000  \n",
              "25%      2.000000  \n",
              "50%      2.000000  \n",
              "75%      3.000000  \n",
              "max      3.000000  "
            ],
            "text/html": [
              "\n",
              "  <div id=\"df-de020429-d305-4c00-b863-8e2e2490eeed\" class=\"colab-df-container\">\n",
              "    <div>\n",
              "<style scoped>\n",
              "    .dataframe tbody tr th:only-of-type {\n",
              "        vertical-align: middle;\n",
              "    }\n",
              "\n",
              "    .dataframe tbody tr th {\n",
              "        vertical-align: top;\n",
              "    }\n",
              "\n",
              "    .dataframe thead th {\n",
              "        text-align: right;\n",
              "    }\n",
              "</style>\n",
              "<table border=\"1\" class=\"dataframe\">\n",
              "  <thead>\n",
              "    <tr style=\"text-align: right;\">\n",
              "      <th></th>\n",
              "      <th>age</th>\n",
              "      <th>sex</th>\n",
              "      <th>cp</th>\n",
              "      <th>trestbps</th>\n",
              "      <th>chol</th>\n",
              "      <th>fbs</th>\n",
              "      <th>restecg</th>\n",
              "      <th>thalach</th>\n",
              "      <th>exang</th>\n",
              "      <th>oldpeak</th>\n",
              "      <th>slope</th>\n",
              "      <th>ca</th>\n",
              "      <th>thal</th>\n",
              "    </tr>\n",
              "  </thead>\n",
              "  <tbody>\n",
              "    <tr>\n",
              "      <th>count</th>\n",
              "      <td>303.000000</td>\n",
              "      <td>303.000000</td>\n",
              "      <td>303.000000</td>\n",
              "      <td>303.000000</td>\n",
              "      <td>303.000000</td>\n",
              "      <td>303.000000</td>\n",
              "      <td>303.000000</td>\n",
              "      <td>303.000000</td>\n",
              "      <td>303.000000</td>\n",
              "      <td>303.000000</td>\n",
              "      <td>303.000000</td>\n",
              "      <td>303.000000</td>\n",
              "      <td>303.000000</td>\n",
              "    </tr>\n",
              "    <tr>\n",
              "      <th>mean</th>\n",
              "      <td>54.366337</td>\n",
              "      <td>0.683168</td>\n",
              "      <td>0.966997</td>\n",
              "      <td>131.623762</td>\n",
              "      <td>246.264026</td>\n",
              "      <td>0.148515</td>\n",
              "      <td>0.528053</td>\n",
              "      <td>149.646865</td>\n",
              "      <td>0.326733</td>\n",
              "      <td>1.039604</td>\n",
              "      <td>1.399340</td>\n",
              "      <td>0.729373</td>\n",
              "      <td>2.313531</td>\n",
              "    </tr>\n",
              "    <tr>\n",
              "      <th>std</th>\n",
              "      <td>9.082101</td>\n",
              "      <td>0.466011</td>\n",
              "      <td>1.032052</td>\n",
              "      <td>17.538143</td>\n",
              "      <td>51.830751</td>\n",
              "      <td>0.356198</td>\n",
              "      <td>0.525860</td>\n",
              "      <td>22.905161</td>\n",
              "      <td>0.469794</td>\n",
              "      <td>1.161075</td>\n",
              "      <td>0.616226</td>\n",
              "      <td>1.022606</td>\n",
              "      <td>0.612277</td>\n",
              "    </tr>\n",
              "    <tr>\n",
              "      <th>min</th>\n",
              "      <td>29.000000</td>\n",
              "      <td>0.000000</td>\n",
              "      <td>0.000000</td>\n",
              "      <td>94.000000</td>\n",
              "      <td>126.000000</td>\n",
              "      <td>0.000000</td>\n",
              "      <td>0.000000</td>\n",
              "      <td>71.000000</td>\n",
              "      <td>0.000000</td>\n",
              "      <td>0.000000</td>\n",
              "      <td>0.000000</td>\n",
              "      <td>0.000000</td>\n",
              "      <td>0.000000</td>\n",
              "    </tr>\n",
              "    <tr>\n",
              "      <th>25%</th>\n",
              "      <td>47.500000</td>\n",
              "      <td>0.000000</td>\n",
              "      <td>0.000000</td>\n",
              "      <td>120.000000</td>\n",
              "      <td>211.000000</td>\n",
              "      <td>0.000000</td>\n",
              "      <td>0.000000</td>\n",
              "      <td>133.500000</td>\n",
              "      <td>0.000000</td>\n",
              "      <td>0.000000</td>\n",
              "      <td>1.000000</td>\n",
              "      <td>0.000000</td>\n",
              "      <td>2.000000</td>\n",
              "    </tr>\n",
              "    <tr>\n",
              "      <th>50%</th>\n",
              "      <td>55.000000</td>\n",
              "      <td>1.000000</td>\n",
              "      <td>1.000000</td>\n",
              "      <td>130.000000</td>\n",
              "      <td>240.000000</td>\n",
              "      <td>0.000000</td>\n",
              "      <td>1.000000</td>\n",
              "      <td>153.000000</td>\n",
              "      <td>0.000000</td>\n",
              "      <td>0.800000</td>\n",
              "      <td>1.000000</td>\n",
              "      <td>0.000000</td>\n",
              "      <td>2.000000</td>\n",
              "    </tr>\n",
              "    <tr>\n",
              "      <th>75%</th>\n",
              "      <td>61.000000</td>\n",
              "      <td>1.000000</td>\n",
              "      <td>2.000000</td>\n",
              "      <td>140.000000</td>\n",
              "      <td>274.500000</td>\n",
              "      <td>0.000000</td>\n",
              "      <td>1.000000</td>\n",
              "      <td>166.000000</td>\n",
              "      <td>1.000000</td>\n",
              "      <td>1.600000</td>\n",
              "      <td>2.000000</td>\n",
              "      <td>1.000000</td>\n",
              "      <td>3.000000</td>\n",
              "    </tr>\n",
              "    <tr>\n",
              "      <th>max</th>\n",
              "      <td>77.000000</td>\n",
              "      <td>1.000000</td>\n",
              "      <td>3.000000</td>\n",
              "      <td>200.000000</td>\n",
              "      <td>564.000000</td>\n",
              "      <td>1.000000</td>\n",
              "      <td>2.000000</td>\n",
              "      <td>202.000000</td>\n",
              "      <td>1.000000</td>\n",
              "      <td>6.200000</td>\n",
              "      <td>2.000000</td>\n",
              "      <td>4.000000</td>\n",
              "      <td>3.000000</td>\n",
              "    </tr>\n",
              "  </tbody>\n",
              "</table>\n",
              "</div>\n",
              "    <div class=\"colab-df-buttons\">\n",
              "\n",
              "  <div class=\"colab-df-container\">\n",
              "    <button class=\"colab-df-convert\" onclick=\"convertToInteractive('df-de020429-d305-4c00-b863-8e2e2490eeed')\"\n",
              "            title=\"Convert this dataframe to an interactive table.\"\n",
              "            style=\"display:none;\">\n",
              "\n",
              "  <svg xmlns=\"http://www.w3.org/2000/svg\" height=\"24px\" viewBox=\"0 -960 960 960\">\n",
              "    <path d=\"M120-120v-720h720v720H120Zm60-500h600v-160H180v160Zm220 220h160v-160H400v160Zm0 220h160v-160H400v160ZM180-400h160v-160H180v160Zm440 0h160v-160H620v160ZM180-180h160v-160H180v160Zm440 0h160v-160H620v160Z\"/>\n",
              "  </svg>\n",
              "    </button>\n",
              "\n",
              "  <style>\n",
              "    .colab-df-container {\n",
              "      display:flex;\n",
              "      gap: 12px;\n",
              "    }\n",
              "\n",
              "    .colab-df-convert {\n",
              "      background-color: #E8F0FE;\n",
              "      border: none;\n",
              "      border-radius: 50%;\n",
              "      cursor: pointer;\n",
              "      display: none;\n",
              "      fill: #1967D2;\n",
              "      height: 32px;\n",
              "      padding: 0 0 0 0;\n",
              "      width: 32px;\n",
              "    }\n",
              "\n",
              "    .colab-df-convert:hover {\n",
              "      background-color: #E2EBFA;\n",
              "      box-shadow: 0px 1px 2px rgba(60, 64, 67, 0.3), 0px 1px 3px 1px rgba(60, 64, 67, 0.15);\n",
              "      fill: #174EA6;\n",
              "    }\n",
              "\n",
              "    .colab-df-buttons div {\n",
              "      margin-bottom: 4px;\n",
              "    }\n",
              "\n",
              "    [theme=dark] .colab-df-convert {\n",
              "      background-color: #3B4455;\n",
              "      fill: #D2E3FC;\n",
              "    }\n",
              "\n",
              "    [theme=dark] .colab-df-convert:hover {\n",
              "      background-color: #434B5C;\n",
              "      box-shadow: 0px 1px 3px 1px rgba(0, 0, 0, 0.15);\n",
              "      filter: drop-shadow(0px 1px 2px rgba(0, 0, 0, 0.3));\n",
              "      fill: #FFFFFF;\n",
              "    }\n",
              "  </style>\n",
              "\n",
              "    <script>\n",
              "      const buttonEl =\n",
              "        document.querySelector('#df-de020429-d305-4c00-b863-8e2e2490eeed button.colab-df-convert');\n",
              "      buttonEl.style.display =\n",
              "        google.colab.kernel.accessAllowed ? 'block' : 'none';\n",
              "\n",
              "      async function convertToInteractive(key) {\n",
              "        const element = document.querySelector('#df-de020429-d305-4c00-b863-8e2e2490eeed');\n",
              "        const dataTable =\n",
              "          await google.colab.kernel.invokeFunction('convertToInteractive',\n",
              "                                                    [key], {});\n",
              "        if (!dataTable) return;\n",
              "\n",
              "        const docLinkHtml = 'Like what you see? Visit the ' +\n",
              "          '<a target=\"_blank\" href=https://colab.research.google.com/notebooks/data_table.ipynb>data table notebook</a>'\n",
              "          + ' to learn more about interactive tables.';\n",
              "        element.innerHTML = '';\n",
              "        dataTable['output_type'] = 'display_data';\n",
              "        await google.colab.output.renderOutput(dataTable, element);\n",
              "        const docLink = document.createElement('div');\n",
              "        docLink.innerHTML = docLinkHtml;\n",
              "        element.appendChild(docLink);\n",
              "      }\n",
              "    </script>\n",
              "  </div>\n",
              "\n",
              "\n",
              "<div id=\"df-217ffe3b-1d22-47d6-af50-a4406682af8d\">\n",
              "  <button class=\"colab-df-quickchart\" onclick=\"quickchart('df-217ffe3b-1d22-47d6-af50-a4406682af8d')\"\n",
              "            title=\"Suggest charts\"\n",
              "            style=\"display:none;\">\n",
              "\n",
              "<svg xmlns=\"http://www.w3.org/2000/svg\" height=\"24px\"viewBox=\"0 0 24 24\"\n",
              "     width=\"24px\">\n",
              "    <g>\n",
              "        <path d=\"M19 3H5c-1.1 0-2 .9-2 2v14c0 1.1.9 2 2 2h14c1.1 0 2-.9 2-2V5c0-1.1-.9-2-2-2zM9 17H7v-7h2v7zm4 0h-2V7h2v10zm4 0h-2v-4h2v4z\"/>\n",
              "    </g>\n",
              "</svg>\n",
              "  </button>\n",
              "\n",
              "<style>\n",
              "  .colab-df-quickchart {\n",
              "      --bg-color: #E8F0FE;\n",
              "      --fill-color: #1967D2;\n",
              "      --hover-bg-color: #E2EBFA;\n",
              "      --hover-fill-color: #174EA6;\n",
              "      --disabled-fill-color: #AAA;\n",
              "      --disabled-bg-color: #DDD;\n",
              "  }\n",
              "\n",
              "  [theme=dark] .colab-df-quickchart {\n",
              "      --bg-color: #3B4455;\n",
              "      --fill-color: #D2E3FC;\n",
              "      --hover-bg-color: #434B5C;\n",
              "      --hover-fill-color: #FFFFFF;\n",
              "      --disabled-bg-color: #3B4455;\n",
              "      --disabled-fill-color: #666;\n",
              "  }\n",
              "\n",
              "  .colab-df-quickchart {\n",
              "    background-color: var(--bg-color);\n",
              "    border: none;\n",
              "    border-radius: 50%;\n",
              "    cursor: pointer;\n",
              "    display: none;\n",
              "    fill: var(--fill-color);\n",
              "    height: 32px;\n",
              "    padding: 0;\n",
              "    width: 32px;\n",
              "  }\n",
              "\n",
              "  .colab-df-quickchart:hover {\n",
              "    background-color: var(--hover-bg-color);\n",
              "    box-shadow: 0 1px 2px rgba(60, 64, 67, 0.3), 0 1px 3px 1px rgba(60, 64, 67, 0.15);\n",
              "    fill: var(--button-hover-fill-color);\n",
              "  }\n",
              "\n",
              "  .colab-df-quickchart-complete:disabled,\n",
              "  .colab-df-quickchart-complete:disabled:hover {\n",
              "    background-color: var(--disabled-bg-color);\n",
              "    fill: var(--disabled-fill-color);\n",
              "    box-shadow: none;\n",
              "  }\n",
              "\n",
              "  .colab-df-spinner {\n",
              "    border: 2px solid var(--fill-color);\n",
              "    border-color: transparent;\n",
              "    border-bottom-color: var(--fill-color);\n",
              "    animation:\n",
              "      spin 1s steps(1) infinite;\n",
              "  }\n",
              "\n",
              "  @keyframes spin {\n",
              "    0% {\n",
              "      border-color: transparent;\n",
              "      border-bottom-color: var(--fill-color);\n",
              "      border-left-color: var(--fill-color);\n",
              "    }\n",
              "    20% {\n",
              "      border-color: transparent;\n",
              "      border-left-color: var(--fill-color);\n",
              "      border-top-color: var(--fill-color);\n",
              "    }\n",
              "    30% {\n",
              "      border-color: transparent;\n",
              "      border-left-color: var(--fill-color);\n",
              "      border-top-color: var(--fill-color);\n",
              "      border-right-color: var(--fill-color);\n",
              "    }\n",
              "    40% {\n",
              "      border-color: transparent;\n",
              "      border-right-color: var(--fill-color);\n",
              "      border-top-color: var(--fill-color);\n",
              "    }\n",
              "    60% {\n",
              "      border-color: transparent;\n",
              "      border-right-color: var(--fill-color);\n",
              "    }\n",
              "    80% {\n",
              "      border-color: transparent;\n",
              "      border-right-color: var(--fill-color);\n",
              "      border-bottom-color: var(--fill-color);\n",
              "    }\n",
              "    90% {\n",
              "      border-color: transparent;\n",
              "      border-bottom-color: var(--fill-color);\n",
              "    }\n",
              "  }\n",
              "</style>\n",
              "\n",
              "  <script>\n",
              "    async function quickchart(key) {\n",
              "      const quickchartButtonEl =\n",
              "        document.querySelector('#' + key + ' button');\n",
              "      quickchartButtonEl.disabled = true;  // To prevent multiple clicks.\n",
              "      quickchartButtonEl.classList.add('colab-df-spinner');\n",
              "      try {\n",
              "        const charts = await google.colab.kernel.invokeFunction(\n",
              "            'suggestCharts', [key], {});\n",
              "      } catch (error) {\n",
              "        console.error('Error during call to suggestCharts:', error);\n",
              "      }\n",
              "      quickchartButtonEl.classList.remove('colab-df-spinner');\n",
              "      quickchartButtonEl.classList.add('colab-df-quickchart-complete');\n",
              "    }\n",
              "    (() => {\n",
              "      let quickchartButtonEl =\n",
              "        document.querySelector('#df-217ffe3b-1d22-47d6-af50-a4406682af8d button');\n",
              "      quickchartButtonEl.style.display =\n",
              "        google.colab.kernel.accessAllowed ? 'block' : 'none';\n",
              "    })();\n",
              "  </script>\n",
              "</div>\n",
              "\n",
              "    </div>\n",
              "  </div>\n"
            ],
            "application/vnd.google.colaboratory.intrinsic+json": {
              "type": "dataframe",
              "summary": "{\n  \"name\": \"data\",\n  \"rows\": 8,\n  \"fields\": [\n    {\n      \"column\": \"age\",\n      \"properties\": {\n        \"dtype\": \"number\",\n        \"std\": 92.63263171018461,\n        \"min\": 9.082100989837857,\n        \"max\": 303.0,\n        \"num_unique_values\": 8,\n        \"samples\": [\n          54.366336633663366,\n          55.0,\n          303.0\n        ],\n        \"semantic_type\": \"\",\n        \"description\": \"\"\n      }\n    },\n    {\n      \"column\": \"sex\",\n      \"properties\": {\n        \"dtype\": \"number\",\n        \"std\": 106.91793021099774,\n        \"min\": 0.0,\n        \"max\": 303.0,\n        \"num_unique_values\": 5,\n        \"samples\": [\n          0.6831683168316832,\n          1.0,\n          0.46601082333962385\n        ],\n        \"semantic_type\": \"\",\n        \"description\": \"\"\n      }\n    },\n    {\n      \"column\": \"cp\",\n      \"properties\": {\n        \"dtype\": \"number\",\n        \"std\": 106.72725528212327,\n        \"min\": 0.0,\n        \"max\": 303.0,\n        \"num_unique_values\": 7,\n        \"samples\": [\n          303.0,\n          0.966996699669967,\n          2.0\n        ],\n        \"semantic_type\": \"\",\n        \"description\": \"\"\n      }\n    },\n    {\n      \"column\": \"trestbps\",\n      \"properties\": {\n        \"dtype\": \"number\",\n        \"std\": 82.65195263865039,\n        \"min\": 17.5381428135171,\n        \"max\": 303.0,\n        \"num_unique_values\": 8,\n        \"samples\": [\n          131.62376237623764,\n          130.0,\n          303.0\n        ],\n        \"semantic_type\": \"\",\n        \"description\": \"\"\n      }\n    },\n    {\n      \"column\": \"chol\",\n      \"properties\": {\n        \"dtype\": \"number\",\n        \"std\": 150.35806568851743,\n        \"min\": 51.83075098793003,\n        \"max\": 564.0,\n        \"num_unique_values\": 8,\n        \"samples\": [\n          246.26402640264027,\n          240.0,\n          303.0\n        ],\n        \"semantic_type\": \"\",\n        \"description\": \"\"\n      }\n    },\n    {\n      \"column\": \"fbs\",\n      \"properties\": {\n        \"dtype\": \"number\",\n        \"std\": 107.0512286741478,\n        \"min\": 0.0,\n        \"max\": 303.0,\n        \"num_unique_values\": 5,\n        \"samples\": [\n          0.1485148514851485,\n          1.0,\n          0.35619787492797644\n        ],\n        \"semantic_type\": \"\",\n        \"description\": \"\"\n      }\n    },\n    {\n      \"column\": \"restecg\",\n      \"properties\": {\n        \"dtype\": \"number\",\n        \"std\": 106.8733588009897,\n        \"min\": 0.0,\n        \"max\": 303.0,\n        \"num_unique_values\": 6,\n        \"samples\": [\n          303.0,\n          0.528052805280528,\n          2.0\n        ],\n        \"semantic_type\": \"\",\n        \"description\": \"\"\n      }\n    },\n    {\n      \"column\": \"thalach\",\n      \"properties\": {\n        \"dtype\": \"number\",\n        \"std\": 83.70384393886218,\n        \"min\": 22.905161114914094,\n        \"max\": 303.0,\n        \"num_unique_values\": 8,\n        \"samples\": [\n          149.64686468646866,\n          153.0,\n          303.0\n        ],\n        \"semantic_type\": \"\",\n        \"description\": \"\"\n      }\n    },\n    {\n      \"column\": \"exang\",\n      \"properties\": {\n        \"dtype\": \"number\",\n        \"std\": 106.9862394088184,\n        \"min\": 0.0,\n        \"max\": 303.0,\n        \"num_unique_values\": 5,\n        \"samples\": [\n          0.32673267326732675,\n          1.0,\n          0.4697944645223165\n        ],\n        \"semantic_type\": \"\",\n        \"description\": \"\"\n      }\n    },\n    {\n      \"column\": \"oldpeak\",\n      \"properties\": {\n        \"dtype\": \"number\",\n        \"std\": 106.59952466080658,\n        \"min\": 0.0,\n        \"max\": 303.0,\n        \"num_unique_values\": 7,\n        \"samples\": [\n          303.0,\n          1.0396039603960396,\n          1.6\n        ],\n        \"semantic_type\": \"\",\n        \"description\": \"\"\n      }\n    },\n    {\n      \"column\": \"slope\",\n      \"properties\": {\n        \"dtype\": \"number\",\n        \"std\": 106.72394469173834,\n        \"min\": 0.0,\n        \"max\": 303.0,\n        \"num_unique_values\": 6,\n        \"samples\": [\n          303.0,\n          1.3993399339933994,\n          2.0\n        ],\n        \"semantic_type\": \"\",\n        \"description\": \"\"\n      }\n    },\n    {\n      \"column\": \"ca\",\n      \"properties\": {\n        \"dtype\": \"number\",\n        \"std\": 106.79372080487734,\n        \"min\": 0.0,\n        \"max\": 303.0,\n        \"num_unique_values\": 6,\n        \"samples\": [\n          303.0,\n          0.7293729372937293,\n          4.0\n        ],\n        \"semantic_type\": \"\",\n        \"description\": \"\"\n      }\n    },\n    {\n      \"column\": \"thal\",\n      \"properties\": {\n        \"dtype\": \"number\",\n        \"std\": 106.47909774814387,\n        \"min\": 0.0,\n        \"max\": 303.0,\n        \"num_unique_values\": 6,\n        \"samples\": [\n          303.0,\n          2.3135313531353137,\n          3.0\n        ],\n        \"semantic_type\": \"\",\n        \"description\": \"\"\n      }\n    }\n  ]\n}"
            }
          },
          "metadata": {},
          "execution_count": 95
        }
      ],
      "source": [
        "'''Your code goes below here'''\n",
        "# Hint: use the describe() method\n",
        "\n",
        "data.describe()"
      ]
    },
    {
      "cell_type": "markdown",
      "metadata": {
        "id": "PyWv4-1MXNHx"
      },
      "source": [
        "### 1.3. Sometimes data will be stored in different formats (e.g., string, date, boolean), but many learning methods work strictly on numeric inputs. Call the info method to determine the datafield type for each column. Are there any that are problemmatic and why?"
      ]
    },
    {
      "cell_type": "code",
      "execution_count": 96,
      "metadata": {
        "id": "Iq-5BOGwXNHy",
        "colab": {
          "base_uri": "https://localhost:8080/"
        },
        "outputId": "af83eeaf-c25a-4092-9591-b89d99d4b5ea"
      },
      "outputs": [
        {
          "output_type": "stream",
          "name": "stdout",
          "text": [
            "<class 'pandas.core.frame.DataFrame'>\n",
            "RangeIndex: 303 entries, 0 to 302\n",
            "Data columns (total 14 columns):\n",
            " #   Column    Non-Null Count  Dtype  \n",
            "---  ------    --------------  -----  \n",
            " 0   age       303 non-null    int64  \n",
            " 1   sex       303 non-null    int64  \n",
            " 2   cp        303 non-null    int64  \n",
            " 3   trestbps  303 non-null    int64  \n",
            " 4   chol      303 non-null    int64  \n",
            " 5   fbs       303 non-null    int64  \n",
            " 6   restecg   303 non-null    int64  \n",
            " 7   thalach   303 non-null    int64  \n",
            " 8   exang     303 non-null    int64  \n",
            " 9   oldpeak   303 non-null    float64\n",
            " 10  slope     303 non-null    int64  \n",
            " 11  ca        303 non-null    int64  \n",
            " 12  thal      303 non-null    int64  \n",
            " 13  sick      303 non-null    bool   \n",
            "dtypes: bool(1), float64(1), int64(12)\n",
            "memory usage: 31.2 KB\n"
          ]
        }
      ],
      "source": [
        "'''Your code goes below here'''\n",
        "\n",
        "data.info()"
      ]
    },
    {
      "cell_type": "markdown",
      "metadata": {
        "id": "cX4ZzNgBXNHy"
      },
      "source": [
        "**Your answer:** need to change bools into ints for SICK but its our target so thats not a problem (Hint: we can handle numeric variables, such as int and float, but we cannot directly handle bool)"
      ]
    },
    {
      "cell_type": "markdown",
      "metadata": {
        "id": "PFrIlNZiXNHy"
      },
      "source": [
        "### 1.4. Determine whether we're dealing with any null value (NaN). If so, report on which columns?"
      ]
    },
    {
      "cell_type": "code",
      "execution_count": 97,
      "metadata": {
        "id": "JDWVKylnXNHy",
        "colab": {
          "base_uri": "https://localhost:8080/"
        },
        "outputId": "01f5d12e-a8b9-44c8-ed7c-5b981f61d308"
      },
      "outputs": [
        {
          "output_type": "execute_result",
          "data": {
            "text/plain": [
              "age         0\n",
              "sex         0\n",
              "cp          0\n",
              "trestbps    0\n",
              "chol        0\n",
              "fbs         0\n",
              "restecg     0\n",
              "thalach     0\n",
              "exang       0\n",
              "oldpeak     0\n",
              "slope       0\n",
              "ca          0\n",
              "thal        0\n",
              "sick        0\n",
              "dtype: int64"
            ]
          },
          "metadata": {},
          "execution_count": 97
        }
      ],
      "source": [
        "'''Your code goes below here'''\n",
        "# Hint: isnull() (from HW1)\n",
        "\n",
        "data.isnull().sum()"
      ]
    },
    {
      "cell_type": "markdown",
      "metadata": {
        "id": "-B1auWy4XNHz"
      },
      "source": [
        "**Your answer:** None of the columns contain null values"
      ]
    },
    {
      "cell_type": "markdown",
      "metadata": {
        "id": "YuaEfczwXNHz"
      },
      "source": [
        "### 1.5. Before we begin our analysis we need to fix the field(s) that will be problematic. We replace our boolean 'sick' variable into a numeric variable, named as 'target'."
      ]
    },
    {
      "cell_type": "code",
      "execution_count": 98,
      "metadata": {
        "id": "l7M85tmEXNH0"
      },
      "outputs": [],
      "source": [
        "data['target'] = (data['sick']).astype(int)\n",
        "del data['sick']"
      ]
    },
    {
      "cell_type": "markdown",
      "metadata": {
        "id": "fsHt0eh5XNH1"
      },
      "source": [
        "### 1.6. We also want to make sure we are dealing with a balanced dataset. In this case, we want to confirm whether or not we have an equitable number of  sick and healthy individuals to ensure that our classifier will have a sufficiently balanced dataset to adequately classify the two. Let's count the number of sick and healthy individuals and report your results. Then answer whether it is balanced or not."
      ]
    },
    {
      "cell_type": "code",
      "execution_count": 99,
      "metadata": {
        "id": "3ZGEJO7NXNH1",
        "colab": {
          "base_uri": "https://localhost:8080/"
        },
        "outputId": "56de6ee7-98d2-4d18-c2a4-208e76c367c4"
      },
      "outputs": [
        {
          "output_type": "execute_result",
          "data": {
            "text/plain": [
              "target\n",
              "0    165\n",
              "1    138\n",
              "Name: count, dtype: int64"
            ]
          },
          "metadata": {},
          "execution_count": 99
        }
      ],
      "source": [
        "'''Your code goes below here'''\n",
        "\n",
        "data['target'].value_counts()"
      ]
    },
    {
      "cell_type": "markdown",
      "metadata": {
        "id": "CsVUEWxHXNH1"
      },
      "source": [
        "**Your answer:** Thats pretty balanced imo"
      ]
    },
    {
      "cell_type": "markdown",
      "metadata": {
        "id": "zhn7Ji2xXNH2"
      },
      "source": [
        "### 1.7. If the dataset is imbalanced, can you name one possible solution to address it? (This question does not mean this dataset is balanced or imbalanced, it is an independent question)"
      ]
    },
    {
      "cell_type": "markdown",
      "metadata": {
        "id": "oJF7vDomXNH2"
      },
      "source": [
        "**Your answer:** SMOTE, create synthetic samples from instances in the smaller class to balance the larger class\n",
        "\n"
      ]
    },
    {
      "cell_type": "markdown",
      "metadata": {
        "id": "b2O11gYjXNH2"
      },
      "source": [
        "### 1.8. Now that we have our dataframe prepared, let's start analyzing our data. For this next question let's look at the correlations of our features to our target value. (hint: one possible approach you can use is corr() method from HW1)"
      ]
    },
    {
      "cell_type": "code",
      "execution_count": 100,
      "metadata": {
        "id": "V17nzhW-XNH2",
        "colab": {
          "base_uri": "https://localhost:8080/"
        },
        "outputId": "6b58f8fc-6763-41f7-feab-c18d42dac759"
      },
      "outputs": [
        {
          "output_type": "stream",
          "name": "stdout",
          "text": [
            "target      1.000000\n",
            "exang       0.436757\n",
            "oldpeak     0.430696\n",
            "ca          0.391724\n",
            "thal        0.344029\n",
            "sex         0.280937\n",
            "age         0.225439\n",
            "trestbps    0.144931\n",
            "chol        0.085239\n",
            "fbs         0.028046\n",
            "restecg    -0.137230\n",
            "slope      -0.345877\n",
            "thalach    -0.421741\n",
            "cp         -0.433798\n",
            "Name: target, dtype: float64\n"
          ]
        }
      ],
      "source": [
        "'''Your code goes below here'''\n",
        "\n",
        "print(data.corr()['target'].sort_values(ascending=False))"
      ]
    },
    {
      "cell_type": "markdown",
      "metadata": {
        "id": "uXj-rYO2XNH3"
      },
      "source": [
        "## [25pt] Part 2. Prepare the Data and run a KNN Model"
      ]
    },
    {
      "cell_type": "markdown",
      "metadata": {
        "id": "M9M2_3ZaXNH3"
      },
      "source": [
        "Before running our various learning methods, we need to do some additional preparation to finalize our data. We will save the label as a separate dataframe and split the dataset into training set and test set. Then, you wil prepare 2 batches of data: one is simply the raw data that hasn't gone through any additional pre-processing; the other will be the data after preprocessing. We will then feed both of these datasets into a classifier to showcase how important this step can be."
      ]
    },
    {
      "cell_type": "markdown",
      "metadata": {
        "id": "Nn4GrfrEXNH4"
      },
      "source": [
        "### 2.1. Save the label column as a separate array (let's name it as data_target) and then drop the label column from the dataframe."
      ]
    },
    {
      "cell_type": "code",
      "source": [
        "'''Your code goes below here'''\n",
        "# Hint: drop() (check HW1)\n",
        "\n",
        "data_target = data['target']\n",
        "del data['target']"
      ],
      "metadata": {
        "id": "-9Gr5cZeJioL"
      },
      "execution_count": 101,
      "outputs": []
    },
    {
      "cell_type": "markdown",
      "metadata": {
        "id": "aOhmb1QAXNH4"
      },
      "source": [
        "### 2.2. First Create your \"raw\" unprocessed training data by dividing your dataframe into training and testing cohorts, with your training cohort consisting of 80% of your total dataframe (hint: use the train_test_split method)"
      ]
    },
    {
      "cell_type": "code",
      "execution_count": 102,
      "metadata": {
        "id": "H34h6dkFXNH5"
      },
      "outputs": [],
      "source": [
        "train_raw, test_raw, target_raw, target_raw_test = train_test_split(data, data_target, test_size = 0.2, random_state = 30)"
      ]
    },
    {
      "cell_type": "markdown",
      "metadata": {
        "id": "KIC_923dXNH5"
      },
      "source": [
        "### 2.3. Output the resulting shapes of your training and testing samples to confirm that your split was successful. How many training samples and test samples do you have?"
      ]
    },
    {
      "cell_type": "code",
      "execution_count": 103,
      "metadata": {
        "id": "1eKCeZWdXNH5",
        "colab": {
          "base_uri": "https://localhost:8080/"
        },
        "outputId": "253634b4-5ac3-46e4-bd19-035b293af501"
      },
      "outputs": [
        {
          "output_type": "stream",
          "name": "stdout",
          "text": [
            "(242, 13) (242,)\n",
            "(61, 13) (61,)\n"
          ]
        }
      ],
      "source": [
        "print(train_raw.shape, target_raw.shape)\n",
        "print(test_raw.shape, target_raw_test.shape)"
      ]
    },
    {
      "cell_type": "markdown",
      "metadata": {
        "id": "TZkCrYlQD6fs"
      },
      "source": [
        "**Your answer:** 242 training, 61 testing"
      ]
    },
    {
      "cell_type": "markdown",
      "metadata": {
        "id": "aZQ0cdJVXNH5"
      },
      "source": [
        "### 2.4. In lecture we learned about K-Nearest Neighbor. One thing we noted was because KNN's rely on Euclidean distance, they are highly sensitive to the relative magnitude of different features. Let's see that in action! Implement a K-Nearest Neighbor algorithm on our data. For this initial implementation simply use the default setting (K=5). Refer to the [KNN Documentation](https://scikit-learn.org/stable/modules/generated/sklearn.neighbors.KNeighborsClassifier.html) for details on implementation. Report on the accuracy of the resulting model."
      ]
    },
    {
      "cell_type": "code",
      "execution_count": 104,
      "metadata": {
        "id": "RKxhsC3YXNH6",
        "colab": {
          "base_uri": "https://localhost:8080/"
        },
        "outputId": "903b9c3f-917a-433b-a0b4-e6f9331e7b69"
      },
      "outputs": [
        {
          "output_type": "stream",
          "name": "stdout",
          "text": [
            "0.39344262295081966\n"
          ]
        }
      ],
      "source": [
        "''' Hint:\n",
        "1.) create KNeighborsClassifier() object\n",
        "2.) fit data\n",
        "3.) use the predict() method to predict the test data, and assign to variable \"raw_predicted\" since we will use \"raw_predicted\" in below cells\n",
        "'''\n",
        "'''Your code goes below here'''\n",
        "\n",
        "knn = KNeighborsClassifier(n_neighbors=5)\n",
        "knn.fit(train_raw, target_raw)\n",
        "raw_predicted = knn.predict(test_raw)\n",
        "\n",
        "mse = metrics.mean_squared_error(target_raw_test, raw_predicted)\n",
        "print(mse)"
      ]
    },
    {
      "cell_type": "markdown",
      "metadata": {
        "id": "57cM958DXNH6"
      },
      "source": [
        "### 2.5. Print the accuracy, precision, recall, f1-score of the model, and draw the confusion matrix."
      ]
    },
    {
      "cell_type": "code",
      "execution_count": 105,
      "metadata": {
        "id": "9wMqVY0kXNH7",
        "colab": {
          "base_uri": "https://localhost:8080/",
          "height": 558
        },
        "outputId": "bc698668-663b-49f8-cc50-a923a3c433bc"
      },
      "outputs": [
        {
          "output_type": "stream",
          "name": "stdout",
          "text": [
            "Accuracy:    0.606557\n",
            "Precision:   0.500000\n",
            "Recall:      0.791667\n",
            "F1 Score:    0.612903\n"
          ]
        },
        {
          "output_type": "display_data",
          "data": {
            "text/plain": [
              "<Figure size 640x480 with 2 Axes>"
            ],
            "image/png": "[encoded data removed]"
          },
          "metadata": {}
        }
      ],
      "source": [
        "def print_four_metrics(target, predicted):\n",
        "    print(\"%-12s %f\" % ('Accuracy:', metrics.accuracy_score(target, predicted)))\n",
        "    print(\"%-12s %f\" % ('Precision:', metrics.precision_score(target, predicted, labels=None, pos_label=1, average='binary', sample_weight=None)))\n",
        "    print(\"%-12s %f\" % ('Recall:', metrics.recall_score(target, predicted, labels=None, pos_label=1, average='binary', sample_weight=None)))\n",
        "    print(\"%-12s %f\" % ('F1 Score:', metrics.f1_score(target, predicted, labels=None, pos_label=1, average='binary', sample_weight=None)))\n",
        "\n",
        "print_four_metrics(target_raw_test, raw_predicted)\n",
        "draw_confusion_matrix(target_raw_test, raw_predicted, ['Healthy', 'Sick'])"
      ]
    },
    {
      "cell_type": "markdown",
      "metadata": {
        "id": "euhRpTfGXNH7"
      },
      "source": [
        "### 2.6. Now try to improve k-NN's performance by data preprocessing. You can drop the top-1, or top-2, or top-3 useless features according to the correlation matrix we have obtained (the 1/2/3 features that are most negatively correlated with the label), normalize the numerical features, use one-hot encoding for the categorical features, etc. Please refer to HW1 for data preprocessing. Note you don't need to do data augmentation. Your f1-score need to be higher than 0.85 to get the full score for this question."
      ]
    },
    {
      "cell_type": "markdown",
      "metadata": {
        "id": "5fJ9CtNMXNH7"
      },
      "source": [
        "#### Pipeline / preprocessing process. Please name the data after preprocessing as \"improved_data\"."
      ]
    },
    {
      "cell_type": "code",
      "source": [
        "'''Hint: As long as you follow all the strategies in the above instructions, your f1-score will be higher than 0.85.'''\n",
        "'''Your code goes below here'''\n",
        "\n",
        "# Pipeline / preprocessing process. Please name the data after preprocessing as \"improved_data\".\n",
        "\n",
        "\n",
        "\n",
        "numerical_features = ['age', 'trestbps', 'chol', 'thalach', 'oldpeak']\n",
        "categorical_features = ['sex', 'cp', 'fbs', 'restecg', 'exang', 'slope', 'ca', 'thal']\n",
        "\n",
        "from sklearn.preprocessing import OneHotEncoder\n",
        "from sklearn.preprocessing import StandardScaler\n",
        "from sklearn.compose import ColumnTransformer\n",
        "\n",
        "\n",
        "useless_features = ['fbs']\n",
        "improved_data = data.drop(useless_features, axis = 1)\n",
        "\n",
        "for useless_feature in useless_features:\n",
        "    if useless_feature in numerical_features:\n",
        "        numerical_features.remove(useless_feature)\n",
        "    elif useless_feature in categorical_features:\n",
        "        categorical_features.remove(useless_feature)\n",
        "\n",
        "full_pipeline = ColumnTransformer([\n",
        "    ('num', StandardScaler(), numerical_features),\n",
        "    ('cat', OneHotEncoder(categories='auto'), categorical_features)\n",
        "])\n",
        "\n",
        "improved_data = full_pipeline.fit_transform(improved_data)"
      ],
      "metadata": {
        "id": "ar3tAO8FVYrh"
      },
      "execution_count": 106,
      "outputs": []
    },
    {
      "cell_type": "markdown",
      "metadata": {
        "id": "K8DEZBqkXNH7"
      },
      "source": [
        "#### take a look at your prepared data"
      ]
    },
    {
      "cell_type": "code",
      "execution_count": 107,
      "metadata": {
        "id": "VT_rt86CXNH8",
        "colab": {
          "base_uri": "https://localhost:8080/"
        },
        "outputId": "4ad521f8-919d-4836-dcc8-3bb3d556ea2c"
      },
      "outputs": [
        {
          "output_type": "execute_result",
          "data": {
            "text/plain": [
              "(303, 28)"
            ]
          },
          "metadata": {},
          "execution_count": 107
        }
      ],
      "source": [
        "improved_data.shape"
      ]
    },
    {
      "cell_type": "markdown",
      "metadata": {
        "id": "FE8IPNcOXNH8"
      },
      "source": [
        "### 2.7. Now split your pipelined data into an 80/20 split and again run the same KNN, draw the same confusion matrix. Discuss how you improved the performance."
      ]
    },
    {
      "cell_type": "markdown",
      "metadata": {
        "id": "NOpjIgPyXNH8"
      },
      "source": [
        "#### Split your data"
      ]
    },
    {
      "cell_type": "code",
      "execution_count": 108,
      "metadata": {
        "id": "Jh_pUWvgXNH8"
      },
      "outputs": [],
      "source": [
        "train, test, target, target_test = train_test_split(improved_data, data_target, test_size = 0.2, random_state = 30)"
      ]
    },
    {
      "cell_type": "markdown",
      "metadata": {
        "id": "qL3GcREcXNH8"
      },
      "source": [
        "#### Run KNN as before. Do not change the default k=5 in k-NN."
      ]
    },
    {
      "cell_type": "code",
      "execution_count": 109,
      "metadata": {
        "id": "2I8r-Uf_XNH9"
      },
      "outputs": [],
      "source": [
        "''' Hint:\n",
        "1.) create KNeighborsClassifier() object\n",
        "2.) fit data\n",
        "3.) use the predict() method to predict the test data, and assign to variable \"predicted\" since we will use \"predicted\" in below cells\n",
        "'''\n",
        "'''Your code goes below here'''\n",
        "\n",
        "knn = KNeighborsClassifier(n_neighbors=5)\n",
        "knn.fit(train, target)\n",
        "predicted = knn.predict(test)"
      ]
    },
    {
      "cell_type": "markdown",
      "metadata": {
        "id": "-qgBPqvUD6fx"
      },
      "source": [
        "#### Report accuracy, precision, recall, f1-score, and draw the confusion matrix as before"
      ]
    },
    {
      "cell_type": "code",
      "execution_count": 110,
      "metadata": {
        "id": "yHl1nid0ahcV",
        "colab": {
          "base_uri": "https://localhost:8080/",
          "height": 558
        },
        "outputId": "46402929-3e64-4503-fa5f-35fbf426f736"
      },
      "outputs": [
        {
          "output_type": "stream",
          "name": "stdout",
          "text": [
            "Accuracy:    0.918033\n",
            "Precision:   0.880000\n",
            "Recall:      0.916667\n",
            "F1 Score:    0.897959\n"
          ]
        },
        {
          "output_type": "display_data",
          "data": {
            "text/plain": [
              "<Figure size 640x480 with 2 Axes>"
            ],
            "image/png": "[encoded data removed]"
          },
          "metadata": {}
        }
      ],
      "source": [
        "print_four_metrics(target_test, predicted)\n",
        "draw_confusion_matrix(target_test, predicted, ['Healthy', 'Sick'])"
      ]
    },
    {
      "cell_type": "markdown",
      "metadata": {
        "id": "HXrtGXCrXNH9"
      },
      "source": [
        "**Your answer:** [Explain what strategies you used to improve the performance]"
      ]
    },
    {
      "cell_type": "markdown",
      "metadata": {
        "id": "uBt8ToBSXNH-"
      },
      "source": [
        "### 2.8. Model Selection on K.  As discussed in class, the KNN Algorithm includes an n_neighbors (k) attribute that specifies how many neighbors to use when developing the cluster. (The default value is 5, which is what your previous model used.) Lets now try n_neighbors (k) values of: 1, 2, 3, 5, 7, 9, 10, 20, and 200. Run your model for each value and print the f1-score for each. What is the best k among these choices?"
      ]
    },
    {
      "cell_type": "code",
      "execution_count": 111,
      "metadata": {
        "id": "xFJPujbdXNH-",
        "colab": {
          "base_uri": "https://localhost:8080/"
        },
        "outputId": "409b99fa-a8b0-43ae-9b01-5d513bd81bef"
      },
      "outputs": [
        {
          "output_type": "stream",
          "name": "stdout",
          "text": [
            "k = 1, f1-score = 0.695652\n",
            "k = 2, f1-score = 0.702703\n",
            "k = 3, f1-score = 0.846154\n",
            "k = 5, f1-score = 0.897959\n",
            "k = 7, f1-score = 0.857143\n",
            "k = 9, f1-score = 0.840000\n",
            "k = 10, f1-score = 0.816327\n",
            "k = 20, f1-score = 0.840000\n",
            "k = 200, f1-score = 0.750000\n"
          ]
        }
      ],
      "source": [
        "k_values = [1, 2, 3, 5, 7, 9, 10, 20, 200]\n",
        "\n",
        "for k in k_values:\n",
        "    # Hint: when creating the KNN object, assign parameter \"n_neighbors\" to k\n",
        "    # referece: https://scikit-learn.org/stable/modules/generated/sklearn.neighbors.KNeighborsClassifier.html\n",
        "    # Hint: you only need to print the f1-score. You do not need to print other metrics. You can use the improved_data after your preprocessing\n",
        "    '''Your code goes below here'''\n",
        "    knn = KNeighborsClassifier(n_neighbors=k)\n",
        "    knn.fit(train, target)\n",
        "    predicted = knn.predict(test)\n",
        "    print(\"k = %d, f1-score = %f\" % (k, metrics.f1_score(target_test, predicted, labels=None, pos_label=1, average='binary', sample_weight=None)))"
      ]
    },
    {
      "cell_type": "markdown",
      "metadata": {
        "id": "dyqeEoAFD6fy"
      },
      "source": [
        "**Your answer:**"
      ]
    },
    {
      "cell_type": "markdown",
      "metadata": {
        "id": "_7iqIU64XNH-"
      },
      "source": [
        "## [45pt] Part 3. Additional Learning Methods"
      ]
    },
    {
      "cell_type": "markdown",
      "metadata": {
        "id": "DWvtbg9HXNH-"
      },
      "source": [
        "So we have a model that seems to work well. But let's see if we can do better! You can continue using the data you preprocessed."
      ]
    },
    {
      "cell_type": "markdown",
      "metadata": {
        "id": "vvJdjHa_XNH_"
      },
      "source": [
        "### [25pt] 3.1. Logistic Regression"
      ]
    },
    {
      "cell_type": "markdown",
      "metadata": {
        "id": "P-B2oidUXNH_"
      },
      "source": [
        "Let's now try another classifier we introduced in lecture, one that's well known for handling linear models: Logistic Regression."
      ]
    },
    {
      "cell_type": "markdown",
      "metadata": {
        "id": "Brk8-ivaXNIA"
      },
      "source": [
        "### 3.1.1. Implement a logistical regression classifier. Review the [Logistical Regression Documentation](https://scikit-learn.org/stable/modules/generated/sklearn.linear_model.LogisticRegression.html) for how to implement the model. Print accuracy, precision, recall, f1-score, plot the ROC curve, and report the area under the ROC curve."
      ]
    },
    {
      "cell_type": "code",
      "execution_count": 112,
      "metadata": {
        "id": "_fw7xKryXNIA"
      },
      "outputs": [],
      "source": [
        "'''\n",
        "1.) create LogisticRegression() object\n",
        "2.) fit your train data\n",
        "3.) use the predict() method to predict the test data, and assign to variable \"log_predicted\"\n",
        "4.) use predict_proba(test)[:,1] and assign to variable \"log_score\"\n",
        "  NOTE: predict() returns the predicted classification (0 or 1),\n",
        "  while predict_proba() returns the predicted probability (a float between 0 and 1)\n",
        "  NOTE: predict_proba() will return\n",
        "  [probability of data belonging to class 0, probability of data belonging to class 1]\n",
        "  and we want to get probability of data belonging to class 1. That's why we slice\n",
        "  the array by only getting the column 1\n",
        "'''\n",
        "'''Your code goes below here'''\n",
        "\n",
        "# import LogisticRegression\n",
        "from sklearn.linear_model import LogisticRegression\n",
        "\n",
        "log_model = LogisticRegression()\n",
        "log_model.fit(train, target)\n",
        "log_predicted = log_model.predict(test)\n",
        "log_score = log_model.predict_proba(test)[:,1]\n"
      ]
    },
    {
      "cell_type": "code",
      "execution_count": 113,
      "metadata": {
        "id": "NIM0qoO3XNIB",
        "colab": {
          "base_uri": "https://localhost:8080/",
          "height": 561
        },
        "outputId": "bcbf3cda-39d6-4104-8ef2-dde9a0b5717a"
      },
      "outputs": [
        {
          "output_type": "stream",
          "name": "stdout",
          "text": [
            "Accuracy:    0.901639\n",
            "Precision:   0.821429\n",
            "Recall:      0.958333\n",
            "F1 Score:    0.884615\n"
          ]
        },
        {
          "output_type": "display_data",
          "data": {
            "text/plain": [
              "<Figure size 640x480 with 1 Axes>"
            ],
            "image/png": "[encoded data removed]"
          },
          "metadata": {}
        },
        {
          "output_type": "stream",
          "name": "stdout",
          "text": [
            "AUC of ROC:  0.9515765765765766\n"
          ]
        }
      ],
      "source": [
        "# Print the performance, plot the ROC curve, and print the area under ROC\n",
        "def plot_roc_curve(target, score):\n",
        "    fpr_log_reg, tpr_log_reg, thresholds = metrics.roc_curve(target, score)\n",
        "    plt.figure(1)\n",
        "    plt.plot(fpr_log_reg, tpr_log_reg, color='orange', lw=1)\n",
        "    plt.title(\"ROC curve with Logistic Regression\")\n",
        "    plt.xlabel('FPR')\n",
        "    plt.ylabel('TPR')\n",
        "    plt.show()\n",
        "    # Print the area under ROC, which is also called \"AUC (Area Under the ROC curve)\"\n",
        "    aucroc = metrics.auc(fpr_log_reg, tpr_log_reg)\n",
        "    print('AUC of ROC: ', aucroc)\n",
        "\n",
        "print_four_metrics(target_test, log_predicted)\n",
        "plot_roc_curve(target_test, log_score)"
      ]
    },
    {
      "cell_type": "markdown",
      "metadata": {
        "id": "98zo095zXNIB"
      },
      "source": [
        "### 3.1.2. Let's tweak a few settings. The default model is using the L2-regularization (ridge). Let's set penalty to None and rerun your model. Let's see how your results change!"
      ]
    },
    {
      "cell_type": "code",
      "execution_count": 114,
      "metadata": {
        "id": "2IGnInZOXNIC"
      },
      "outputs": [],
      "source": [
        "'''\n",
        "1.) create LogisticRegression() object, while specify its parameter \"penalty\" to None\n",
        "2.) fit your train data\n",
        "3.) use the predict() method to predict the test data, and assign to variable \"log_predicted\"\n",
        "4.) use predict_proba(test)[:,1] and assign to variable \"log_score\"\n",
        "'''\n",
        "'''Your code goes below here'''\n",
        "\n",
        "from sklearn.linear_model import LogisticRegression\n",
        "\n",
        "log_model = LogisticRegression(penalty=None)\n",
        "log_model.fit(train, target)\n",
        "log_predicted = log_model.predict(test)\n",
        "log_score = log_model.predict_proba(test)[:,1]"
      ]
    },
    {
      "cell_type": "code",
      "execution_count": 115,
      "metadata": {
        "id": "iZ3DNvaYXNIC",
        "colab": {
          "base_uri": "https://localhost:8080/"
        },
        "outputId": "2eebf6e2-8baa-432f-f742-6eb8466e7b0f"
      },
      "outputs": [
        {
          "output_type": "stream",
          "name": "stdout",
          "text": [
            "Accuracy:    0.885246\n",
            "Precision:   0.793103\n",
            "Recall:      0.958333\n",
            "F1 Score:    0.867925\n"
          ]
        }
      ],
      "source": [
        "# Print accuracy, precision, recall, and F1 score\n",
        "print_four_metrics(target_test, log_predicted)"
      ]
    },
    {
      "cell_type": "code",
      "execution_count": 116,
      "metadata": {
        "id": "DojefdaJXNIC",
        "colab": {
          "base_uri": "https://localhost:8080/",
          "height": 490
        },
        "outputId": "f438b88b-0753-420c-9ce2-aaa0f628ab05"
      },
      "outputs": [
        {
          "output_type": "display_data",
          "data": {
            "text/plain": [
              "<Figure size 640x480 with 1 Axes>"
            ],
            "image/png": "[encoded data removed]"
          },
          "metadata": {}
        },
        {
          "output_type": "stream",
          "name": "stdout",
          "text": [
            "AUC of ROC:  0.9594594594594595\n"
          ]
        }
      ],
      "source": [
        "# Plot ROC curve and print the area under ROC\n",
        "plot_roc_curve(target_test, log_score)"
      ]
    },
    {
      "cell_type": "markdown",
      "metadata": {
        "id": "_-sbzd6eXNIC"
      },
      "source": [
        "### 3.1.3 Rerun your logistic classifier, but modify the penalty = 'l1', solver = 'liblinear', and again report the results."
      ]
    },
    {
      "cell_type": "code",
      "execution_count": 117,
      "metadata": {
        "id": "D3CmXqHHXNID",
        "colab": {
          "base_uri": "https://localhost:8080/",
          "height": 561
        },
        "outputId": "a5b621b3-22dc-4d6e-b2d6-c62a63aceba5"
      },
      "outputs": [
        {
          "output_type": "stream",
          "name": "stdout",
          "text": [
            "Accuracy:    0.885246\n",
            "Precision:   0.793103\n",
            "Recall:      0.958333\n",
            "F1 Score:    0.867925\n"
          ]
        },
        {
          "output_type": "display_data",
          "data": {
            "text/plain": [
              "<Figure size 640x480 with 1 Axes>"
            ],
            "image/png": "[encoded data removed]"
          },
          "metadata": {}
        },
        {
          "output_type": "stream",
          "name": "stdout",
          "text": [
            "AUC of ROC:  0.9470720720720721\n"
          ]
        }
      ],
      "source": [
        "''' repeat the same process as 3.1.3 but change parameters as the question specifies'''\n",
        "'''Your code goes below here'''\n",
        "# Run logistic regression here\n",
        "\n",
        "log_model = LogisticRegression(penalty='l1', solver='liblinear')\n",
        "log_model.fit(train, target)\n",
        "log_predicted = log_model.predict(test)\n",
        "log_score = log_model.predict_proba(test)[:,1]\n",
        "\n",
        "# Print accuracy, precision, recall, and F1-score. Feel free to use the print_four_metrics function\n",
        "\n",
        "print_four_metrics(target_test, log_predicted)\n",
        "\n",
        "# Plot ROC curve and print the area under ROC. Feel free to use the plot_roc_curve function\n",
        "\n",
        "plot_roc_curve(target_test, log_score)\n",
        "\n",
        "# fpr_log_reg, tpr_log_reg, thresholds = metrics.roc_curve(target_test, log_score)\n",
        "\n",
        "# area = metrics.auc(fpr_log_reg, tpr_log_reg)\n",
        "# print('AUC of ROC: ', area)\n"
      ]
    },
    {
      "cell_type": "markdown",
      "metadata": {
        "id": "_QYPIbXQXNID"
      },
      "source": [
        "###  3.1.4. We played around with different penalty terms (none, L1 etc.) Print the parameters of your model that uses the L1-norm (LASSO). Describe the purpose of using a penalty term. (Whether it improves your results depend on your preprocessing, so it is fine if it does not improve your results)"
      ]
    },
    {
      "cell_type": "code",
      "execution_count": 118,
      "metadata": {
        "id": "EFlnXmBMXNID",
        "colab": {
          "base_uri": "https://localhost:8080/"
        },
        "outputId": "45f813c0-2c12-40b9-b13f-bc07bb57fa6e"
      },
      "outputs": [
        {
          "output_type": "stream",
          "name": "stdout",
          "text": [
            "[[-0.04046606  0.21840919  0.20880612 -0.27239723  0.51728686 -0.1390342\n",
            "   0.97479951  1.2651916   0.17319946 -0.62274487 -0.47380109  0.\n",
            "  -0.16873098  0.          0.          0.50546052  0.          0.2210572\n",
            "  -0.78227566 -1.72631568  0.          0.2459643   0.          0.\n",
            "   0.          0.         -0.45175845  0.88474912]]\n"
          ]
        }
      ],
      "source": [
        "# Hint: Use print(your_model_name.coef_) to print the parameters of your model.\n",
        "# Do you see any zero? Those are related to the penalty term.\n",
        "'''Your code goes below here'''\n",
        "\n",
        "print(log_model.coef_)\n"
      ]
    },
    {
      "cell_type": "markdown",
      "metadata": {
        "id": "WriGeLtSXNID"
      },
      "source": [
        "**Your answer:** yes i see some zeros"
      ]
    },
    {
      "cell_type": "markdown",
      "metadata": {
        "id": "qx89pWRLXNIE"
      },
      "source": [
        "### [20pt] 3.2. SVM (Support Vector Machine)"
      ]
    },
    {
      "cell_type": "markdown",
      "metadata": {
        "id": "mOMAEmShXNIE"
      },
      "source": [
        "A Support Vector Machine (SVM) is a discriminative classifier formally defined by a separating hyperplane. Given labeled training data (supervised learning), the algorithm outputs an optimal hyperplane to classify the data. In two dimentional space this hyperplane is a line."
      ]
    },
    {
      "cell_type": "markdown",
      "metadata": {
        "id": "gr0AGpavXNIF"
      },
      "source": [
        "### 3.2.1 Implement a Support Vector Machine classifier on your pipelined data. Review the [SVM Documentation](https://scikit-learn.org/stable/modules/generated/sklearn.svm.SVC.html) for how to implement a model. For this implementation you can simply use the default settings, but set probability = True."
      ]
    },
    {
      "cell_type": "code",
      "execution_count": 119,
      "metadata": {
        "id": "1spdtl7oXNIG"
      },
      "outputs": [],
      "source": [
        "'''\n",
        "1.) create SVC() object, while specify its parameter \"probability\" to \"True\"\n",
        "2.) fit your train data\n",
        "3.) predict the test data. and assign to a variable\n",
        "  because we will use it in the next cell\n",
        "4.) use svm.predict_proba(test)[:,1] and assign to a variable\n",
        "  bacause we will use it in the next cell\n",
        "'''\n",
        "'''Your code goes below here'''\n",
        "\n",
        "from sklearn.svm import SVC\n",
        "\n",
        "svm_model = SVC(probability=True)\n",
        "svm_model.fit(train, target)\n",
        "svm_predicted = svm_model.predict(test)\n",
        "svm_score = svm_model.predict_proba(test)[:,1]\n"
      ]
    },
    {
      "cell_type": "markdown",
      "metadata": {
        "id": "pGfIBazWXNIG"
      },
      "source": [
        "### 3.2.2 Print the accuracy, precision, recall, F1 Score, plot the ROC curve, and print and the area under ROC Curve of the resulting model."
      ]
    },
    {
      "cell_type": "code",
      "execution_count": 120,
      "metadata": {
        "id": "ivAB6kkPXNIG",
        "colab": {
          "base_uri": "https://localhost:8080/",
          "height": 561
        },
        "outputId": "812d56f6-7341-4248-a398-099e7c01cea4"
      },
      "outputs": [
        {
          "output_type": "stream",
          "name": "stdout",
          "text": [
            "Accuracy:    0.836066\n",
            "Precision:   0.750000\n",
            "Recall:      0.875000\n",
            "F1 Score:    0.807692\n"
          ]
        },
        {
          "output_type": "display_data",
          "data": {
            "text/plain": [
              "<Figure size 640x480 with 1 Axes>"
            ],
            "image/png": "[encoded data removed]"
          },
          "metadata": {}
        },
        {
          "output_type": "stream",
          "name": "stdout",
          "text": [
            "AUC of ROC:  0.9403153153153153\n"
          ]
        }
      ],
      "source": [
        "# Feel free to use print_four_metrics and plot_roc_curve functions\n",
        "'''Your code goes below here'''\n",
        "\n",
        "print_four_metrics(target_test, svm_predicted)\n",
        "plot_roc_curve(target_test, svm_score)"
      ]
    },
    {
      "cell_type": "markdown",
      "metadata": {
        "id": "4xJevqNvXNIH"
      },
      "source": [
        "### 3.2.3.  Rerun your SVM, but now modify the kernel to 'linear'. Again print your accuracy, precision, recall, F1-score, plot the new ROC curve, and report the area under the ROC curve."
      ]
    },
    {
      "cell_type": "code",
      "execution_count": 121,
      "metadata": {
        "id": "PMD7ZATxXNIH"
      },
      "outputs": [],
      "source": [
        "# run SVM\n",
        "'''\n",
        "1.) create SVC() object like 3.2.2, but change parameter 'kernel' to 'linear' as the question specifies\n",
        "2.) fit your train data\n",
        "3.) predict the test data. and assign to a variable\n",
        "  because we will use it in below cell\n",
        "4.) use svm.predict_proba(test)[:,1] and assign to a variable\n",
        "  bacause we will use it in below cell\n",
        "'''\n",
        "'''Your code goes below here'''\n",
        "\n",
        "from sklearn.svm import SVC\n",
        "\n",
        "svm_model = SVC(kernel='linear', probability=True)\n",
        "svm_model.fit(train, target)\n",
        "svm_predicted = svm_model.predict(test)"
      ]
    },
    {
      "cell_type": "code",
      "execution_count": 122,
      "metadata": {
        "id": "Z9-S1O-OXNII",
        "colab": {
          "base_uri": "https://localhost:8080/",
          "height": 561
        },
        "outputId": "5d8af61f-d5c8-482f-a47c-562f9f6b40c4"
      },
      "outputs": [
        {
          "output_type": "stream",
          "name": "stdout",
          "text": [
            "Accuracy:    0.868852\n",
            "Precision:   0.766667\n",
            "Recall:      0.958333\n",
            "F1 Score:    0.851852\n"
          ]
        },
        {
          "output_type": "display_data",
          "data": {
            "text/plain": [
              "<Figure size 640x480 with 1 Axes>"
            ],
            "image/png": "[encoded data removed]"
          },
          "metadata": {}
        },
        {
          "output_type": "stream",
          "name": "stdout",
          "text": [
            "AUC of ROC:  0.9403153153153153\n"
          ]
        }
      ],
      "source": [
        "''' repeat the same process as 3.2.2'''\n",
        "'''Your code goes below here'''\n",
        "\n",
        "print_four_metrics(target_test, svm_predicted)\n",
        "plot_roc_curve(target_test, svm_score)"
      ]
    },
    {
      "cell_type": "markdown",
      "metadata": {
        "id": "7ZaTENq6D6fz"
      },
      "source": [
        "#### Comparing the default kernel (\"rbf\") and the \"linear\" kernel, which one is better? You can look up the [SVM kernel's documentation](https://scikit-learn.org/stable/auto_examples/svm/plot_svm_kernels.html#sphx-glr-auto-examples-svm-plot-svm-kernels-py). Is the decision boundary more like a linear hyperplane or a circle? (You can just draw the conclusion from which kernel is better)"
      ]
    },
    {
      "cell_type": "markdown",
      "metadata": {
        "id": "8d0pW1hSD6fz"
      },
      "source": [
        "**Your answer:** The better kernel is Linear, they both seem to have the exact same AUC, but the linear kernel has a significantly higher F1 score."
      ]
    },
    {
      "cell_type": "markdown",
      "metadata": {
        "id": "jnajoFPIXNII"
      },
      "source": [
        "## [10pt + bonus 10pt] Part 4: Cross Validation and Model Selection"
      ]
    },
    {
      "cell_type": "markdown",
      "metadata": {
        "id": "Tyy0SM1sXNIJ"
      },
      "source": [
        "You have practiced a number of different classification techniques. Based on these experiments you should have settled on a particular model that performs most optimally on the chosen dataset.\n",
        "\n",
        "Before our work is done though, we want to ensure that our results are not the result of the random sampling of our data we did with the train-test split. We will conduct a k-fold cross-validation of our top two performing models, assess their cumulative performance across folds, and determine the best model for this dataset."
      ]
    },
    {
      "cell_type": "markdown",
      "metadata": {
        "id": "2QPgGP5TXNIJ"
      },
      "source": [
        "### [10pt] 4.1. Select your top 2 performing models and run a K-Fold Cross Validation on both (use 10 folds). Replace the corresponding code in the cell below. Report your best performing model. You can use accuracy to select the best-performing model."
      ]
    },
    {
      "cell_type": "code",
      "execution_count": 135,
      "metadata": {
        "id": "AeLheTOGXNIJ",
        "colab": {
          "base_uri": "https://localhost:8080/"
        },
        "outputId": "386cbbd3-bf58-486a-d6c4-11bce3170130"
      },
      "outputs": [
        {
          "output_type": "stream",
          "name": "stdout",
          "text": [
            "For Logistic Regression our mean accuracy across folds is: 84.23%\n",
            "For an SVM Regression our mean accuracy across folds is: 84.23%\n"
          ]
        }
      ],
      "source": [
        "from sklearn import model_selection\n",
        "\n",
        "# First we define our cross-validation model parameters. In this case we're going to use KFold, with 10 splits\n",
        "# where we first shuffle our data before splitting it, and use a random seed to ensure a consistent repeatable shuffle\n",
        "kfold = model_selection.KFold(n_splits=10, random_state=42, shuffle=True)\n",
        "\n",
        "# replace the two models below with what you picked\n",
        "log_model_kfold = LogisticRegression(solver=\"liblinear\")\n",
        "svc_model_kfold = SVC(probability = True)\n",
        "\n",
        "# Finally we pull it all together. We call cross val score to generate an accuracy performance score for our model\n",
        "# we define our learning model, data, labels, and cross-val splitting strategy (all defined previously)\n",
        "log_results_kfold = model_selection.cross_val_score(log_model_kfold, train, target, cv=kfold)\n",
        "svc_results_kfold = model_selection.cross_val_score(svc_model_kfold, train, target, cv=kfold)\n",
        "\n",
        "# Because we're collecting results from all runs, we take the mean value\n",
        "print(\"For Logistic Regression our mean accuracy across folds is: %.2f%%\" % (log_results_kfold.mean() * 100.0))\n",
        "print(\"For an SVM Regression our mean accuracy across folds is: %.2f%%\" % (svc_results_kfold.mean() * 100.0))"
      ]
    },
    {
      "cell_type": "markdown",
      "metadata": {
        "id": "9dRvgdjjXNIK"
      },
      "source": [
        "**Your answer:** best accuracy of 84.23% from Logistic Regression. `LogisticRegression(solver='liblinear')`"
      ]
    },
    {
      "cell_type": "markdown",
      "metadata": {
        "id": "TrjTZGxjXNIK"
      },
      "source": [
        "### [bonus 10pt] 4.2. use 10-fold cross validation to select the best hyperparameter $\\lambda$ (1/C) in logistic regression with l2 penalty. What is the best $\\lambda$ you find?"
      ]
    },
    {
      "cell_type": "code",
      "execution_count": 152,
      "metadata": {
        "id": "pbZ3MgGvXNIK",
        "colab": {
          "base_uri": "https://localhost:8080/"
        },
        "outputId": "862569d3-797c-41fe-9ccd-6a9bf6241140"
      },
      "outputs": [
        {
          "output_type": "stream",
          "name": "stdout",
          "text": [
            "For lambda = 0.001000 our mean accuracy across folds is: 81.75%\n",
            "For lambda = 0.010000 our mean accuracy across folds is: 82.57%\n",
            "For lambda = 0.100000 our mean accuracy across folds is: 83.00%\n",
            "For lambda = 1.000000 our mean accuracy across folds is: 84.23%\n",
            "For lambda = 10.000000 our mean accuracy across folds is: 83.40%\n",
            "For lambda = 100.000000 our mean accuracy across folds is: 82.18%\n"
          ]
        }
      ],
      "source": [
        "'''\n",
        "  This is similar to 4.1\n",
        "  Hint: create a bunch of lambdas value\n",
        "  then you can use a loop,\n",
        "  assign parameter \"C\" to be \"1 / (lambda)\"\n",
        "  and print out cross_val_score().\n",
        "  Also, specify which lambda is the best one in your opinion\n",
        "'''\n",
        "'''Your code goes below here'''\n",
        "\n",
        "lambdas = [0.001, 0.01, 0.1, 1, 10, 100]\n",
        "\n",
        "kfold = model_selection.KFold(n_splits=10, random_state=42, shuffle=True)\n",
        "\n",
        "for lambda_ in lambdas:\n",
        "    log_model_kfold = LogisticRegression(C=1/lambda_, max_iter=1000)\n",
        "    log_results_kfold = model_selection.cross_val_score(log_model_kfold, train, target, cv=kfold)\n",
        "    print(\"For lambda = %f our mean accuracy across folds is: %.2f%%\" % (lambda_, log_results_kfold.mean() * 100.0))\n",
        "\n"
      ]
    },
    {
      "cell_type": "markdown",
      "metadata": {
        "id": "2pC1EDIID6f0"
      },
      "source": [
        "**Your answer:** Best accuracy of 84.23% when lambda is 1"
      ]
    }
  ],
  "metadata": {
    "colab": {
      "provenance": []
    },
    "kernelspec": {
      "display_name": "Python 3",
      "language": "python",
      "name": "python3"
    },
    "language_info": {
      "codemirror_mode": {
        "name": "ipython",
        "version": 3
      },
      "file_extension": ".py",
      "mimetype": "text/x-python",
      "name": "python",
      "nbconvert_exporter": "python",
      "pygments_lexer": "ipython3",
      "version": "3.11.5"
    }
  },
  "nbformat": 4,
  "nbformat_minor": 0
}